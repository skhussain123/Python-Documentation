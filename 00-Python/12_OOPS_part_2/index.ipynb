{
 "cells": [
  {
   "cell_type": "markdown",
   "id": "c43afc7c",
   "metadata": {},
   "source": [
    "## **Python Class and Objects**"
   ]
  },
  {
   "cell_type": "markdown",
   "id": "7b7ba95c",
   "metadata": {},
   "source": [
    "A class is a blueprint or a template for creating objects, providing initial values for state (member variables or attributes), and implementations of behavior (member functions or methods). The user-defined objects are created using the class keyword."
   ]
  },
  {
   "cell_type": "markdown",
   "id": "21ca2b9c",
   "metadata": {},
   "source": [
    "* class\n",
    "  * method\n",
    "    * first argument must be additional variables (self)\n",
    "  * attribute\n",
    "  * class variables\n",
    "  * constructors\n",
    "    * def ```__init__```"
   ]
  },
  {
   "cell_type": "markdown",
   "id": "e372b339",
   "metadata": {},
   "source": [
    "#### **Creating a Class:**\n",
    "Let us now create a class using the class keyword."
   ]
  },
  {
   "cell_type": "code",
   "execution_count": 2,
   "id": "b4ec229d",
   "metadata": {},
   "outputs": [],
   "source": [
    "class Details:\n",
    "    name = \"Rohan\"\n",
    "    age = 20"
   ]
  },
  {
   "cell_type": "markdown",
   "id": "c902d04a",
   "metadata": {},
   "source": [
    "**Creating an Object:**\n",
    "\n",
    "Object is the instance of the class used to access the properties of the class Now lets create an object of the class.\n",
    "\n",
    "**Example:**"
   ]
  },
  {
   "cell_type": "code",
   "execution_count": 3,
   "id": "57937059",
   "metadata": {},
   "outputs": [],
   "source": [
    "obj1 = Details()"
   ]
  },
  {
   "cell_type": "markdown",
   "id": "c5d427b3",
   "metadata": {},
   "source": [
    "**Example**"
   ]
  },
  {
   "cell_type": "code",
   "execution_count": 4,
   "id": "915e9174",
   "metadata": {},
   "outputs": [
    {
     "name": "stdout",
     "output_type": "stream",
     "text": [
      "Rohan\n",
      "20\n"
     ]
    }
   ],
   "source": [
    "class Details:\n",
    "    name = \"Rohan\"\n",
    "    age = 20\n",
    "\n",
    "obj1 = Details()\n",
    "print(obj1.name)\n",
    "print(obj1.age)"
   ]
  },
  {
   "cell_type": "markdown",
   "id": "1a481db2",
   "metadata": {},
   "source": [
    "### **Class With Constructor**"
   ]
  },
  {
   "cell_type": "markdown",
   "id": "7c39ba0c",
   "metadata": {},
   "source": [
    "* self is a reference to the current object (instance) of the class.\n",
    "* It is used inside class methods to access or modify the attributes and methods of the object."
   ]
  },
  {
   "cell_type": "code",
   "execution_count": 27,
   "id": "acc77909",
   "metadata": {},
   "outputs": [
    {
     "name": "stdout",
     "output_type": "stream",
     "text": [
      "1001 hussain\n",
      "Karachi\n",
      "sir waqar\n"
     ]
    }
   ],
   "source": [
    "class MyClass:\n",
    "    \n",
    "    def __init__(self, std_id :int , std_name:str) -> None:\n",
    "        self.student_id = std_id\n",
    "        self.student_name = std_name\n",
    "    \n",
    "    \n",
    "    def student(self, std_city):\n",
    "        \n",
    "        self.std_city = std_city \n",
    "        return self.std_city\n",
    "    \n",
    "    def teacher(self, teacher_name):\n",
    "        \n",
    "        self.teacher_name = teacher_name \n",
    "        return self.teacher_name\n",
    "\n",
    "         \n",
    "obj1 = MyClass(1001,'hussain'); \n",
    "print(obj1.student_id,obj1.student_name)    \n",
    "print(obj1.student(\"Karachi\"))\n",
    "print(obj1.teacher(\"sir waqar\"))\n",
    "\n",
    "\n",
    "\n",
    "# dir(obj1) "
   ]
  },
  {
   "cell_type": "markdown",
   "id": "8be7fd59",
   "metadata": {},
   "source": [
    "### 🔹 What is a Constructor in Python?"
   ]
  },
  {
   "cell_type": "markdown",
   "id": "16717a1a",
   "metadata": {},
   "source": [
    "A constructor is a special method used to automatically initialize an object when it is created from a class."
   ]
  },
  {
   "cell_type": "code",
   "execution_count": 28,
   "id": "571055b0",
   "metadata": {},
   "outputs": [
    {
     "name": "stdout",
     "output_type": "stream",
     "text": [
      "Ali 20\n"
     ]
    }
   ],
   "source": [
    "class Student:\n",
    "    def __init__(self, name, age):\n",
    "        self.name = name\n",
    "        self.age = age\n",
    "\n",
    "s1 = Student(\"Ali\", 20)  # constructor is automatically called\n",
    "print(s1.name, s1.age)   # Output: Ali 20\n"
   ]
  },
  {
   "cell_type": "markdown",
   "id": "50d2aa23",
   "metadata": {},
   "source": [
    "### 🔹 Types of Constructors in Python:\n"
   ]
  },
  {
   "cell_type": "markdown",
   "id": "784d7bb9",
   "metadata": {},
   "source": [
    "1. Default Constructor<br>\n",
    "A constructor with no parameters (other than self)."
   ]
  },
  {
   "cell_type": "code",
   "execution_count": null,
   "id": "243dbfbf",
   "metadata": {},
   "outputs": [],
   "source": [
    "class Example:\n",
    "    def __init__(self):\n",
    "        print(\"Default Constructor\")\n",
    "\n",
    "obj = Example()\n"
   ]
  },
  {
   "cell_type": "markdown",
   "id": "9ffdf103",
   "metadata": {},
   "source": [
    "2. Parameterized Constructor<br>\n",
    "Takes arguments to initialize the object with specific values."
   ]
  },
  {
   "cell_type": "code",
   "execution_count": null,
   "id": "ea41d129",
   "metadata": {},
   "outputs": [],
   "source": [
    "class Student:\n",
    "    def __init__(self, name, age):\n",
    "        self.name = name\n",
    "        self.age = age\n",
    "\n",
    "s = Student(\"Sara\", 22)\n"
   ]
  },
  {
   "cell_type": "markdown",
   "id": "94ad95ab",
   "metadata": {},
   "source": [
    "3. Copy Constructor (Manually Implemented in Python) <br>\n",
    "Used to copy the data from one object to another. Python does not have a built-in copy constructor, but you can simulate it like this:"
   ]
  },
  {
   "cell_type": "code",
   "execution_count": 30,
   "id": "6aad826e",
   "metadata": {},
   "outputs": [],
   "source": [
    "class Student:\n",
    "    def __init__(self, name):\n",
    "        self.name = name\n",
    "\n",
    "    def copy(self):\n",
    "        return Student(self.name)\n",
    "\n",
    "s1 :Student = Student(\"Ali\")\n",
    "s2 = s1.copy()\n"
   ]
  },
  {
   "cell_type": "markdown",
   "id": "d25b44f1",
   "metadata": {},
   "source": [
    "### 🔹 What is a Class Variable in Python?\n",
    "* A class variable is a variable that is shared by all instances (objects) of a class.\n",
    "* It is defined outside of any method, inside the class, and belongs to the class itself, not to any individual object."
   ]
  },
  {
   "cell_type": "code",
   "execution_count": 34,
   "id": "dd6b69ee",
   "metadata": {},
   "outputs": [
    {
     "name": "stdout",
     "output_type": "stream",
     "text": [
      "City School\n",
      "City School\n",
      "Ali\n",
      "Sara\n"
     ]
    }
   ],
   "source": [
    "class Student:\n",
    "    school_name = \"City School\"  # Class variable\n",
    "\n",
    "    def __init__(self, name, age):\n",
    "        self.name = name         # Instance variable\n",
    "        self.age = age           # Instance variable\n",
    "\n",
    "s1 = Student(\"Ali\", 20)\n",
    "s2 = Student(\"Sara\", 21)\n",
    "\n",
    "print(s1.school_name)  # City School\n",
    "print(s2.school_name)  # City School\n",
    "print(s1.name)         # Ali\n",
    "print(s2.name)         # Sara"
   ]
  },
  {
   "cell_type": "markdown",
   "id": "834176e7",
   "metadata": {},
   "source": [
    "### 🔹 What is an Attribute in Python?\n",
    "\n",
    "* An attribute is a variable or data that belongs to a class or an object.\n",
    "* You can think of attributes as the characteristics or properties of an object."
   ]
  },
  {
   "cell_type": "code",
   "execution_count": 35,
   "id": "751e7db9",
   "metadata": {},
   "outputs": [
    {
     "name": "stdout",
     "output_type": "stream",
     "text": [
      "Ali\n",
      "20\n"
     ]
    }
   ],
   "source": [
    "class Student:\n",
    "    def __init__(self, name, age):\n",
    "        self.name = name     # name is an attribute\n",
    "        self.age = age       # age is an attribute\n",
    "\n",
    "s1 = Student(\"Ali\", 20)\n",
    "\n",
    "print(s1.name)   # Output: Ali\n",
    "print(s1.age)    # Output: 20"
   ]
  },
  {
   "cell_type": "markdown",
   "id": "2fba1dfa",
   "metadata": {},
   "source": [
    "**Example of Class Attribute:**"
   ]
  },
  {
   "cell_type": "code",
   "execution_count": null,
   "id": "637b42b9",
   "metadata": {},
   "outputs": [],
   "source": [
    "class Student:\n",
    "    school_name = \"City School\"   # class attribute\n",
    "\n",
    "    def __init__(self, name):\n",
    "        self.name = name          # instance attribute\n",
    "\n",
    "s = Student(\"Sara\")\n",
    "print(s.name)         # Sara (instance attribute)\n",
    "print(s.school_name)  # City School (class attribute)\n"
   ]
  }
 ],
 "metadata": {
  "kernelspec": {
   "display_name": ".venv",
   "language": "python",
   "name": "python3"
  },
  "language_info": {
   "codemirror_mode": {
    "name": "ipython",
    "version": 3
   },
   "file_extension": ".py",
   "mimetype": "text/x-python",
   "name": "python",
   "nbconvert_exporter": "python",
   "pygments_lexer": "ipython3",
   "version": "3.11.9"
  }
 },
 "nbformat": 4,
 "nbformat_minor": 5
}
