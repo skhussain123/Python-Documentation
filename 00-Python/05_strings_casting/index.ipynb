{
 "cells": [
  {
   "cell_type": "markdown",
   "id": "3e5609c2",
   "metadata": {},
   "source": [
    "### Strings in Python\n",
    "In Python, a string is a sequence of characters enclosed in quotes (either single, double, or triple quotes). Strings are immutable, meaning they cannot be changed after they are created."
   ]
  },
  {
   "cell_type": "markdown",
   "id": "c4dd7e09",
   "metadata": {},
   "source": [
    "#### Creating Strings\n",
    "There are several ways to create strings in Python:\n",
    "\n",
    "* Single Quotes: my_string = 'Hello, World!'\n",
    "* Double Quotes: my_string = \"Hello, World!\"\n",
    "* Triple Quotes: my_string = '''Hello, World!''' (can span multiple lines)\n",
    "* Raw Strings: my_string = r'Hello, World!' (treats backslashes as literal characters)"
   ]
  },
  {
   "cell_type": "code",
   "execution_count": 113,
   "id": "9237a612",
   "metadata": {},
   "outputs": [
    {
     "name": "stdout",
     "output_type": "stream",
     "text": [
      "Hello,\n",
      "World!\n"
     ]
    }
   ],
   "source": [
    "#for multi line string use triple quotes '''any string'''\n",
    "my_string: str = '''Hello,\n",
    "World!'''\n",
    "print(my_string)"
   ]
  },
  {
   "cell_type": "code",
   "execution_count": 114,
   "id": "df07f837",
   "metadata": {},
   "outputs": [
    {
     "name": "stdout",
     "output_type": "stream",
     "text": [
      "Hello\\t,\\n Worl\\\\d!\n",
      "\n",
      "-----\n",
      "\n",
      "Hello,\n",
      " World!\n"
     ]
    }
   ],
   "source": [
    "my_string: str = r'Hello\\t,\\n Worl\\\\d!'\n",
    "print(my_string)\n",
    "\n",
    "print(\"\\n-----\\n\")\n",
    "\n",
    "my_string = 'Hello,\\n World!'\n",
    "print(my_string)"
   ]
  },
  {
   "cell_type": "markdown",
   "id": "60ba5c6a",
   "metadata": {},
   "source": [
    "#### Escape Sequence Characters in Python\n",
    "In Python, escape sequence characters are used to represent special characters that have a specific meaning in a string. These characters are denoted by a backslash (\\) followed by a character."
   ]
  },
  {
   "cell_type": "code",
   "execution_count": 115,
   "id": "77a73037",
   "metadata": {},
   "outputs": [
    {
     "name": "stdout",
     "output_type": "stream",
     "text": [
      "Hello World!\n",
      "Hello,\tWorld!\n",
      "Hello, \"World!\"\n",
      "Hello,\\ World!\n"
     ]
    }
   ],
   "source": [
    "print(\"Hello,\\b World!\") #\\b backspace\n",
    "print(\"Hello,\\tWorld!\")  #\\t tab\n",
    "print(\"Hello, \\\"World!\\\"\")\n",
    "print(\"Hello,\\\\ World!\")"
   ]
  },
  {
   "cell_type": "markdown",
   "id": "97044263",
   "metadata": {},
   "source": [
    "#### Performing Differrent Operations on String Object\n",
    "\n",
    "\n",
    "| S# | Operation         | Example                                                                           |\n",
    "|----|-------------------|-----------------------------------------------------------------------------------|\n",
    "| 1  | **Concatenation** | `my_string = 'Hello, ' + 'World!'`                                                |\n",
    "| 2  | **Indexing**      | `my_string = 'Hello, World!'; print(my_string[0])  # prints 'H'`                  |\n",
    "| 3  | **Slicing**       | `my_string = 'Hello, World!'; print(my_string[7:])  # prints 'World!'`            |\n",
    "| 4  | **Length**        | `my_string = 'Hello, World!'; print(len(my_string))  # prints 13`                 |\n",
    "| 5  |  **Upper Case**   | `my_string = 'Hello, World!'; print(my_string.upper())  # prints 'HELLO, WORLD!'` |\n",
    "| 6  | **Lower Case**    | `my_string = 'Hello, World!'; print(my_string.lower())  # prints 'hello, world!'` |"
   ]
  },
  {
   "cell_type": "code",
   "execution_count": 116,
   "id": "20f028ab",
   "metadata": {},
   "outputs": [
    {
     "name": "stdout",
     "output_type": "stream",
     "text": [
      "Hello, World!\n"
     ]
    }
   ],
   "source": [
    "my_string = 'Hello, ' + 'World!' #Concatenation using + sign\n",
    "print(my_string)"
   ]
  },
  {
   "cell_type": "code",
   "execution_count": 117,
   "id": "cc53c1b9",
   "metadata": {},
   "outputs": [
    {
     "name": "stdout",
     "output_type": "stream",
     "text": [
      "e\n"
     ]
    }
   ],
   "source": [
    "#Indexing, index value starts with 0 zero, so  the first character\n",
    "#have index vlaue 0, second character have index value 1 and the third one\n",
    "#have index value 2 and so on.\n",
    "print(my_string[1]) #It will print 'e'"
   ]
  },
  {
   "cell_type": "code",
   "execution_count": 118,
   "id": "8534b110",
   "metadata": {},
   "outputs": [
    {
     "name": "stdout",
     "output_type": "stream",
     "text": [
      "World!\n",
      "Hello\n"
     ]
    }
   ],
   "source": [
    "my_string: str = 'Hello, World!'\n",
    "print(my_string[7:]) #It starts from 7 till the end of the string\n",
    "print(my_string[0:5]) #It starts from 0 till the index 4 - (0,1,2,3,4) = 5 characters"
   ]
  },
  {
   "cell_type": "code",
   "execution_count": 119,
   "id": "c0a08461",
   "metadata": {},
   "outputs": [
    {
     "name": "stdout",
     "output_type": "stream",
     "text": [
      "15\n"
     ]
    }
   ],
   "source": [
    "print(len(\" Hello, World! \"))#calculating length of a string even the space will be treated as character"
   ]
  },
  {
   "cell_type": "code",
   "execution_count": 120,
   "id": "5037185d",
   "metadata": {},
   "outputs": [
    {
     "name": "stdout",
     "output_type": "stream",
     "text": [
      "HELLO, WORLD!\n",
      "hello, world!\n"
     ]
    }
   ],
   "source": [
    "print(my_string.upper()) #Upper Case\n",
    "print(my_string.lower()) #Lower Case"
   ]
  },
  {
   "cell_type": "markdown",
   "id": "d2260a49",
   "metadata": {},
   "source": [
    "Here are some commonly used string methods:\n",
    "\n",
    "1. **`split()`**: splits a string into a list of substrings based on a delimiter\n",
    "2. **`join()`**: joins a list of strings into a single string\n",
    "3. **`replace()`**: replaces a substring with another substring\n",
    "4. **`find()`**: returns the index of a substring\n",
    "5. **`count()`**: returns the number of occurrences of a substring"
   ]
  },
  {
   "cell_type": "code",
   "execution_count": 121,
   "id": "37e5f46c",
   "metadata": {},
   "outputs": [
    {
     "name": "stdout",
     "output_type": "stream",
     "text": [
      "my_string.split()    =  ['Hello!', 'World']\n",
      "my_string.split(\" \") =  ['Hello!', 'World']\n",
      "my_string.split(\"l\") =  ['He', '', 'o! Wor', 'd']\n"
     ]
    }
   ],
   "source": [
    "my_string: str = 'Hello! World'\n",
    "\n",
    "# split into a list of words\n",
    "words: str = my_string.split()\n",
    "print(\"my_string.split()    = \", words)\n",
    "\n",
    "words = my_string.split(\" \") # Space as a delimiter\n",
    "print('my_string.split(\" \") = ',words)\n",
    "\n",
    "words = my_string.split(\"l\") # Splitting using 'l' as the delimiter\n",
    "print('my_string.split(\"l\") = ', words)"
   ]
  },
  {
   "cell_type": "code",
   "execution_count": 122,
   "id": "6742a669",
   "metadata": {},
   "outputs": [
    {
     "name": "stdout",
     "output_type": "stream",
     "text": [
      "Pakistan, USA, Canada, France, Japan\n"
     ]
    }
   ],
   "source": [
    "# join the words back into a single string\n",
    "my_string: str = ', '\n",
    "joined_string: str = my_string.join(['Pakistan', 'USA', 'Canada', 'France', 'Japan'])\n",
    "print(joined_string)  # Pakistan, USA, Canada, France, Japan"
   ]
  },
  {
   "cell_type": "code",
   "execution_count": 123,
   "id": "c3e4e176",
   "metadata": {},
   "outputs": [
    {
     "name": "stdout",
     "output_type": "stream",
     "text": [
      "P, a, k, i, s, t, a, n\n",
      "Apple-Banana-Cherry\n"
     ]
    }
   ],
   "source": [
    "joined_string: str = my_string.join('Pakistan') # my_string works as a seprator for each character in the word 'Pakistan', because string is a sequence of caharacter\n",
    "\n",
    "print(joined_string) # P, a, k, i, s, t, a, n\n",
    "\n",
    "print('-'.join(['Apple', 'Banana', 'Cherry'])); # ; The line terminitor"
   ]
  },
  {
   "cell_type": "code",
   "execution_count": 124,
   "id": "d44e5fdb",
   "metadata": {},
   "outputs": [
    {
     "name": "stdout",
     "output_type": "stream",
     "text": [
      "Salam Walikum, World! Salam Walikum, Pakistan\n"
     ]
    }
   ],
   "source": [
    "my_string: str = \"Hello, World! Hello, Pakistan\"\n",
    "# replace a substring\n",
    "my_string = my_string.replace('Hello', 'Salam Walikum')\n",
    "print(my_string)  # prints 'Salam Walikum, World! Salam Walikum, Pakistan'"
   ]
  },
  {
   "cell_type": "code",
   "execution_count": 125,
   "id": "d83021fc",
   "metadata": {},
   "outputs": [
    {
     "name": "stdout",
     "output_type": "stream",
     "text": [
      "starting_index =  0\n"
     ]
    }
   ],
   "source": [
    "my_string: str = \"Hello, World! Hello, Pakistan\"\n",
    "# find the index of a substring\n",
    "starting_index = my_string.find('Hello') # Index value of the first occurance of the word 'Hello'\n",
    "print(\"starting_index = \", starting_index)  # prints 0"
   ]
  },
  {
   "cell_type": "code",
   "execution_count": 126,
   "id": "36cc35e7",
   "metadata": {},
   "outputs": [
    {
     "name": "stdout",
     "output_type": "stream",
     "text": [
      ", World! Hello, Pakistan\n",
      "9\n"
     ]
    }
   ],
   "source": [
    "# Now lets find the second occurance of the word 'Hello'\n",
    "# index value start from zero\n",
    "\n",
    "starting_index2: str = starting_index + len(\"Hello\") #len=5\n",
    "\n",
    "print(my_string[starting_index2:] ) # after slicing \", World! Hello, Pakistan\n",
    "print(my_string[starting_index2:].find(\"Hello\")) # Starting index 9, because of slicing \", World! Hello, Pakistan\""
   ]
  },
  {
   "cell_type": "code",
   "execution_count": 127,
   "id": "de30bf7e",
   "metadata": {},
   "outputs": [
    {
     "name": "stdout",
     "output_type": "stream",
     "text": [
      "Hello, World! Hello, Pakistan\n",
      "29\n",
      "\n",
      "-----\n",
      "\n",
      "Substring to search    =  Hello\n",
      "Starting index         =  5\n",
      "End index              =  29\n",
      "Second Occurance index =  14\n"
     ]
    }
   ],
   "source": [
    "print(my_string)\n",
    "print(len(my_string)) #character count = 29\n",
    "\n",
    "print('\\n-----\\n')\n",
    "\n",
    "print(\"Substring to search    = \", \"Hello\")\n",
    "print(\"Starting index         = \", len(\"Hello\")) # 5\n",
    "print(\"End index              = \", len(my_string))\n",
    "print(\"Second Occurance index = \", my_string.index((\"Hello\"), len(\"Hello\"), len(my_string))) # (substring, start, end) - print 14\n",
    "\n",
    "#Uncomment to see ValueError: substring not found\n",
    "#print(\"Second Occurance index = \", my_string.index((\"Hello7\"), len(\"Hello\"), len(my_string))) # (substring, start, end)"
   ]
  },
  {
   "cell_type": "code",
   "execution_count": 128,
   "id": "db4a0897",
   "metadata": {},
   "outputs": [
    {
     "name": "stdout",
     "output_type": "stream",
     "text": [
      "my_string.count('Hello') =  2\n",
      "my_string.count('P')     =  1\n",
      "my_string.count('o')     =  3\n",
      "my_string.count('hello') =  0\n"
     ]
    }
   ],
   "source": [
    "my_string = \"Hello, World! Hello, Pakistan\"\n",
    "# count the occurrences of a substring\n",
    "count = my_string.count('Hello')\n",
    "print(\"my_string.count('Hello') = \", count)  # prints 2\n",
    "\n",
    "# count the occurrences of a substring\n",
    "count = my_string.count('P')\n",
    "print(\"my_string.count('P')     = \", count)  # prints 1\n",
    "\n",
    "# count the occurrences of a substring\n",
    "count = my_string.count('o')\n",
    "print(\"my_string.count('o')     = \", count)  # prints 2\n",
    "\n",
    "# count the occurrences of a substring\n",
    "count = my_string.count('hello') # case sensitive\n",
    "print(\"my_string.count('hello') = \", count)  # prints 0"
   ]
  },
  {
   "cell_type": "markdown",
   "id": "22e32fef",
   "metadata": {},
   "source": [
    "### str functions"
   ]
  },
  {
   "cell_type": "code",
   "execution_count": 129,
   "id": "f1a84745",
   "metadata": {},
   "outputs": [
    {
     "data": {
      "text/plain": [
       "['capitalize',\n",
       " 'casefold',\n",
       " 'center',\n",
       " 'count',\n",
       " 'encode',\n",
       " 'endswith',\n",
       " 'expandtabs',\n",
       " 'find',\n",
       " 'format',\n",
       " 'format_map',\n",
       " 'index',\n",
       " 'isalnum',\n",
       " 'isalpha',\n",
       " 'isascii',\n",
       " 'isdecimal',\n",
       " 'isdigit',\n",
       " 'isidentifier',\n",
       " 'islower',\n",
       " 'isnumeric',\n",
       " 'isprintable',\n",
       " 'isspace',\n",
       " 'istitle',\n",
       " 'isupper',\n",
       " 'join',\n",
       " 'ljust',\n",
       " 'lower',\n",
       " 'lstrip',\n",
       " 'maketrans',\n",
       " 'partition',\n",
       " 'removeprefix',\n",
       " 'removesuffix',\n",
       " 'replace',\n",
       " 'rfind',\n",
       " 'rindex',\n",
       " 'rjust',\n",
       " 'rpartition',\n",
       " 'rsplit',\n",
       " 'rstrip',\n",
       " 'split',\n",
       " 'splitlines',\n",
       " 'startswith',\n",
       " 'strip',\n",
       " 'swapcase',\n",
       " 'title',\n",
       " 'translate',\n",
       " 'upper',\n",
       " 'zfill']"
      ]
     },
     "execution_count": 129,
     "metadata": {},
     "output_type": "execute_result"
    }
   ],
   "source": [
    "# prompt: print list of str functions using dir(), dont show function starting with\"__\"\n",
    "\n",
    "# Get the list of string methods\n",
    "string_methods: str = dir(str)\n",
    "\n",
    "# Filter out methods starting with \"__\"\n",
    "filtered_methods: str = [method for method in string_methods if not method.startswith(\"__\")]\n",
    "\n",
    "# Print the filtered list\n",
    "filtered_methods"
   ]
  },
  {
   "cell_type": "markdown",
   "id": "67db8d13",
   "metadata": {},
   "source": [
    "#### String Formatting\n",
    "| Placeholder | Meaning                              | Example                                |\n",
    "|-------------|--------------------------------------|----------------------------------------|\n",
    "| %s          | String                               | \"Hello, %s\" % \"Alice\" → \"Hello, Alice\" |\n",
    "| %d          | Integer (Decimal)                    | \"Age: %d\" % 25 → \"Age: 25\"             |\n",
    "| %c          | Character                            | \"Letter: %c\" % 'A' → \"Letter: A\"       |\n",
    "| %f          | Floating-point                       | \"Pi: %f\" % 3.14159 → \"Pi: 3.141590\"    |\n",
    "| %.nf        | Floating-point with n decimal places | \"%.2f\" % 3.14159 → \"3.14\"              |"
   ]
  },
  {
   "cell_type": "markdown",
   "id": "9c78f81d",
   "metadata": {},
   "source": [
    "##### **% Operator**"
   ]
  },
  {
   "cell_type": "code",
   "execution_count": 130,
   "id": "d5194a74",
   "metadata": {},
   "outputs": [
    {
     "name": "stdout",
     "output_type": "stream",
     "text": [
      "My name is John, first letter of my name is 'J', I am 20 years old and my weight id 70.532000 Kg.\n",
      "My name is John, first letter of my name is 'J', I am 20 years old and my weight id 70.53 Kg.\n"
     ]
    }
   ],
   "source": [
    "name: str = 'John'\n",
    "age: int = 20\n",
    "first_letter: str = name[0]\n",
    "my_weight: float = 70.532000 # 70.536000\n",
    "\n",
    "#uncomment to see type\n",
    "#print(type((name, first_letter, age, my_weight)))\n",
    "\n",
    "# using % operator\n",
    "my_string: str = '''My name is %s, first letter of my name is \\'%c\\', I am %d years old and my weight id %f Kg.''' % (name, first_letter, age, my_weight)\n",
    "print(my_string)\n",
    "\n",
    "my_string = '''My name is %s, first letter of my name is \\'%c\\', I am %d years old and my weight id %.2f Kg.''' % (name, first_letter, age, my_weight) # Dont forget period %.2f\n",
    "print(my_string)"
   ]
  },
  {
   "cell_type": "markdown",
   "id": "069c331b",
   "metadata": {},
   "source": [
    "#### **F-String**"
   ]
  },
  {
   "cell_type": "code",
   "execution_count": 131,
   "id": "026efdd2",
   "metadata": {},
   "outputs": [
    {
     "name": "stdout",
     "output_type": "stream",
     "text": [
      "line 3:  My name is John and I am 20 years old.\n",
      "line 4:  My \\name is John and I am 20\\n \\t years \\old.\n"
     ]
    }
   ],
   "source": [
    "# using f-strings\n",
    "my_string: str = f'My name is {name} and I am {age} years old.' #Using Named Placeholders (Best for Readability)\n",
    "print(\"line 3: \",my_string)\n",
    "\n",
    "my_string: str = fr'My \\name is {name} and I am {age}\\n \\t years \\old.' #At the same time it could be f and r as well\n",
    "print(\"line 4: \",my_string)"
   ]
  },
  {
   "cell_type": "markdown",
   "id": "2e3fbc99",
   "metadata": {},
   "source": [
    "### Comprehensive Guide to Type Casting in Python 🚀"
   ]
  },
  {
   "cell_type": "markdown",
   "id": "a9853179",
   "metadata": {},
   "source": [
    "Type casting (or type conversion) is the process of converting one data type into another. Python supports two types of type casting:\n",
    "\n",
    " * Implicit Type Casting – Done automatically by Python.\n",
    "* Explicit Type Casting – Done manually using built-in functions."
   ]
  },
  {
   "cell_type": "markdown",
   "id": "c940847f",
   "metadata": {},
   "source": [
    "##### **1️⃣ Implicit Type Casting (Automatic Conversion)**"
   ]
  },
  {
   "cell_type": "markdown",
   "id": "518a0ef0",
   "metadata": {},
   "source": [
    "Python automatically converts one data type to another when no data loss occurs."
   ]
  },
  {
   "cell_type": "markdown",
   "id": "23248dd0",
   "metadata": {},
   "source": [
    "Python automatically converts one data type to another when no data loss occurs.\n",
    "\n",
    "**Example 1: Converting int to float (Safe Conversion)**"
   ]
  },
  {
   "cell_type": "code",
   "execution_count": 132,
   "id": "8d9df54a",
   "metadata": {},
   "outputs": [
    {
     "name": "stdout",
     "output_type": "stream",
     "text": [
      "15.5 <class 'float'>\n"
     ]
    }
   ],
   "source": [
    "num_int: int = 10\n",
    "num_float = num_int + 5.5  # int + float = float. skipped type hint to see what data type is assigned at runtime\n",
    "print(num_float, type(num_float))"
   ]
  },
  {
   "cell_type": "markdown",
   "id": "a74bed03",
   "metadata": {},
   "source": [
    "##### **Example 2: Converting int to complex**"
   ]
  },
  {
   "cell_type": "code",
   "execution_count": 133,
   "id": "2a9a1128",
   "metadata": {},
   "outputs": [
    {
     "name": "stdout",
     "output_type": "stream",
     "text": [
      "(7+3j) <class 'complex'>\n",
      "(7+3j) <class 'complex'>\n"
     ]
    }
   ],
   "source": [
    "num_int: int = 7\n",
    "num_complex: complex = num_int + 3j  # int + complex → complex\n",
    "print(num_complex, type(num_complex))\n",
    "\n",
    "# num_int automatically promotes int to complex type\n",
    "num_int = num_complex\n",
    "print(num_int, type(num_int))"
   ]
  },
  {
   "cell_type": "markdown",
   "id": "4c12dec7",
   "metadata": {},
   "source": [
    "##### **❌ Error: Python does NOT implicitly convert str to int. We must convert explicitly.**"
   ]
  },
  {
   "cell_type": "code",
   "execution_count": 134,
   "id": "c386906d",
   "metadata": {},
   "outputs": [
    {
     "ename": "TypeError",
     "evalue": "can only concatenate str (not \"int\") to str",
     "output_type": "error",
     "traceback": [
      "\u001b[31m---------------------------------------------------------------------------\u001b[39m",
      "\u001b[31mTypeError\u001b[39m                                 Traceback (most recent call last)",
      "\u001b[36mCell\u001b[39m\u001b[36m \u001b[39m\u001b[32mIn[134]\u001b[39m\u001b[32m, line 4\u001b[39m\n\u001b[32m      1\u001b[39m num_str = \u001b[33m\"\u001b[39m\u001b[33m100\u001b[39m\u001b[33m\"\u001b[39m\n\u001b[32m      2\u001b[39m num_int = \u001b[32m5\u001b[39m\n\u001b[32m----> \u001b[39m\u001b[32m4\u001b[39m \u001b[38;5;28mprint\u001b[39m(\u001b[43mnum_str\u001b[49m\u001b[43m \u001b[49m\u001b[43m+\u001b[49m\u001b[43m \u001b[49m\u001b[43mnum_int\u001b[49m)  \u001b[38;5;66;03m# ❌ TypeError\u001b[39;00m\n",
      "\u001b[31mTypeError\u001b[39m: can only concatenate str (not \"int\") to str"
     ]
    }
   ],
   "source": [
    "num_str = \"100\"\n",
    "num_int = 5\n",
    "\n",
    "print(num_str + num_int)  # ❌ TypeError"
   ]
  },
  {
   "cell_type": "markdown",
   "id": "8362a21b",
   "metadata": {},
   "source": [
    "##### **2️⃣ Explicit Type Casting (Manual Conversion)**"
   ]
  },
  {
   "cell_type": "markdown",
   "id": "a6ee0bb3",
   "metadata": {},
   "source": [
    "| function   | type           |   |\n",
    "|------------|----------------|---|\n",
    "| int(x)     | Integer        |   |\n",
    "| float(x)   | Float          |   |\n",
    "| complex(x) | Complex number |   |\n",
    "| str(x)     | String         |   |\n",
    "| bool(x)    | Boolean        |   |\n",
    "| list(x)    | List           |   |\n",
    "| tuple(x)   | Tuple          |   |\n",
    "| set(x)     | Set            |   |\n",
    "| dict(x)    | Dictionary     |   |\n",
    "|            |                |   |"
   ]
  },
  {
   "cell_type": "markdown",
   "id": "a8c447a7",
   "metadata": {},
   "source": [
    "##### **1. Integer Conversion (int())**"
   ]
  },
  {
   "cell_type": "code",
   "execution_count": null,
   "id": "645f7bf1",
   "metadata": {},
   "outputs": [
    {
     "name": "stdout",
     "output_type": "stream",
     "text": [
      "9 <class 'int'>\n",
      "int(b) =  1\n"
     ]
    }
   ],
   "source": [
    "num_float: float = 9.8\n",
    "num_int = int(num_float) # skipped type hint to see what data type is assigned at runtime\n",
    "print(num_int, type(num_int))\n",
    "\n",
    "b: bool = True\n",
    "print(\"int(b) = \", int(b))"
   ]
  },
  {
   "cell_type": "markdown",
   "id": "b4c59814",
   "metadata": {},
   "source": [
    "##### **2. Float Conversion (float())**"
   ]
  },
  {
   "cell_type": "code",
   "execution_count": null,
   "id": "a4edf8f8",
   "metadata": {},
   "outputs": [
    {
     "name": "stdout",
     "output_type": "stream",
     "text": [
      "5.0 <class 'float'>\n"
     ]
    }
   ],
   "source": [
    "num_int: int = 5\n",
    "num_float = float(num_int) # skipped type hint to see what data type is assigned at runtime\n",
    "print(num_float, type(num_float))"
   ]
  },
  {
   "cell_type": "markdown",
   "id": "8532a05f",
   "metadata": {},
   "source": [
    "##### **3. String Conversion (str())**"
   ]
  },
  {
   "cell_type": "code",
   "execution_count": null,
   "id": "9db308be",
   "metadata": {},
   "outputs": [
    {
     "name": "stdout",
     "output_type": "stream",
     "text": [
      "100 <class 'str'>\n"
     ]
    }
   ],
   "source": [
    "num: int = 100\n",
    "num_str = str(num) # skipped type hint to see what data type is assigned at runtime\n",
    "print(num_str, type(num_str))"
   ]
  },
  {
   "cell_type": "markdown",
   "id": "b12c3eb9",
   "metadata": {},
   "source": [
    "##### **4. Boolean Conversion (bool())**"
   ]
  },
  {
   "cell_type": "code",
   "execution_count": null,
   "id": "bb07df6f",
   "metadata": {},
   "outputs": [
    {
     "name": "stdout",
     "output_type": "stream",
     "text": [
      "bool(1)       =  True\n",
      "bool(0)       =  False\n",
      "bool(-10)     =  True\n",
      "bool(\"\")      =  False\n",
      "bool(\"Hello\") =  True\n",
      "bool([])      =  False\n",
      "bool([1, 2])  =  True\n"
     ]
    }
   ],
   "source": [
    "print(\"bool(1)       = \", bool(1))       # True\n",
    "print(\"bool(0)       = \", bool(0))       # False\n",
    "print(\"bool(-10)     = \", bool(-10))     # True (Non-zero numbers are True)\n",
    "print('bool(\"\")      = ', bool(\"\"))      # False (Empty string)\n",
    "print('bool(\"Hello\") = ', bool(\"Hello\")) # True (Non-empty string)\n",
    "print(\"bool([])      = \", bool([]))      # False (Empty list)\n",
    "print(\"bool([1, 2])  = \", bool([1, 2]))  # True (Non-empty list)"
   ]
  },
  {
   "cell_type": "markdown",
   "id": "602c03d5",
   "metadata": {},
   "source": [
    "##### **5. List, Tuple & Set Conversions**"
   ]
  },
  {
   "cell_type": "code",
   "execution_count": null,
   "id": "4a89b184",
   "metadata": {},
   "outputs": [
    {
     "name": "stdout",
     "output_type": "stream",
     "text": [
      "[1, 2.7, 3, 'OB'] <class 'list'>\n"
     ]
    }
   ],
   "source": [
    "tup: tuple = (1, 2.7, 3, 'OB')\n",
    "lst = list(tup) # skipped type hint to see what data type is assigned at runtime\n",
    "print(lst, type(lst))"
   ]
  },
  {
   "cell_type": "markdown",
   "id": "e3b8d7fa",
   "metadata": {},
   "source": [
    "##### **6. Dictionary Conversion (dict())**"
   ]
  },
  {
   "cell_type": "code",
   "execution_count": null,
   "id": "1beca8fa",
   "metadata": {},
   "outputs": [
    {
     "name": "stdout",
     "output_type": "stream",
     "text": [
      "{'name': 'Alice', 'age': 25} <class 'dict'>\n"
     ]
    }
   ],
   "source": [
    "lst: list = [(\"name\", \"Alice\"), (\"age\", 25)]\n",
    "d = dict(lst)       # skipped type hint to see what data type is assigned at runtime\n",
    "print(d, type(d))"
   ]
  },
  {
   "cell_type": "markdown",
   "id": "875566b4",
   "metadata": {},
   "source": [
    "##### **7. Complex Number Conversion (complex())**"
   ]
  },
  {
   "cell_type": "code",
   "execution_count": null,
   "id": "532824de",
   "metadata": {},
   "outputs": [
    {
     "name": "stdout",
     "output_type": "stream",
     "text": [
      "(5+0j) <class 'complex'>\n"
     ]
    }
   ],
   "source": [
    "num: int = 5\n",
    "comp = complex(num)   # skipped type hint to see what data type is assigned at runtime\n",
    "print(comp, type(comp))  # Output: (5+0j) <class 'complex'>"
   ]
  }
 ],
 "metadata": {
  "kernelspec": {
   "display_name": ".venv",
   "language": "python",
   "name": "python3"
  },
  "language_info": {
   "codemirror_mode": {
    "name": "ipython",
    "version": 3
   },
   "file_extension": ".py",
   "mimetype": "text/x-python",
   "name": "python",
   "nbconvert_exporter": "python",
   "pygments_lexer": "ipython3",
   "version": "3.11.9"
  }
 },
 "nbformat": 4,
 "nbformat_minor": 5
}
