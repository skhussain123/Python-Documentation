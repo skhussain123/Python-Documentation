{
 "cells": [
  {
   "cell_type": "markdown",
   "id": "ef5a3887",
   "metadata": {},
   "source": [
    "## What is a Module in Python?"
   ]
  },
  {
   "cell_type": "markdown",
   "id": "7cf3a156",
   "metadata": {},
   "source": [
    "A module in Python is a file that contains Python code (functions, classes, variables, or even runnable code) and is used to organize and reuse code efficiently.\n",
    "\n",
    "* A module is simply a .py file that can be imported and used in other Python programs.\n",
    "\n",
    "* Modules help keep the code modular, readable, and maintainable.\n",
    "* Python has built-in modules (like math, random, os) and also allows users to create custom modules."
   ]
  },
  {
   "cell_type": "markdown",
   "id": "76791985",
   "metadata": {},
   "source": [
    "#### **✅ 1. Creating a Module**\n",
    "Let's say you create a file named mymodule.py:"
   ]
  },
  {
   "cell_type": "code",
   "execution_count": 5,
   "id": "e62d5e59",
   "metadata": {},
   "outputs": [],
   "source": [
    "# mymodule.py\n",
    "\n",
    "def greet(name):\n",
    "    return f\"Hello, {name}!\"\n",
    "\n",
    "pi = 3.14159"
   ]
  },
  {
   "cell_type": "markdown",
   "id": "1d7aba10",
   "metadata": {},
   "source": [
    "#### **✅ 2. Using (Importing) a Module**\n",
    "Now in another file, you can use that module:**"
   ]
  },
  {
   "cell_type": "code",
   "execution_count": 6,
   "id": "f808503e",
   "metadata": {},
   "outputs": [
    {
     "ename": "ModuleNotFoundError",
     "evalue": "No module named 'mymodule'",
     "output_type": "error",
     "traceback": [
      "\u001b[31m---------------------------------------------------------------------------\u001b[39m",
      "\u001b[31mModuleNotFoundError\u001b[39m                       Traceback (most recent call last)",
      "\u001b[36mCell\u001b[39m\u001b[36m \u001b[39m\u001b[32mIn[6]\u001b[39m\u001b[32m, line 3\u001b[39m\n\u001b[32m      1\u001b[39m \u001b[38;5;66;03m# main.py\u001b[39;00m\n\u001b[32m----> \u001b[39m\u001b[32m3\u001b[39m \u001b[38;5;28;01mimport\u001b[39;00m\u001b[38;5;250m \u001b[39m\u001b[34;01mmymodule\u001b[39;00m\n\u001b[32m      5\u001b[39m \u001b[38;5;28mprint\u001b[39m(mymodule.greet(\u001b[33m\"\u001b[39m\u001b[33mAli\u001b[39m\u001b[33m\"\u001b[39m))\n\u001b[32m      6\u001b[39m \u001b[38;5;28mprint\u001b[39m(mymodule.pi)\n",
      "\u001b[31mModuleNotFoundError\u001b[39m: No module named 'mymodule'"
     ]
    }
   ],
   "source": [
    "# main.py\n",
    "\n",
    "import mymodule\n",
    "\n",
    "print(mymodule.greet(\"Ali\"))\n",
    "print(mymodule.pi)\n"
   ]
  },
  {
   "cell_type": "markdown",
   "id": "7690873e",
   "metadata": {},
   "source": [
    "#### **✅ 3. Different Ways to Import**"
   ]
  },
  {
   "cell_type": "code",
   "execution_count": null,
   "id": "34fdd7e6",
   "metadata": {},
   "outputs": [],
   "source": [
    "# Import entire module\n",
    "import mymodule\n",
    "\n",
    "# Import specific items\n",
    "from mymodule import greet, pi\n",
    "\n",
    "# Rename while importing\n",
    "import mymodule as mm\n",
    "print(mm.greet(\"Sara\"))\n"
   ]
  },
  {
   "cell_type": "markdown",
   "id": "4d926a0b",
   "metadata": {},
   "source": [
    "#### ✅ **Built-in Modules**"
   ]
  },
  {
   "cell_type": "code",
   "execution_count": null,
   "id": "85edee48",
   "metadata": {},
   "outputs": [],
   "source": [
    "import math\n",
    "\n",
    "print(math.sqrt(16))     # 4.0\n",
    "print(math.pi)           # 3.141592653589793\n"
   ]
  },
  {
   "cell_type": "markdown",
   "id": "177eccb6",
   "metadata": {},
   "source": [
    "#### **Checking Installed Modules**\n",
    "You can see all installed modules using:"
   ]
  },
  {
   "cell_type": "code",
   "execution_count": null,
   "id": "633502c4",
   "metadata": {},
   "outputs": [
    {
     "name": "stdout",
     "output_type": "stream",
     "text": [
      "Package                 Version\n",
      "----------------------- -----------\n",
      "asttokens               3.0.0\n",
      "colorama                0.4.6\n",
      "comm                    0.2.2\n",
      "debugpy                 1.8.14\n",
      "decorator               5.2.1\n",
      "executing               2.2.0\n",
      "ipykernel               6.29.5\n",
      "ipython                 9.2.0\n",
      "ipython_pygments_lexers 1.1.1\n",
      "jedi                    0.19.2\n",
      "jupyter_client          8.6.3\n",
      "jupyter_core            5.7.2\n",
      "lxml                    5.4.0\n",
      "matplotlib-inline       0.1.7\n",
      "nest-asyncio            1.6.0\n",
      "numpy                   2.2.5\n",
      "packaging               25.0\n",
      "pandas                  2.2.3\n",
      "parso                   0.8.4\n",
      "pip                     25.1\n",
      "platformdirs            4.3.7\n",
      "prompt_toolkit          3.0.51\n",
      "psutil                  7.0.0\n",
      "pure_eval               0.2.3\n",
      "Pygments                2.19.1\n",
      "python-dateutil         2.9.0.post0\n",
      "pytz                    2025.2\n",
      "pywin32                 310\n",
      "pyzmq                   26.4.0\n",
      "setuptools              65.5.0\n",
      "six                     1.17.0\n",
      "stack-data              0.6.3\n",
      "tornado                 6.4.2\n",
      "traitlets               5.14.3\n",
      "typing_extensions       4.13.2\n",
      "tzdata                  2025.2\n",
      "wcwidth                 0.2.13\n",
      "Note: you may need to restart the kernel to use updated packages.\n"
     ]
    }
   ],
   "source": [
    "%pip list\n",
    "\n",
    "# Or check available built-in modules:\n",
    "# help(\"modules\")\n"
   ]
  },
  {
   "cell_type": "markdown",
   "id": "5ed52a31",
   "metadata": {},
   "source": [
    "## Function in python\n",
    "A function is a reusable block of code that performs a specific task. It helps organize code, avoid repetition, and make programs easier to read and debug."
   ]
  },
  {
   "cell_type": "markdown",
   "id": "2b2e4365",
   "metadata": {},
   "source": [
    "* user define function\n",
    "* pre-define function\n",
    "\n",
    "**Pre-define function**\n",
    "* print\n",
    "* len\n",
    "* id\n",
    "* dir\n",
    "* chr\n",
    "* ord\n",
    "* exec"
   ]
  },
  {
   "cell_type": "markdown",
   "id": "4d7c0bf1",
   "metadata": {},
   "source": [
    "**user define function**"
   ]
  },
  {
   "cell_type": "markdown",
   "id": "c6357a00",
   "metadata": {},
   "source": [
    "#### ✅ **1. Normal Function**"
   ]
  },
  {
   "cell_type": "code",
   "execution_count": null,
   "id": "28ca2c73",
   "metadata": {},
   "outputs": [],
   "source": [
    "def greet():\n",
    "    print(f\"Hello\")\n",
    "    \n",
    "greet()\n"
   ]
  },
  {
   "cell_type": "markdown",
   "id": "0a8c3eb9",
   "metadata": {},
   "source": [
    "#### ✅ **2. Function with Parameters**"
   ]
  },
  {
   "cell_type": "code",
   "execution_count": null,
   "id": "51c66f47",
   "metadata": {},
   "outputs": [],
   "source": [
    "def greet(name):\n",
    "    print(f\"Hello, {name}!\")\n",
    "    \n",
    "greet(\"Ali\")\n"
   ]
  },
  {
   "cell_type": "markdown",
   "id": "5a85305d",
   "metadata": {},
   "source": [
    "#### ✅ **3. Function with Return Value**"
   ]
  },
  {
   "cell_type": "code",
   "execution_count": null,
   "id": "a5e1c300",
   "metadata": {},
   "outputs": [],
   "source": [
    "def add(a, b):\n",
    "    return a + b\n",
    "\n",
    "result = add(5, 3)\n",
    "print(result)\n"
   ]
  },
  {
   "cell_type": "markdown",
   "id": "889befd5",
   "metadata": {},
   "source": [
    "#### ✅ **4. Default Parameters**"
   ]
  },
  {
   "cell_type": "code",
   "execution_count": null,
   "id": "504e2b3e",
   "metadata": {},
   "outputs": [],
   "source": [
    "def greet(name=\"Guest\"): # **parameters**\n",
    "    print(f\"Hello, {name}!\")\n",
    "\n",
    "greet()          # Hello, Guest!\n",
    "greet(\"Sara\")    # Hello, Sara!  # \"**arguments**\n"
   ]
  },
  {
   "cell_type": "markdown",
   "id": "74519369",
   "metadata": {},
   "source": [
    "#### ✅ **5. Keyword Arguments**"
   ]
  },
  {
   "cell_type": "code",
   "execution_count": 30,
   "id": "01fb756d",
   "metadata": {},
   "outputs": [
    {
     "name": "stdout",
     "output_type": "stream",
     "text": [
      "num1 value 20 and num 2 value 7\n"
     ]
    },
    {
     "data": {
      "text/plain": [
       "27"
      ]
     },
     "execution_count": 30,
     "metadata": {},
     "output_type": "execute_result"
    }
   ],
   "source": [
    "#                   param1       param2\n",
    "def add_two_numbers(num1 : int , num2 : int)->int:\n",
    "    print(f\"num1 value {num1} and num 2 value {num2}\")\n",
    "    return num1 + num2\n",
    "\n",
    "add_two_numbers(num2=7,num1=20)# agr1, arg2 key word arguments"
   ]
  },
  {
   "cell_type": "markdown",
   "id": "283b5f71",
   "metadata": {},
   "source": [
    "#### ✅ ***args **"
   ]
  },
  {
   "cell_type": "markdown",
   "id": "7607667e",
   "metadata": {},
   "source": [
    "* *args lets you pass any number of positional arguments.\n",
    "* It collects them into a tuple."
   ]
  },
  {
   "cell_type": "markdown",
   "id": "82a8319c",
   "metadata": {},
   "source": [
    "Accepts multiple positional arguments as a tuple"
   ]
  },
  {
   "cell_type": "code",
   "execution_count": 34,
   "id": "edf24c50",
   "metadata": {},
   "outputs": [
    {
     "name": "stdout",
     "output_type": "stream",
     "text": [
      "(1, 2, 3, 3, 5, 6) <class 'tuple'>\n"
     ]
    },
    {
     "data": {
      "text/plain": [
       "20"
      ]
     },
     "execution_count": 34,
     "metadata": {},
     "output_type": "execute_result"
    }
   ],
   "source": [
    "def abc(*nums):\n",
    "    print(nums, type(nums))\n",
    "    total = 0\n",
    "    for n in nums:\n",
    "        total += n\n",
    "\n",
    "    return total\n",
    "\n",
    "\n",
    "abc(1,2,3,3,5,6)"
   ]
  },
  {
   "cell_type": "code",
   "execution_count": null,
   "id": "9af52a3d",
   "metadata": {},
   "outputs": [],
   "source": [
    "from typing import Tuple\n",
    "\n",
    "def greet(*names: Tuple[str, ...]) -> None:\n",
    "    \"\"\"\n",
    "    This function greets all persons in the names tuple.\n",
    "    \"\"\"\n",
    "    for name in names:\n",
    "        print(\"Hello\", name)\n",
    "\n",
    "greet(\"Monica\", \"Luke\", \"Steve\", \"John\",\"Sir Zia\", \"Muhammad Qasim\")"
   ]
  },
  {
   "cell_type": "markdown",
   "id": "be2859f8",
   "metadata": {},
   "source": [
    "#### ✅ **7. **kwargs — Accepts Multiple Keyword Arguments as a Dictionary**"
   ]
  },
  {
   "cell_type": "markdown",
   "id": "6b42acbd",
   "metadata": {},
   "source": [
    "* **kwargs is used in function definitions to accept any number of keyword arguments.\n",
    "* The arguments are packed into a dictionary with keys and values."
   ]
  },
  {
   "cell_type": "markdown",
   "id": "93f2deb1",
   "metadata": {},
   "source": [
    "Accepts multiple keyword arguments as a dictionary"
   ]
  },
  {
   "cell_type": "code",
   "execution_count": null,
   "id": "b1077671",
   "metadata": {},
   "outputs": [
    {
     "name": "stdout",
     "output_type": "stream",
     "text": [
      "name: Ali\n",
      "age: 22\n",
      "city: Lahore\n"
     ]
    }
   ],
   "source": [
    "from typing import Dict\n",
    "\n",
    "def greet(**xyz: Dict[str,str]) -> None:\n",
    "    print(xyz)\n",
    "\n",
    "greet(a=\"pakistan\", b='China')"
   ]
  },
  {
   "cell_type": "code",
   "execution_count": null,
   "id": "592f43cb",
   "metadata": {},
   "outputs": [],
   "source": [
    "def xyz(**kargs):\n",
    "    print(kargs, type(kargs))\n",
    "\n",
    "\n",
    "xyz(a=7, b=20, c=30, x=1,y=2 , name=\"Muhammad Qasim\")"
   ]
  },
  {
   "cell_type": "code",
   "execution_count": null,
   "id": "58bc008f",
   "metadata": {},
   "outputs": [],
   "source": [
    "def my_function(a, b, *abc, **xyz):\n",
    "    print(a,b, abc, xyz)\n",
    "\n",
    "my_function(1,2, 7,9,9,9, c=20, d= 30, x=100)"
   ]
  },
  {
   "cell_type": "code",
   "execution_count": null,
   "id": "275158a8",
   "metadata": {},
   "outputs": [],
   "source": [
    "# typing hint error\n",
    "def my_function(a:int, b:int, *abc:Tuple[int, ...], **xyz:Dict[str,int]):\n",
    "    print(a,b, abc, xyz)\n",
    "\n",
    "my_function(1,2, 7,9,9,9, c=20, d= 30, x=100)"
   ]
  },
  {
   "cell_type": "code",
   "execution_count": 33,
   "id": "4cfd05c4",
   "metadata": {},
   "outputs": [
    {
     "name": "stdout",
     "output_type": "stream",
     "text": [
      "1 2 (7, 9, 9, 9) {'c': 20, 'd': 30, 'x': 100}\n"
     ]
    }
   ],
   "source": [
    "def my_function(a: int, b: int, *abc: int, **xyz: int) -> None:\n",
    "    print(a, b, abc, xyz)\n",
    "\n",
    "my_function(1, 2, 7, 9, 9, 9, c=20, d=30, x=100)"
   ]
  },
  {
   "cell_type": "markdown",
   "id": "8771d1c2",
   "metadata": {},
   "source": [
    "#### ✅ **8. Lambda Functions**\n",
    "Lambda function ek chhoti, anonymous (nameless) function hoti hai jo ek line me likhi jaati hai, aur tab use hoti hai jab function ko jaldi aur short me likhna ho.\n",
    "\n",
    "* Anonymous Functions\n",
    "* one line Functions\n"
   ]
  },
  {
   "cell_type": "markdown",
   "id": "de872fd5",
   "metadata": {},
   "source": [
    "#### ✅ Use kab karte hain?\n",
    "* Jab chhoti function chahiye ho\n",
    "* Jab function ko naam dena zaroori na ho\n",
    "* Mostly used in: map(), filter(), reduce()"
   ]
  },
  {
   "cell_type": "code",
   "execution_count": 10,
   "id": "e3ff5e59",
   "metadata": {},
   "outputs": [
    {
     "name": "stdout",
     "output_type": "stream",
     "text": [
      "5\n"
     ]
    }
   ],
   "source": [
    "add = lambda a, b: a + b\n",
    "print(add(2, 3))  # Output: 5\n"
   ]
  },
  {
   "cell_type": "markdown",
   "id": "bb28e8e8",
   "metadata": {},
   "source": [
    "#### **Map Function**"
   ]
  },
  {
   "cell_type": "markdown",
   "id": "4e3b74d6",
   "metadata": {},
   "source": [
    "map() har item par ek function apply karta hai aur result return karta hai."
   ]
  },
  {
   "cell_type": "code",
   "execution_count": null,
   "id": "0fe4f29e",
   "metadata": {},
   "outputs": [],
   "source": [
    "my_list : list[int] = [1,2,3,4,5,6,7]\n",
    "data = map(lambda x:x**2, my_list)\n",
    "\n",
    "mydata = list(data)\n",
    "print(mydata)\n"
   ]
  },
  {
   "cell_type": "markdown",
   "id": "327ed585",
   "metadata": {},
   "source": [
    "* lambda x: x**2 → har number ka square karega\n",
    "* map() → lambda ko list ke har element par lagata hai\n",
    "* list(data) → result ko list me convert karta hai"
   ]
  },
  {
   "cell_type": "markdown",
   "id": "2261936f",
   "metadata": {},
   "source": [
    "#### **Filter function**"
   ]
  },
  {
   "cell_type": "markdown",
   "id": "8712f848",
   "metadata": {},
   "source": [
    "filter() ka kaam hota hai:\n",
    "List ke sirf wo elements rakhna jo condition pass karte hain."
   ]
  },
  {
   "cell_type": "code",
   "execution_count": null,
   "id": "8266d31f",
   "metadata": {},
   "outputs": [],
   "source": [
    "my_list : list[int] = [1,2,3,4,5,6,7]\n",
    "data = list(filter(lambda x:x%2==0, my_list))\n",
    "\n",
    "print(data)"
   ]
  },
  {
   "cell_type": "markdown",
   "id": "79bc2680",
   "metadata": {},
   "source": [
    "* lambda x: x % 2 == 0 → sirf even numbers select karega\n",
    "* filter() → is function ko list ke har item par lagayega\n",
    "* list() → result ko list bana dega"
   ]
  },
  {
   "cell_type": "code",
   "execution_count": 16,
   "id": "0331294c",
   "metadata": {},
   "outputs": [
    {
     "name": "stdout",
     "output_type": "stream",
     "text": [
      "8\n"
     ]
    }
   ],
   "source": [
    "from typing import Callable\n",
    "\n",
    "add: Callable[[int, int], int] = lambda x, y: x + y\n",
    "\n",
    "print(add(3, 5))  # Output: 8\n"
   ]
  },
  {
   "cell_type": "markdown",
   "id": "549f06ee",
   "metadata": {},
   "source": [
    "#### **reduce()**\n",
    "reduce() ka kaam hota hai:\n",
    "List ke elements ko combine karke ek single result banana."
   ]
  },
  {
   "cell_type": "code",
   "execution_count": null,
   "id": "79bbfa96",
   "metadata": {},
   "outputs": [],
   "source": [
    "from functools import reduce\n",
    "\n",
    "my_list = [1, 2, 3, 4, 5]\n",
    "\n",
    "result = reduce(lambda x, y: x + y, my_list)\n",
    "print(result)\n"
   ]
  },
  {
   "cell_type": "markdown",
   "id": "c33a9389",
   "metadata": {},
   "source": [
    "* Step 1: 1 + 2 = 3\n",
    "* Step 2: 3 + 3 = 6\n",
    "* Step 3: 6 + 4 = 10\n",
    "* Step 4: 10 + 5 = 15\n",
    "* ➡️ Final result: 15"
   ]
  },
  {
   "cell_type": "markdown",
   "id": "83ef2c91",
   "metadata": {},
   "source": [
    "## What is a Generator Function?"
   ]
  },
  {
   "cell_type": "markdown",
   "id": "628a2c40",
   "metadata": {},
   "source": [
    "A generator function is a special type of function that returns values one at a time using the yield keyword, instead of returning everything at once with return.\n",
    "\n",
    "It is used to save memory and handle large data efficiently."
   ]
  },
  {
   "cell_type": "markdown",
   "id": "4664efe2",
   "metadata": {},
   "source": [
    "* iterate on element one by one\n",
    "* stop after each iteration\n",
    "* remember old iteration value (last iterate value) \n",
    "* next iterate: go farward from last iterate value"
   ]
  },
  {
   "cell_type": "markdown",
   "id": "f3099bce",
   "metadata": {},
   "source": [
    "**Why Use Generators?**\n",
    "\n",
    "* When working with large datasets\n",
    "* To reduce memory usage\n",
    "* When you only need to process data one item at a time"
   ]
  },
  {
   "cell_type": "markdown",
   "id": "7b46165b",
   "metadata": {},
   "source": [
    "Aap millions of values ek saath generate nahi karte, balki generator ka use karte hain jo ek value ek waqt mein generate karta hai. Jab aap us par iteration karte hain, to pehle pehli value deta hai, phir agla step complete karke dusri value deta hai — is tarah se memory save hoti hai."
   ]
  },
  {
   "cell_type": "code",
   "execution_count": 19,
   "id": "f90cf9ca",
   "metadata": {},
   "outputs": [
    {
     "name": "stdout",
     "output_type": "stream",
     "text": [
      "[1, 2, 3, 4, 5, 6, 7, 8, 9, 10]\n"
     ]
    }
   ],
   "source": [
    "## Generator Function\n",
    "def my_range(start:int , end:int , step: int=1):\n",
    "    for i in range(start,end+1,step):\n",
    "        yield i # Generator fucntion\n",
    "\n",
    "\n",
    "a = my_range(1,10)\n",
    "print(list(a))"
   ]
  },
  {
   "cell_type": "markdown",
   "id": "809d11ad",
   "metadata": {},
   "source": [
    "| Concept | Explanation |\n",
    "|--------|-------------|\n",
    "| `yield` | Pauses the function and **returns the value**, but remembers the function's state. |\n",
    "| `next()` | When you call `next(generator)`, it **resumes from last yield**, runs until next yield. |\n",
    "| `for loop` | Automatically calls `next()` repeatedly on the generator. |\n",
    "| Memory-efficient | Doesn't create full list in memory, **great for large data**. |"
   ]
  },
  {
   "cell_type": "code",
   "execution_count": 20,
   "id": "3e20f72d",
   "metadata": {},
   "outputs": [
    {
     "name": "stdout",
     "output_type": "stream",
     "text": [
      "<generator object my_range at 0x000001D68D42BB50>\n",
      "1\n",
      "2\n",
      "3\n",
      "Pakistan\n",
      "4\n"
     ]
    }
   ],
   "source": [
    "a = my_range(1,10)\n",
    "print(a)\n",
    "print(next(a))\n",
    "print(next(a))\n",
    "print(next(a))\n",
    "print(\"Pakistan\")\n",
    "print(next(a))"
   ]
  },
  {
   "cell_type": "code",
   "execution_count": 21,
   "id": "42bfecb6",
   "metadata": {},
   "outputs": [],
   "source": [
    "from collections.abc import Iterator\n",
    "\n",
    "MyDictT = dict[str, object]  # for example\n",
    "\n",
    "def yield_func() -> Iterator[MyDictT]:\n",
    "    a: MyDictT = {}\n",
    "    b: MyDictT = {}\n",
    "    ...\n",
    "    yield a\n",
    "    yield b"
   ]
  },
  {
   "cell_type": "code",
   "execution_count": 23,
   "id": "b1514001",
   "metadata": {},
   "outputs": [
    {
     "name": "stdout",
     "output_type": "stream",
     "text": [
      "1\n",
      "2\n"
     ]
    }
   ],
   "source": [
    "from collections.abc import Iterator\n",
    "\n",
    "def my_range(start:int , end:int , step: int=1)->Iterator[int]:\n",
    "    for i in range(start,end+1,step):\n",
    "        yield i # Generator fucntion\n",
    "\n",
    "\n",
    "iterator_variable = my_range(1,10)\n",
    "\n",
    "print(next(iterator_variable))\n",
    "print(next(iterator_variable))"
   ]
  },
  {
   "cell_type": "code",
   "execution_count": 24,
   "id": "272f3ac1",
   "metadata": {},
   "outputs": [
    {
     "name": "stdout",
     "output_type": "stream",
     "text": [
      "1\n",
      "2\n",
      "<class 'generator'>\n"
     ]
    }
   ],
   "source": [
    "from collections.abc import Iterator\n",
    "\n",
    "def my_range(start:int , end:int , step: int=1)->Iterator[int]:\n",
    "    for i in range(start,end+1,step):\n",
    "        yield i # Generator fucntion\n",
    "\n",
    "\n",
    "iterator_variable : Iterator[int] = my_range(1,10)\n",
    "\n",
    "print(next(iterator_variable))\n",
    "print(next(iterator_variable))\n",
    "\n",
    "print(type(iterator_variable))"
   ]
  },
  {
   "cell_type": "code",
   "execution_count": null,
   "id": "ba2f6eb7",
   "metadata": {},
   "outputs": [],
   "source": [
    "for i in iterator_variable:\n",
    "    print(i)\n"
   ]
  },
  {
   "cell_type": "code",
   "execution_count": 28,
   "id": "27330c50",
   "metadata": {},
   "outputs": [
    {
     "data": {
      "text/plain": [
       "['__class__',\n",
       " '__del__',\n",
       " '__delattr__',\n",
       " '__dir__',\n",
       " '__doc__',\n",
       " '__eq__',\n",
       " '__format__',\n",
       " '__ge__',\n",
       " '__getattribute__',\n",
       " '__getstate__',\n",
       " '__gt__',\n",
       " '__hash__',\n",
       " '__init__',\n",
       " '__init_subclass__',\n",
       " '__iter__',\n",
       " '__le__',\n",
       " '__lt__',\n",
       " '__name__',\n",
       " '__ne__',\n",
       " '__new__',\n",
       " '__next__',\n",
       " '__qualname__',\n",
       " '__reduce__',\n",
       " '__reduce_ex__',\n",
       " '__repr__',\n",
       " '__setattr__',\n",
       " '__sizeof__',\n",
       " '__str__',\n",
       " '__subclasshook__',\n",
       " 'close',\n",
       " 'gi_code',\n",
       " 'gi_frame',\n",
       " 'gi_running',\n",
       " 'gi_suspended',\n",
       " 'gi_yieldfrom',\n",
       " 'send',\n",
       " 'throw']"
      ]
     },
     "execution_count": 28,
     "metadata": {},
     "output_type": "execute_result"
    }
   ],
   "source": [
    "dir(iterator_variable)"
   ]
  },
  {
   "cell_type": "markdown",
   "id": "f7f350e2",
   "metadata": {},
   "source": [
    "### What is a Decorator Function in Python?\n",
    "\n",
    "A decorator function is a function that modifies or adds extra features to another function without changing its actual code.\n",
    "\n",
    "Think of it like wrapping a gift 🎁 — you keep the gift (original function) the same, but the wrapper (decorator) adds something special."
   ]
  },
  {
   "cell_type": "code",
   "execution_count": 35,
   "id": "2f2174d2",
   "metadata": {},
   "outputs": [
    {
     "name": "stdout",
     "output_type": "stream",
     "text": [
      "Before function runs\n",
      "Hello!\n",
      "After function runs\n"
     ]
    }
   ],
   "source": [
    "def my_decorator(func):\n",
    "    def wrapper():\n",
    "        print(\"Before function runs\")\n",
    "        func()\n",
    "        print(\"After function runs\")\n",
    "    return wrapper\n",
    "\n",
    "@my_decorator\n",
    "def say_hello():\n",
    "    print(\"Hello!\")\n",
    "\n",
    "say_hello()\n"
   ]
  },
  {
   "cell_type": "code",
   "execution_count": 36,
   "id": "fee8f32a",
   "metadata": {},
   "outputs": [
    {
     "name": "stdout",
     "output_type": "stream",
     "text": [
      "Hello!\n",
      "Hello!\n",
      "Hello!\n"
     ]
    }
   ],
   "source": [
    "def repeat(times):  # 👈 This is the outer function that accepts arguments\n",
    "    def decorator(func):  # 👈 This is the actual decorator\n",
    "        def wrapper(*args, **kwargs):  # 👈 This wraps the target function\n",
    "            for _ in range(times):\n",
    "                func(*args, **kwargs)\n",
    "        return wrapper\n",
    "    return decorator\n",
    "\n",
    "\n",
    "@repeat(3)  # 👈 Repeat the function 3 times\n",
    "def say_hello():\n",
    "    print(\"Hello!\")\n",
    "\n",
    "say_hello()\n"
   ]
  },
  {
   "cell_type": "markdown",
   "id": "00f7461d",
   "metadata": {},
   "source": [
    "#### Different Examples \n",
    "Only allow certain users to run the function:\n",
    "* **Example : 1** "
   ]
  },
  {
   "cell_type": "code",
   "execution_count": null,
   "id": "1543cf5d",
   "metadata": {},
   "outputs": [],
   "source": [
    "def allow_users(allowed_user):\n",
    "    def decorator(func):\n",
    "        def wrapper(user):\n",
    "            if user == allowed_user:\n",
    "                return func(user)\n",
    "            else:\n",
    "                print(\"Access Denied!\")\n",
    "        return wrapper\n",
    "    return decorator\n",
    "\n",
    "@allow_users(\"admin\")\n",
    "def delete_data(user):\n",
    "    print(f\"{user} deleted the data.\")\n",
    "\n",
    "delete_data(\"admin\")  # ✅ Allowed\n",
    "delete_data(\"guest\")  # ❌ Access Denied\n"
   ]
  },
  {
   "cell_type": "markdown",
   "id": "a144ab0a",
   "metadata": {},
   "source": [
    "* **Example : 2** "
   ]
  },
  {
   "cell_type": "code",
   "execution_count": null,
   "id": "6dc98e53",
   "metadata": {},
   "outputs": [],
   "source": [
    "import time\n",
    "\n",
    "def delay_warning(seconds):\n",
    "    def decorator(func):\n",
    "        def wrapper(*args, **kwargs):\n",
    "            start = time.time()\n",
    "            result = func(*args, **kwargs)\n",
    "            end = time.time()\n",
    "            if end - start > seconds:\n",
    "                print(\"⚠️ Function took too long!\")\n",
    "            return result\n",
    "        return wrapper\n",
    "    return decorator\n",
    "\n",
    "@delay_warning(2)\n",
    "def process_data():\n",
    "    time.sleep(3)  # Simulating delay\n",
    "    print(\"Data processed\")\n",
    "\n",
    "process_data()\n"
   ]
  },
  {
   "cell_type": "markdown",
   "id": "bf600216",
   "metadata": {},
   "source": [
    "* **Example : 3** "
   ]
  },
  {
   "cell_type": "code",
   "execution_count": 37,
   "id": "a88f88cf",
   "metadata": {},
   "outputs": [
    {
     "name": "stdout",
     "output_type": "stream",
     "text": [
      "[INFO] Calling: greet\n",
      "Hello, Usman!\n"
     ]
    }
   ],
   "source": [
    "def log_with(tag):\n",
    "    def decorator(func):\n",
    "        def wrapper(*args, **kwargs):\n",
    "            print(f\"[{tag}] Calling: {func.__name__}\")\n",
    "            return func(*args, **kwargs)\n",
    "        return wrapper\n",
    "    return decorator\n",
    "\n",
    "@log_with(\"INFO\")\n",
    "def greet(name):\n",
    "    print(f\"Hello, {name}!\")\n",
    "\n",
    "greet(\"Usman\")\n"
   ]
  }
 ],
 "metadata": {
  "kernelspec": {
   "display_name": ".venv",
   "language": "python",
   "name": "python3"
  },
  "language_info": {
   "codemirror_mode": {
    "name": "ipython",
    "version": 3
   },
   "file_extension": ".py",
   "mimetype": "text/x-python",
   "name": "python",
   "nbconvert_exporter": "python",
   "pygments_lexer": "ipython3",
   "version": "3.11.9"
  }
 },
 "nbformat": 4,
 "nbformat_minor": 5
}
