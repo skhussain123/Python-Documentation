{
 "cells": [
  {
   "cell_type": "markdown",
   "id": "ef5a3887",
   "metadata": {},
   "source": [
    "## What is a Module in Python?"
   ]
  },
  {
   "cell_type": "markdown",
   "id": "7cf3a156",
   "metadata": {},
   "source": [
    "A module in Python is a file that contains Python code (functions, classes, variables, or even runnable code) and is used to organize and reuse code efficiently.\n",
    "\n",
    "* A module is simply a .py file that can be imported and used in other Python programs.\n",
    "\n",
    "* Modules help keep the code modular, readable, and maintainable.\n",
    "* Python has built-in modules (like math, random, os) and also allows users to create custom modules."
   ]
  },
  {
   "cell_type": "markdown",
   "id": "76791985",
   "metadata": {},
   "source": [
    "#### **✅ 1. Creating a Module**\n",
    "Let's say you create a file named mymodule.py:"
   ]
  },
  {
   "cell_type": "code",
   "execution_count": null,
   "id": "e62d5e59",
   "metadata": {},
   "outputs": [],
   "source": [
    "# mymodule.py\n",
    "\n",
    "def greet(name):\n",
    "    return f\"Hello, {name}!\"\n",
    "\n",
    "pi = 3.14159"
   ]
  },
  {
   "cell_type": "markdown",
   "id": "1d7aba10",
   "metadata": {},
   "source": [
    "#### **✅ 2. Using (Importing) a Module**\n",
    "Now in another file, you can use that module:**"
   ]
  },
  {
   "cell_type": "code",
   "execution_count": null,
   "id": "f808503e",
   "metadata": {},
   "outputs": [],
   "source": [
    "# main.py\n",
    "\n",
    "import mymodule\n",
    "\n",
    "print(mymodule.greet(\"Ali\"))\n",
    "print(mymodule.pi)\n"
   ]
  },
  {
   "cell_type": "markdown",
   "id": "7690873e",
   "metadata": {},
   "source": [
    "#### **✅ 3. Different Ways to Import**"
   ]
  },
  {
   "cell_type": "code",
   "execution_count": null,
   "id": "34fdd7e6",
   "metadata": {},
   "outputs": [],
   "source": [
    "# Import entire module\n",
    "import mymodule\n",
    "\n",
    "# Import specific items\n",
    "from mymodule import greet, pi\n",
    "\n",
    "# Rename while importing\n",
    "import mymodule as mm\n",
    "print(mm.greet(\"Sara\"))\n"
   ]
  },
  {
   "cell_type": "markdown",
   "id": "4d926a0b",
   "metadata": {},
   "source": [
    "#### ✅ **Built-in Modules**"
   ]
  },
  {
   "cell_type": "code",
   "execution_count": null,
   "id": "85edee48",
   "metadata": {},
   "outputs": [],
   "source": [
    "import math\n",
    "\n",
    "print(math.sqrt(16))     # 4.0\n",
    "print(math.pi)           # 3.141592653589793\n"
   ]
  },
  {
   "cell_type": "markdown",
   "id": "177eccb6",
   "metadata": {},
   "source": [
    "#### **Checking Installed Modules**\n",
    "You can see all installed modules using:"
   ]
  },
  {
   "cell_type": "code",
   "execution_count": null,
   "id": "633502c4",
   "metadata": {},
   "outputs": [],
   "source": [
    "pip list\n",
    "\n",
    "# Or check available built-in modules:\n",
    "# help(\"modules\")\n"
   ]
  },
  {
   "cell_type": "markdown",
   "id": "5ed52a31",
   "metadata": {},
   "source": [
    "## Function in python\n",
    "A function is a reusable block of code that performs a specific task. It helps organize code, avoid repetition, and make programs easier to read and debug."
   ]
  },
  {
   "cell_type": "markdown",
   "id": "1662afcc",
   "metadata": {},
   "source": [
    "#### Types of functions"
   ]
  },
  {
   "cell_type": "markdown",
   "id": "c6357a00",
   "metadata": {},
   "source": [
    "#### ✅ **1. Normal Function**"
   ]
  },
  {
   "cell_type": "code",
   "execution_count": null,
   "id": "28ca2c73",
   "metadata": {},
   "outputs": [],
   "source": [
    "def greet():\n",
    "    print(f\"Hello\")\n",
    "    \n",
    "greet()\n"
   ]
  },
  {
   "cell_type": "markdown",
   "id": "0a8c3eb9",
   "metadata": {},
   "source": [
    "#### ✅ **2. Function with Parameters**"
   ]
  },
  {
   "cell_type": "code",
   "execution_count": null,
   "id": "51c66f47",
   "metadata": {},
   "outputs": [],
   "source": [
    "def greet(name):\n",
    "    print(f\"Hello, {name}!\")\n",
    "    \n",
    "greet(\"Ali\")\n"
   ]
  },
  {
   "cell_type": "markdown",
   "id": "5a85305d",
   "metadata": {},
   "source": [
    "#### ✅ **3. Function with Return Value**"
   ]
  },
  {
   "cell_type": "code",
   "execution_count": null,
   "id": "a5e1c300",
   "metadata": {},
   "outputs": [],
   "source": [
    "def add(a, b):\n",
    "    return a + b\n",
    "\n",
    "result = add(5, 3)\n",
    "print(result)\n"
   ]
  },
  {
   "cell_type": "markdown",
   "id": "889befd5",
   "metadata": {},
   "source": [
    "#### ✅ **4. Default Parameters**"
   ]
  },
  {
   "cell_type": "code",
   "execution_count": null,
   "id": "504e2b3e",
   "metadata": {},
   "outputs": [],
   "source": [
    "def greet(name=\"Guest\"):\n",
    "    print(f\"Hello, {name}!\")\n",
    "\n",
    "greet()          # Hello, Guest!\n",
    "greet(\"Sara\")    # Hello, Sara!\n"
   ]
  },
  {
   "cell_type": "markdown",
   "id": "74519369",
   "metadata": {},
   "source": [
    "#### ✅ **5. Keyword Arguments**"
   ]
  },
  {
   "cell_type": "code",
   "execution_count": null,
   "id": "01fb756d",
   "metadata": {},
   "outputs": [],
   "source": [
    "def student_info(name, age):\n",
    "    print(f\"Name: {name}, Age: {age}\")\n",
    "\n",
    "student_info(age=20, name=\"Usman\")\n"
   ]
  },
  {
   "cell_type": "markdown",
   "id": "283b5f71",
   "metadata": {},
   "source": [
    "#### ✅ **6. Variable Number of Arguments**"
   ]
  },
  {
   "cell_type": "code",
   "execution_count": null,
   "id": "edf24c50",
   "metadata": {},
   "outputs": [],
   "source": [
    "def print_numbers(*nums):\n",
    "    for num in nums:\n",
    "        print(num)\n",
    "\n",
    "print_numbers(1, 2, 3, 4)\n"
   ]
  },
  {
   "cell_type": "markdown",
   "id": "8771d1c2",
   "metadata": {},
   "source": [
    "#### ✅ **6. Lambda Functions (Anonymous Functions)**\n"
   ]
  },
  {
   "cell_type": "code",
   "execution_count": null,
   "id": "e3ff5e59",
   "metadata": {},
   "outputs": [],
   "source": [
    "add = lambda a, b: a + b\n",
    "print(add(2, 3))  # Output: 5\n"
   ]
  }
 ],
 "metadata": {
  "kernelspec": {
   "display_name": ".venv",
   "language": "python",
   "name": "python3"
  },
  "language_info": {
   "codemirror_mode": {
    "name": "ipython",
    "version": 3
   },
   "file_extension": ".py",
   "mimetype": "text/x-python",
   "name": "python",
   "nbconvert_exporter": "python",
   "pygments_lexer": "ipython3",
   "version": "3.11.9"
  }
 },
 "nbformat": 4,
 "nbformat_minor": 5
}
