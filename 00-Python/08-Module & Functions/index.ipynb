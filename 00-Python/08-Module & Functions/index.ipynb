{
 "cells": [
  {
   "cell_type": "markdown",
   "id": "ef5a3887",
   "metadata": {},
   "source": [
    "## What is a Modules in Python?"
   ]
  },
  {
   "cell_type": "markdown",
   "id": "2126e5a6",
   "metadata": {},
   "source": [
    "A module is a file containing Python code (functions, classes, or variables) that you can reuse in other Python programs by importing it. There are three types of modules in python:"
   ]
  },
  {
   "cell_type": "markdown",
   "id": "43dd1569",
   "metadata": {},
   "source": [
    "**lecture: what is modules** https://youtu.be/xwKO_y2gHxQ?si=MePBT1H7hDNtJ0Bj"
   ]
  },
  {
   "cell_type": "markdown",
   "id": "bdca11e4",
   "metadata": {},
   "source": [
    "#### **Types of Modules:**"
   ]
  },
  {
   "cell_type": "markdown",
   "id": "3f38c6b0",
   "metadata": {},
   "source": [
    "* External Modules - These modules are imported from a third party file or can be installed using a package manager like pip or conda. Since this code is written by someone else, we can install different versions of a same module with time\n",
    "\n",
    "* Built in Modules - These modules are ready to import and use and ships with the python interpreter. there is no need to install such modules explicitly.\n",
    "* Custom Modules\n"
   ]
  },
  {
   "cell_type": "markdown",
   "id": "934114e0",
   "metadata": {},
   "source": [
    "#### **1: The pip command (External (Third-party) Modules)**\n",
    "pip is the package installer for Python.\n",
    "\n",
    "Iska kaam hai: Python libraries ya modules ko install karna from the internet (Python Package Index – PyPI)."
   ]
  },
  {
   "cell_type": "code",
   "execution_count": null,
   "id": "55767cb7",
   "metadata": {},
   "outputs": [],
   "source": [
    "%pip install pandas"
   ]
  },
  {
   "cell_type": "markdown",
   "id": "d7223f87",
   "metadata": {},
   "source": [
    "#### **2: Built-in Modules**"
   ]
  },
  {
   "cell_type": "markdown",
   "id": "d9e2296e",
   "metadata": {},
   "source": [
    "* These modules are already included with Python when you install it.\n",
    "* You don’t need to install them separately.\n",
    "* Just import and use!\n",
    "* 🔸 Examples: **math**, **random**, **datetime**, **os**, **sys**"
   ]
  },
  {
   "cell_type": "code",
   "execution_count": 13,
   "id": "a693df21",
   "metadata": {},
   "outputs": [
    {
     "name": "stdout",
     "output_type": "stream",
     "text": [
      "5.0\n"
     ]
    }
   ],
   "source": [
    "import math\n",
    "print(math.sqrt(25))  # Output: 5.0"
   ]
  },
  {
   "cell_type": "markdown",
   "id": "14a31e35",
   "metadata": {},
   "source": [
    "### **3: Custom Module**"
   ]
  },
  {
   "cell_type": "markdown",
   "id": "54e3a62d",
   "metadata": {},
   "source": [
    "A custom module is a .py file you create yourself, which contains Python code like:\n",
    "\n",
    "* Functions\n",
    "* Variables\n",
    "* Classes\n",
    "You can then reuse that file by importing it into other Python scripts using import."
   ]
  },
  {
   "cell_type": "markdown",
   "id": "76791985",
   "metadata": {},
   "source": [
    "#### **✅ 1. Creating a Module**\n",
    "Let's say you create a file named mymodule.py:"
   ]
  },
  {
   "cell_type": "code",
   "execution_count": 14,
   "id": "e62d5e59",
   "metadata": {},
   "outputs": [],
   "source": [
    "def greet(name):\n",
    "    return f\"Hello, {name}!\"\n"
   ]
  },
  {
   "cell_type": "markdown",
   "id": "1d7aba10",
   "metadata": {},
   "source": [
    "#### **✅ 2. Using (Importing) a Module**\n",
    "Now in another file, you can use that module:**"
   ]
  },
  {
   "cell_type": "code",
   "execution_count": null,
   "id": "f808503e",
   "metadata": {},
   "outputs": [],
   "source": [
    "# main.py\n",
    "\n",
    "import mymodule\n",
    "\n",
    "print(mymodule.greet(\"Ali\"))\n",
    "print(mymodule.pi)\n"
   ]
  },
  {
   "cell_type": "markdown",
   "id": "7690873e",
   "metadata": {},
   "source": [
    "#### **✅ 3. Different Ways to Import**"
   ]
  },
  {
   "cell_type": "code",
   "execution_count": null,
   "id": "34fdd7e6",
   "metadata": {},
   "outputs": [],
   "source": [
    "# Import entire module\n",
    "import mymodule\n",
    "\n",
    "# Import specific items\n",
    "from mymodule import greet, pi\n",
    "\n",
    "# Rename while importing\n",
    "import mymodule as mm\n",
    "print(mm.greet(\"Sara\"))\n"
   ]
  },
  {
   "cell_type": "markdown",
   "id": "5ed52a31",
   "metadata": {},
   "source": [
    "## Function in python\n",
    "A function is a reusable block of code that performs a specific task. It helps organize code, avoid repetition, and make programs easier to read and debug."
   ]
  },
  {
   "cell_type": "markdown",
   "id": "2b2e4365",
   "metadata": {},
   "source": [
    "* user define function\n",
    "* pre-define function\n",
    "\n",
    "**Pre-define function**\n",
    "* print\n",
    "* len\n",
    "* id\n",
    "* dir\n",
    "* chr\n",
    "* ord\n",
    "* exec"
   ]
  },
  {
   "cell_type": "markdown",
   "id": "4d7c0bf1",
   "metadata": {},
   "source": [
    "**user define function**"
   ]
  },
  {
   "cell_type": "markdown",
   "id": "c6357a00",
   "metadata": {},
   "source": [
    "#### ✅ **1. Normal Function**"
   ]
  },
  {
   "cell_type": "code",
   "execution_count": null,
   "id": "28ca2c73",
   "metadata": {},
   "outputs": [],
   "source": [
    "def greet():\n",
    "    print(f\"Hello\")\n",
    "    \n",
    "greet()\n"
   ]
  },
  {
   "cell_type": "markdown",
   "id": "0a8c3eb9",
   "metadata": {},
   "source": [
    "#### ✅ **2. Function with Parameters**"
   ]
  },
  {
   "cell_type": "code",
   "execution_count": null,
   "id": "51c66f47",
   "metadata": {},
   "outputs": [],
   "source": [
    "def greet(name):\n",
    "    print(f\"Hello, {name}!\")\n",
    "    \n",
    "greet(\"Ali\")\n"
   ]
  },
  {
   "cell_type": "markdown",
   "id": "5a85305d",
   "metadata": {},
   "source": [
    "#### ✅ **3. Function with Return Value**"
   ]
  },
  {
   "cell_type": "code",
   "execution_count": null,
   "id": "a5e1c300",
   "metadata": {},
   "outputs": [],
   "source": [
    "def add(a, b):\n",
    "    return a + b\n",
    "\n",
    "result = add(5, 3)\n",
    "print(result)\n"
   ]
  },
  {
   "cell_type": "markdown",
   "id": "889befd5",
   "metadata": {},
   "source": [
    "#### ✅ **4. Default Parameters**"
   ]
  },
  {
   "cell_type": "code",
   "execution_count": null,
   "id": "504e2b3e",
   "metadata": {},
   "outputs": [],
   "source": [
    "def greet(name=\"Guest\"): # **parameters**\n",
    "    print(f\"Hello, {name}!\")\n",
    "\n",
    "greet()          # Hello, Guest!\n",
    "greet(\"Sara\")    # Hello, Sara!  # \"**arguments**\n"
   ]
  },
  {
   "cell_type": "markdown",
   "id": "74519369",
   "metadata": {},
   "source": [
    "#### ✅ **5. Keyword Arguments**"
   ]
  },
  {
   "cell_type": "code",
   "execution_count": 30,
   "id": "01fb756d",
   "metadata": {},
   "outputs": [
    {
     "name": "stdout",
     "output_type": "stream",
     "text": [
      "num1 value 20 and num 2 value 7\n"
     ]
    },
    {
     "data": {
      "text/plain": [
       "27"
      ]
     },
     "execution_count": 30,
     "metadata": {},
     "output_type": "execute_result"
    }
   ],
   "source": [
    "#                   param1       param2\n",
    "def add_two_numbers(num1 : int , num2 : int)->int:\n",
    "    print(f\"num1 value {num1} and num 2 value {num2}\")\n",
    "    return num1 + num2\n",
    "\n",
    "add_two_numbers(num2=7,num1=20)# agr1, arg2 key word arguments"
   ]
  },
  {
   "cell_type": "markdown",
   "id": "283b5f71",
   "metadata": {},
   "source": [
    "#### ✅ ***args **"
   ]
  },
  {
   "cell_type": "markdown",
   "id": "7607667e",
   "metadata": {},
   "source": [
    "* *args lets you pass any number of positional arguments.\n",
    "* It collects them into a tuple."
   ]
  },
  {
   "cell_type": "markdown",
   "id": "82a8319c",
   "metadata": {},
   "source": [
    "Accepts multiple positional arguments as a tuple"
   ]
  },
  {
   "cell_type": "code",
   "execution_count": 34,
   "id": "edf24c50",
   "metadata": {},
   "outputs": [
    {
     "name": "stdout",
     "output_type": "stream",
     "text": [
      "(1, 2, 3, 3, 5, 6) <class 'tuple'>\n"
     ]
    },
    {
     "data": {
      "text/plain": [
       "20"
      ]
     },
     "execution_count": 34,
     "metadata": {},
     "output_type": "execute_result"
    }
   ],
   "source": [
    "def abc(*nums):\n",
    "    print(nums, type(nums))\n",
    "    total = 0\n",
    "    for n in nums:\n",
    "        total += n\n",
    "\n",
    "    return total\n",
    "\n",
    "\n",
    "abc(1,2,3,3,5,6)"
   ]
  },
  {
   "cell_type": "code",
   "execution_count": null,
   "id": "9af52a3d",
   "metadata": {},
   "outputs": [],
   "source": [
    "from typing import Tuple\n",
    "\n",
    "def greet(*names: Tuple[str, ...]) -> None:\n",
    "    \"\"\"\n",
    "    This function greets all persons in the names tuple.\n",
    "    \"\"\"\n",
    "    for name in names:\n",
    "        print(\"Hello\", name)\n",
    "\n",
    "greet(\"Monica\", \"Luke\", \"Steve\", \"John\",\"Sir Zia\", \"Muhammad Qasim\")"
   ]
  },
  {
   "cell_type": "markdown",
   "id": "be2859f8",
   "metadata": {},
   "source": [
    "#### ✅ **7. **kwargs — Accepts Multiple Keyword Arguments as a Dictionary**"
   ]
  },
  {
   "cell_type": "markdown",
   "id": "6b42acbd",
   "metadata": {},
   "source": [
    "* **kwargs is used in function definitions to accept any number of keyword arguments.\n",
    "* The arguments are packed into a dictionary with keys and values."
   ]
  },
  {
   "cell_type": "markdown",
   "id": "93f2deb1",
   "metadata": {},
   "source": [
    "Accepts multiple keyword arguments as a dictionary"
   ]
  },
  {
   "cell_type": "code",
   "execution_count": null,
   "id": "b1077671",
   "metadata": {},
   "outputs": [
    {
     "name": "stdout",
     "output_type": "stream",
     "text": [
      "name: Ali\n",
      "age: 22\n",
      "city: Lahore\n"
     ]
    }
   ],
   "source": [
    "from typing import Dict\n",
    "\n",
    "def greet(**xyz: Dict[str,str]) -> None:\n",
    "    print(xyz)\n",
    "\n",
    "greet(a=\"pakistan\", b='China')"
   ]
  },
  {
   "cell_type": "code",
   "execution_count": null,
   "id": "592f43cb",
   "metadata": {},
   "outputs": [],
   "source": [
    "def xyz(**kargs):\n",
    "    print(kargs, type(kargs))\n",
    "\n",
    "\n",
    "xyz(a=7, b=20, c=30, x=1,y=2 , name=\"Muhammad Qasim\")"
   ]
  },
  {
   "cell_type": "code",
   "execution_count": 2,
   "id": "58bc008f",
   "metadata": {},
   "outputs": [
    {
     "name": "stdout",
     "output_type": "stream",
     "text": [
      "1 2 (7, 9, 9, 9) {'c': 20, 'd': 30, 'x': 100}\n"
     ]
    }
   ],
   "source": [
    "def my_function(a, b, *abc, **xyz):\n",
    "    print(a,b, abc, xyz)\n",
    "\n",
    "my_function(1,2, 7,9,9,9, c=20, d= 30, x=100)"
   ]
  },
  {
   "cell_type": "code",
   "execution_count": null,
   "id": "275158a8",
   "metadata": {},
   "outputs": [],
   "source": [
    "# typing hint error\n",
    "def my_function(a:int, b:int, *abc:Tuple[int, ...], **xyz:Dict[str,int]):\n",
    "    print(a,b, abc, xyz)\n",
    "\n",
    "my_function(1,2, 7,9,9,9, c=20, d= 30, x=100)"
   ]
  },
  {
   "cell_type": "code",
   "execution_count": 33,
   "id": "4cfd05c4",
   "metadata": {},
   "outputs": [
    {
     "name": "stdout",
     "output_type": "stream",
     "text": [
      "1 2 (7, 9, 9, 9) {'c': 20, 'd': 30, 'x': 100}\n"
     ]
    }
   ],
   "source": [
    "def my_function(a: int, b: int, *abc: int, **xyz: int) -> None:\n",
    "    print(a, b, abc, xyz)\n",
    "\n",
    "my_function(1, 2, 7, 9, 9, 9, c=20, d=30, x=100)"
   ]
  },
  {
   "cell_type": "markdown",
   "id": "8771d1c2",
   "metadata": {},
   "source": [
    "#### ✅ **8. Lambda Functions**\n",
    "Lambda function ek chhoti, anonymous (nameless) function hoti hai jo ek line me likhi jaati hai, aur tab use hoti hai jab function ko jaldi aur short me likhna ho.\n",
    "\n",
    "* Anonymous Functions\n",
    "* one line Functions\n"
   ]
  },
  {
   "cell_type": "markdown",
   "id": "de872fd5",
   "metadata": {},
   "source": [
    "#### ✅ Use kab karte hain?\n",
    "* Jab chhoti function chahiye ho\n",
    "* Jab function ko naam dena zaroori na ho\n",
    "* Mostly used in: map(), filter(), reduce()"
   ]
  },
  {
   "cell_type": "code",
   "execution_count": 10,
   "id": "e3ff5e59",
   "metadata": {},
   "outputs": [
    {
     "name": "stdout",
     "output_type": "stream",
     "text": [
      "5\n"
     ]
    }
   ],
   "source": [
    "add = lambda a, b: a + b\n",
    "print(add(2, 3))  # Output: 5\n"
   ]
  },
  {
   "cell_type": "markdown",
   "id": "bb28e8e8",
   "metadata": {},
   "source": [
    "#### **Map Function**"
   ]
  },
  {
   "cell_type": "markdown",
   "id": "4e3b74d6",
   "metadata": {},
   "source": [
    "map() har item par ek function apply karta hai aur result return karta hai."
   ]
  },
  {
   "cell_type": "code",
   "execution_count": null,
   "id": "0fe4f29e",
   "metadata": {},
   "outputs": [],
   "source": [
    "my_list : list[int] = [1,2,3,4,5,6,7]\n",
    "data = map(lambda x:x**2, my_list)\n",
    "\n",
    "mydata = list(data)\n",
    "print(mydata)\n"
   ]
  },
  {
   "cell_type": "markdown",
   "id": "327ed585",
   "metadata": {},
   "source": [
    "* lambda x: x**2 → har number ka square karega\n",
    "* map() → lambda ko list ke har element par lagata hai\n",
    "* list(data) → result ko list me convert karta hai"
   ]
  },
  {
   "cell_type": "markdown",
   "id": "2261936f",
   "metadata": {},
   "source": [
    "#### **Filter function**"
   ]
  },
  {
   "cell_type": "markdown",
   "id": "8712f848",
   "metadata": {},
   "source": [
    "filter() ka kaam hota hai:\n",
    "List ke sirf wo elements rakhna jo condition pass karte hain."
   ]
  },
  {
   "cell_type": "code",
   "execution_count": null,
   "id": "8266d31f",
   "metadata": {},
   "outputs": [],
   "source": [
    "my_list : list[int] = [1,2,3,4,5,6,7]\n",
    "data = list(filter(lambda x:x%2==0, my_list))\n",
    "\n",
    "print(data)"
   ]
  },
  {
   "cell_type": "markdown",
   "id": "79bc2680",
   "metadata": {},
   "source": [
    "* lambda x: x % 2 == 0 → sirf even numbers select karega\n",
    "* filter() → is function ko list ke har item par lagayega\n",
    "* list() → result ko list bana dega"
   ]
  },
  {
   "cell_type": "code",
   "execution_count": 1,
   "id": "0331294c",
   "metadata": {},
   "outputs": [
    {
     "name": "stdout",
     "output_type": "stream",
     "text": [
      "8\n"
     ]
    }
   ],
   "source": [
    "from typing import Callable\n",
    "\n",
    "add: Callable[[int, int], int] = lambda x, y: x + y\n",
    "\n",
    "print(add(3, 5))  # Output: 8\n"
   ]
  },
  {
   "cell_type": "markdown",
   "id": "549f06ee",
   "metadata": {},
   "source": [
    "#### **reduce()**\n",
    "reduce() ka kaam hota hai:\n",
    "List ke elements ko combine karke ek single result banana."
   ]
  },
  {
   "cell_type": "code",
   "execution_count": null,
   "id": "79bbfa96",
   "metadata": {},
   "outputs": [],
   "source": [
    "from functools import reduce\n",
    "\n",
    "my_list = [1, 2, 3, 4, 5]\n",
    "\n",
    "result = reduce(lambda x, y: x + y, my_list)\n",
    "print(result)\n"
   ]
  },
  {
   "cell_type": "markdown",
   "id": "c33a9389",
   "metadata": {},
   "source": [
    "* Step 1: 1 + 2 = 3\n",
    "* Step 2: 3 + 3 = 6\n",
    "* Step 3: 6 + 4 = 10\n",
    "* Step 4: 10 + 5 = 15\n",
    "* ➡️ Final result: 15"
   ]
  },
  {
   "cell_type": "markdown",
   "id": "ba6bff29",
   "metadata": {},
   "source": [
    "#### **Recursion in Python**"
   ]
  },
  {
   "cell_type": "markdown",
   "id": "b5692d80",
   "metadata": {},
   "source": [
    "Recursion is when a function calls itself to solve a smaller part of the problem.It continues calling itself until it reaches a base condition that stops the recursion."
   ]
  },
  {
   "cell_type": "markdown",
   "id": "b640f7e9",
   "metadata": {},
   "source": [
    "**Real-life Analogy:**\n",
    "Imagine you're looking into two mirrors facing each other — you see infinite reflections inside. That’s like recursion: something repeating within itself."
   ]
  },
  {
   "cell_type": "code",
   "execution_count": 18,
   "id": "f3b3788e",
   "metadata": {},
   "outputs": [
    {
     "name": "stdout",
     "output_type": "stream",
     "text": [
      "120\n",
      "5\n"
     ]
    }
   ],
   "source": [
    "# 5! = 5 × 4 × 3 × 2 × 1 = 120\n",
    "\n",
    "# factorial(5)\n",
    "# = 5 * factorial(4)\n",
    "# = 5 * 4 * factorial(3)\n",
    "# = 5 * 4 * 3 * factorial(2)\n",
    "# = 5 * 4 * 3 * 2 * factorial(1)\n",
    "# = 5 * 4 * 3 * 2 * 1\n",
    "# = 120\n",
    "\n",
    "def factorial(n):\n",
    "    if n == 1:\n",
    "        return 1  # base case\n",
    "    return n * factorial(n - 1)  # recursive call\n",
    "\n",
    "print(factorial(5))  # Output: 120\n",
    "\n",
    "\n",
    "# One More Example: Fibonacci Sequence\n",
    "\n",
    "def fib(n):\n",
    "    if n <= 1:\n",
    "        return n\n",
    "    return fib(n - 1) + fib(n - 2)\n",
    "\n",
    "print(fib(5))  # Output: 5\n",
    "\n",
    "\n"
   ]
  },
  {
   "cell_type": "markdown",
   "id": "83ef2c91",
   "metadata": {},
   "source": [
    "## What is a Generator Function?"
   ]
  },
  {
   "cell_type": "markdown",
   "id": "628a2c40",
   "metadata": {},
   "source": [
    "A generator function is a special type of function that returns values one at a time using the yield keyword, instead of returning everything at once with return.\n",
    "\n",
    "It is used to save memory and handle large data efficiently."
   ]
  },
  {
   "cell_type": "markdown",
   "id": "4664efe2",
   "metadata": {},
   "source": [
    "* iterate on element one by one\n",
    "* stop after each iteration\n",
    "* remember old iteration value (last iterate value) \n",
    "* next iterate: go farward from last iterate value"
   ]
  },
  {
   "cell_type": "markdown",
   "id": "f3099bce",
   "metadata": {},
   "source": [
    "**Why Use Generators?**\n",
    "\n",
    "* When working with large datasets\n",
    "* To reduce memory usage\n",
    "* When you only need to process data one item at a time"
   ]
  },
  {
   "cell_type": "markdown",
   "id": "7b46165b",
   "metadata": {},
   "source": [
    "Aap millions of values ek saath generate nahi karte, balki generator ka use karte hain jo ek value ek waqt mein generate karta hai. Jab aap us par iteration karte hain, to pehle pehli value deta hai, phir agla step complete karke dusri value deta hai — is tarah se memory save hoti hai."
   ]
  },
  {
   "cell_type": "markdown",
   "id": "6fb3d809",
   "metadata": {},
   "source": [
    "#### Generators in Python\n"
   ]
  },
  {
   "cell_type": "markdown",
   "id": "8068745f",
   "metadata": {},
   "source": [
    "Generators in Python are special type of functions that allow you to create an iterable sequence of values. A generator function returns a generator object, which can be used to generate the values one-by-one as you iterate over it. Generators are a powerful tool for working with large or complex data sets, as they allow you to generate the values on-the-fly, rather than having to create and store the entire sequence in memory."
   ]
  },
  {
   "cell_type": "markdown",
   "id": "b49d9cc0",
   "metadata": {},
   "source": [
    "#### Creating a Generator\n",
    "In Python, you can create a generator by using the yield statement in a function. The yield statement returns a value from the generator and suspends the execution of the function until the next value is requested. Here's an example:"
   ]
  },
  {
   "cell_type": "code",
   "execution_count": 10,
   "id": "1de76205",
   "metadata": {},
   "outputs": [
    {
     "name": "stdout",
     "output_type": "stream",
     "text": [
      "0\n",
      "1\n",
      "2\n",
      "3\n",
      "4\n"
     ]
    }
   ],
   "source": [
    "def my_generator():\n",
    "    for i in range(5):\n",
    "        yield i\n",
    "\n",
    "gen = my_generator()\n",
    "print(next(gen))\n",
    "print(next(gen))\n",
    "print(next(gen))\n",
    "print(next(gen))\n",
    "print(next(gen))\n",
    "# Output:\n",
    "# 0\n",
    "# 1\n",
    "# 2\n",
    "# 3\n",
    "# 4"
   ]
  },
  {
   "cell_type": "markdown",
   "id": "f37002e8",
   "metadata": {},
   "source": [
    "As you can see, the generator function my_generator() returns a generator object, which can be used to generate the values in the range 0 to 4. The next() function is used to request the next value from the generator, and the generator resumes its execution until it encounters another yield statement or until it reaches the end of the function."
   ]
  },
  {
   "cell_type": "markdown",
   "id": "bf4399fc",
   "metadata": {},
   "source": [
    "#### Using a Generator\n",
    "Once you have created a generator, you can use it in a variety of ways, such as in a for loop, a list comprehension, or a generator expression. Here's an example:"
   ]
  },
  {
   "cell_type": "code",
   "execution_count": 11,
   "id": "95957428",
   "metadata": {},
   "outputs": [
    {
     "name": "stdout",
     "output_type": "stream",
     "text": [
      "0\n",
      "1\n",
      "2\n",
      "3\n",
      "4\n"
     ]
    }
   ],
   "source": [
    "gen = my_generator()\n",
    "for i in gen:\n",
    "    print(i)\n",
    "# Output:\n",
    "# 0\n",
    "# 1\n",
    "# 2\n",
    "# 3\n",
    "# 4"
   ]
  },
  {
   "cell_type": "markdown",
   "id": "e589840e",
   "metadata": {},
   "source": [
    "As you can see, the generator can be used in a for loop, just like any other iterable sequence. The generator is used to generate the values one-by-one as the loop iterates over it."
   ]
  },
  {
   "cell_type": "markdown",
   "id": "a72e6855",
   "metadata": {},
   "source": [
    "#### Benefits of Generators\n",
    "Generators offer several benefits over other types of sequences, such as lists, tuples, and sets. One of the main benefits of generators is that they allow you to generate the values on-the-fly, rather than having to create and store the entire sequence in memory. This makes generators a powerful tool for working with large or complex data sets, as you can generate the values as you need them, rather than having to store them all in memory at once.\n",
    "\n",
    "Another benefit of generators is that they are lazy, which means that the values are generated only when they are requested. This allows you to generate the values in a more efficient and memory-friendly manner, as you don't have to generate all the values up front."
   ]
  },
  {
   "cell_type": "code",
   "execution_count": 7,
   "id": "f90cf9ca",
   "metadata": {},
   "outputs": [
    {
     "name": "stdout",
     "output_type": "stream",
     "text": [
      "[1, 2, 3, 4, 5, 6, 7, 8, 9, 10]\n"
     ]
    }
   ],
   "source": [
    "## Generator Function\n",
    "def my_range(start:int , end:int , step: int=1):\n",
    "    for i in range(start,end+1,step):\n",
    "        yield i # Generator fucntion\n",
    "\n",
    "\n",
    "a = my_range(1,10)\n",
    "print(list(a))"
   ]
  },
  {
   "cell_type": "markdown",
   "id": "809d11ad",
   "metadata": {},
   "source": [
    "| Concept | Explanation |\n",
    "|--------|-------------|\n",
    "| `yield` | Pauses the function and **returns the value**, but remembers the function's state. |\n",
    "| `next()` | When you call `next(generator)`, it **resumes from last yield**, runs until next yield. |\n",
    "| `for loop` | Automatically calls `next()` repeatedly on the generator. |\n",
    "| Memory-efficient | Doesn't create full list in memory, **great for large data**. |"
   ]
  },
  {
   "cell_type": "code",
   "execution_count": 9,
   "id": "3e20f72d",
   "metadata": {},
   "outputs": [
    {
     "name": "stdout",
     "output_type": "stream",
     "text": [
      "<generator object my_range at 0x00000234BC8C4A90>\n",
      "5\n",
      "6\n",
      "7\n",
      "Pakistan\n",
      "8\n"
     ]
    }
   ],
   "source": [
    "\n",
    "print(a)\n",
    "print(next(a))\n",
    "print(next(a))\n",
    "print(next(a))\n",
    "print(\"Pakistan\")\n",
    "print(next(a))"
   ]
  },
  {
   "cell_type": "code",
   "execution_count": 21,
   "id": "42bfecb6",
   "metadata": {},
   "outputs": [],
   "source": [
    "from collections.abc import Iterator\n",
    "\n",
    "MyDictT = dict[str, object]  # for example\n",
    "\n",
    "def yield_func() -> Iterator[MyDictT]:\n",
    "    a: MyDictT = {}\n",
    "    b: MyDictT = {}\n",
    "    ...\n",
    "    yield a\n",
    "    yield b"
   ]
  },
  {
   "cell_type": "code",
   "execution_count": 23,
   "id": "b1514001",
   "metadata": {},
   "outputs": [
    {
     "name": "stdout",
     "output_type": "stream",
     "text": [
      "1\n",
      "2\n"
     ]
    }
   ],
   "source": [
    "from collections.abc import Iterator\n",
    "\n",
    "def my_range(start:int , end:int , step: int=1)->Iterator[int]:\n",
    "    for i in range(start,end+1,step):\n",
    "        yield i # Generator fucntion\n",
    "\n",
    "\n",
    "iterator_variable = my_range(1,10)\n",
    "\n",
    "print(next(iterator_variable))\n",
    "print(next(iterator_variable))"
   ]
  },
  {
   "cell_type": "code",
   "execution_count": 24,
   "id": "272f3ac1",
   "metadata": {},
   "outputs": [
    {
     "name": "stdout",
     "output_type": "stream",
     "text": [
      "1\n",
      "2\n",
      "<class 'generator'>\n"
     ]
    }
   ],
   "source": [
    "from collections.abc import Iterator\n",
    "\n",
    "def my_range(start:int , end:int , step: int=1)->Iterator[int]:\n",
    "    for i in range(start,end+1,step):\n",
    "        yield i # Generator fucntion\n",
    "\n",
    "\n",
    "iterator_variable : Iterator[int] = my_range(1,10)\n",
    "\n",
    "print(next(iterator_variable))\n",
    "print(next(iterator_variable))\n",
    "\n",
    "print(type(iterator_variable))"
   ]
  },
  {
   "cell_type": "code",
   "execution_count": null,
   "id": "ba2f6eb7",
   "metadata": {},
   "outputs": [],
   "source": [
    "for i in iterator_variable:\n",
    "    print(i)\n"
   ]
  },
  {
   "cell_type": "code",
   "execution_count": 28,
   "id": "27330c50",
   "metadata": {},
   "outputs": [
    {
     "data": {
      "text/plain": [
       "['__class__',\n",
       " '__del__',\n",
       " '__delattr__',\n",
       " '__dir__',\n",
       " '__doc__',\n",
       " '__eq__',\n",
       " '__format__',\n",
       " '__ge__',\n",
       " '__getattribute__',\n",
       " '__getstate__',\n",
       " '__gt__',\n",
       " '__hash__',\n",
       " '__init__',\n",
       " '__init_subclass__',\n",
       " '__iter__',\n",
       " '__le__',\n",
       " '__lt__',\n",
       " '__name__',\n",
       " '__ne__',\n",
       " '__new__',\n",
       " '__next__',\n",
       " '__qualname__',\n",
       " '__reduce__',\n",
       " '__reduce_ex__',\n",
       " '__repr__',\n",
       " '__setattr__',\n",
       " '__sizeof__',\n",
       " '__str__',\n",
       " '__subclasshook__',\n",
       " 'close',\n",
       " 'gi_code',\n",
       " 'gi_frame',\n",
       " 'gi_running',\n",
       " 'gi_suspended',\n",
       " 'gi_yieldfrom',\n",
       " 'send',\n",
       " 'throw']"
      ]
     },
     "execution_count": 28,
     "metadata": {},
     "output_type": "execute_result"
    }
   ],
   "source": [
    "dir(iterator_variable)"
   ]
  },
  {
   "cell_type": "markdown",
   "id": "f7f350e2",
   "metadata": {},
   "source": [
    "### What is a Decorator Function in Python?\n",
    "\n",
    "A decorator function is a function that modifies or adds extra features to another function without changing its actual code.\n",
    "\n",
    "Think of it like wrapping a gift 🎁 — you keep the gift (original function) the same, but the wrapper (decorator) adds something special."
   ]
  },
  {
   "cell_type": "code",
   "execution_count": 35,
   "id": "2f2174d2",
   "metadata": {},
   "outputs": [
    {
     "name": "stdout",
     "output_type": "stream",
     "text": [
      "Before function runs\n",
      "Hello!\n",
      "After function runs\n"
     ]
    }
   ],
   "source": [
    "def my_decorator(func):\n",
    "    def wrapper():\n",
    "        print(\"Before function runs\")\n",
    "        func()\n",
    "        print(\"After function runs\")\n",
    "    return wrapper\n",
    "\n",
    "@my_decorator\n",
    "def say_hello():\n",
    "    print(\"Hello!\")\n",
    "\n",
    "say_hello()\n"
   ]
  },
  {
   "cell_type": "code",
   "execution_count": 36,
   "id": "fee8f32a",
   "metadata": {},
   "outputs": [
    {
     "name": "stdout",
     "output_type": "stream",
     "text": [
      "Hello!\n",
      "Hello!\n",
      "Hello!\n"
     ]
    }
   ],
   "source": [
    "def repeat(times):  # 👈 This is the outer function that accepts arguments\n",
    "    def decorator(func):  # 👈 This is the actual decorator\n",
    "        def wrapper(*args, **kwargs):  # 👈 This wraps the target function\n",
    "            for _ in range(times):\n",
    "                func(*args, **kwargs)\n",
    "        return wrapper\n",
    "    return decorator\n",
    "\n",
    "\n",
    "@repeat(3)  # 👈 Repeat the function 3 times\n",
    "def say_hello():\n",
    "    print(\"Hello!\")\n",
    "\n",
    "say_hello()\n"
   ]
  },
  {
   "cell_type": "markdown",
   "id": "00f7461d",
   "metadata": {},
   "source": [
    "#### Different Examples \n",
    "Only allow certain users to run the function:\n",
    "* **Example : 1** "
   ]
  },
  {
   "cell_type": "code",
   "execution_count": 8,
   "id": "1543cf5d",
   "metadata": {},
   "outputs": [
    {
     "name": "stdout",
     "output_type": "stream",
     "text": [
      "admin deleted the data.\n",
      "Access Denied!\n"
     ]
    }
   ],
   "source": [
    "def allow_users(allowed_user):\n",
    "    def decorator(func):\n",
    "        def wrapper(user):\n",
    "            if user == allowed_user:\n",
    "                return func(user)\n",
    "            else:\n",
    "                print(\"Access Denied!\")\n",
    "        return wrapper\n",
    "    return decorator\n",
    "\n",
    "@allow_users(\"admin\")\n",
    "def delete_data(user):\n",
    "    print(f\"{user} deleted the data.\")\n",
    "\n",
    "delete_data(\"admin\")  # ✅ Allowed\n",
    "delete_data(\"guest\")  # ❌ Access Denied\n"
   ]
  },
  {
   "cell_type": "markdown",
   "id": "a144ab0a",
   "metadata": {},
   "source": [
    "* **Example : 2** "
   ]
  },
  {
   "cell_type": "code",
   "execution_count": null,
   "id": "6dc98e53",
   "metadata": {},
   "outputs": [],
   "source": [
    "import time\n",
    "\n",
    "def delay_warning(seconds):\n",
    "    def decorator(func):\n",
    "        def wrapper(*args, **kwargs):\n",
    "            start = time.time()\n",
    "            result = func(*args, **kwargs)\n",
    "            end = time.time()\n",
    "            if end - start > seconds:\n",
    "                print(\"⚠️ Function took too long!\")\n",
    "            return result\n",
    "        return wrapper\n",
    "    return decorator\n",
    "\n",
    "@delay_warning(2)\n",
    "def process_data():\n",
    "    time.sleep(3)  # Simulating delay\n",
    "    print(\"Data processed\")\n",
    "\n",
    "process_data()\n"
   ]
  },
  {
   "cell_type": "markdown",
   "id": "bf600216",
   "metadata": {},
   "source": [
    "* **Example : 3** "
   ]
  },
  {
   "cell_type": "code",
   "execution_count": 37,
   "id": "a88f88cf",
   "metadata": {},
   "outputs": [
    {
     "name": "stdout",
     "output_type": "stream",
     "text": [
      "[INFO] Calling: greet\n",
      "Hello, Usman!\n"
     ]
    }
   ],
   "source": [
    "def log_with(tag):\n",
    "    def decorator(func):\n",
    "        def wrapper(*args, **kwargs):\n",
    "            print(f\"[{tag}] Calling: {func.__name__}\")\n",
    "            return func(*args, **kwargs)\n",
    "        return wrapper\n",
    "    return decorator\n",
    "\n",
    "@log_with(\"INFO\")\n",
    "def greet(name):\n",
    "    print(f\"Hello, {name}!\")\n",
    "\n",
    "greet(\"Usman\")\n"
   ]
  }
 ],
 "metadata": {
  "kernelspec": {
   "display_name": ".venv",
   "language": "python",
   "name": "python3"
  },
  "language_info": {
   "codemirror_mode": {
    "name": "ipython",
    "version": 3
   },
   "file_extension": ".py",
   "mimetype": "text/x-python",
   "name": "python",
   "nbconvert_exporter": "python",
   "pygments_lexer": "ipython3",
   "version": "3.11.9"
  }
 },
 "nbformat": 4,
 "nbformat_minor": 5
}
