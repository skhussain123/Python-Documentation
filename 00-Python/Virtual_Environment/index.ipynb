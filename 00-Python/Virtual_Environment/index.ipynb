{
 "cells": [
  {
   "cell_type": "markdown",
   "id": "11a7f2e2",
   "metadata": {},
   "source": [
    "### **Virtual Environment**\n",
    "A virtual environment is a tool used to isolate specific Python environments on a single machine, allowing you to work on multiple projects with different dependencies and packages without conflicts. This can be especially useful when working on projects that have conflicting package versions or packages that are not compatible with each other.\n",
    "\n",
    "To create a virtual environment in Python, you can use the venv module that comes with Python. Here's an example of how to create a virtual environment and activate it:"
   ]
  },
  {
   "cell_type": "markdown",
   "id": "a289d139",
   "metadata": {},
   "source": [
    "Video lecture: https://youtu.be/nt6LlFTWOkg?si=YJJ07JnkwIXXiXdW"
   ]
  },
  {
   "cell_type": "code",
   "execution_count": 3,
   "id": "2d5c34df",
   "metadata": {},
   "outputs": [],
   "source": [
    "# # Create a virtual environment\n",
    "# python -m venv myenv\n",
    "\n",
    "# # Activate the virtual environment (Linux/macOS)\n",
    "# source myenv/bin/activate\n",
    "\n",
    "# # Activate the virtual environment (Windows)\n",
    "# myenv\\Scripts\\activate.bat"
   ]
  },
  {
   "cell_type": "markdown",
   "id": "54c01e56",
   "metadata": {},
   "source": [
    "Once the virtual environment is activated, any packages that you install using pip will be installed in the virtual environment, rather than in the global Python environment. This allows you to have a separate set of packages for each project, without affecting the packages installed in the global environment.\n",
    "\n",
    "To deactivate the virtual environment, you can use the deactivate command:"
   ]
  },
  {
   "cell_type": "code",
   "execution_count": 4,
   "id": "3656bfb0",
   "metadata": {},
   "outputs": [],
   "source": [
    "# Deactivate the virtual environment\n",
    "# deactivate"
   ]
  },
  {
   "cell_type": "markdown",
   "id": "3efbef0f",
   "metadata": {},
   "source": [
    "### **The \"requirements.txt\" file**\n",
    "In addition to creating and activating a virtual environment, it can be useful to create a requirements.txt file that lists the packages and their versions that your project depends on. This file can be used to easily install all the required packages in a new environment.\n",
    "\n",
    "To create a requirements.txt file, you can use the pip freeze command, which outputs a list of installed packages and their versions. For example:"
   ]
  },
  {
   "cell_type": "code",
   "execution_count": null,
   "id": "d7ca9a1d",
   "metadata": {},
   "outputs": [],
   "source": [
    "# Output the list of installed packages and their versions to a file\n",
    "# pip freeze > requirements.txt"
   ]
  },
  {
   "cell_type": "markdown",
   "id": "464d3ee9",
   "metadata": {},
   "source": [
    "To install the packages listed in the requirements.txt file, you can use the pip install command with the -r flag:"
   ]
  },
  {
   "cell_type": "markdown",
   "id": "eed6bec2",
   "metadata": {},
   "source": [
    "Using a virtual environment and a requirements.txt file can help you manage the dependencies for your Python projects and ensure that your projects are portable and can be easily set up on a new machine."
   ]
  },
  {
   "cell_type": "markdown",
   "id": "ce5d4110",
   "metadata": {},
   "source": [
    "### **How import works in Python**"
   ]
  },
  {
   "cell_type": "markdown",
   "id": "9d675b27",
   "metadata": {},
   "source": [
    "Video lecture: https://youtu.be/Pr7UOr35NcI?si=--t8nUZLwB-3xv9T"
   ]
  },
  {
   "cell_type": "markdown",
   "id": "c058d602",
   "metadata": {},
   "source": [
    "\n",
    "Importing in Python is the process of loading code from a Python module into the current script. This allows you to use the functions and variables defined in the module in your current script, as well as any additional modules that the imported module may depend on.\n",
    "\n",
    "To import a module in Python, you use the import statement followed by the name of the module. For example, to import the math module, which contains a variety of mathematical functions, you would use the following statement:"
   ]
  },
  {
   "cell_type": "code",
   "execution_count": null,
   "id": "e2138fb7",
   "metadata": {},
   "outputs": [],
   "source": [
    "import math"
   ]
  },
  {
   "cell_type": "markdown",
   "id": "db15df1c",
   "metadata": {},
   "source": [
    "Once a module is imported, you can use any of the functions and variables defined in the module by using the dot notation. For example, to use the sqrt function from the math module, you would write:"
   ]
  },
  {
   "cell_type": "code",
   "execution_count": null,
   "id": "f21c4282",
   "metadata": {},
   "outputs": [],
   "source": [
    "import math\n",
    "\n",
    "result = math.sqrt(9)\n",
    "print(result)  # Output: 3.0"
   ]
  },
  {
   "cell_type": "markdown",
   "id": "ce14ddc7",
   "metadata": {},
   "source": [
    "#### **from keyword**"
   ]
  },
  {
   "cell_type": "markdown",
   "id": "574103e1",
   "metadata": {},
   "source": [
    "You can also import specific functions or variables from a module using the from keyword. For example, to import only the sqrt function from the math module, you would write:"
   ]
  },
  {
   "cell_type": "code",
   "execution_count": null,
   "id": "9fc962e4",
   "metadata": {},
   "outputs": [],
   "source": [
    "from math import sqrt\n",
    "\n",
    "result = sqrt(9)\n",
    "print(result)  # Output: 3.0"
   ]
  },
  {
   "cell_type": "markdown",
   "id": "067a762e",
   "metadata": {},
   "source": [
    "You can also import multiple functions or variables at once by separating them with a comma:"
   ]
  },
  {
   "cell_type": "code",
   "execution_count": null,
   "id": "228e5eaf",
   "metadata": {},
   "outputs": [],
   "source": [
    "from math import sqrt, pi\n",
    "\n",
    "result = sqrt(9)\n",
    "print(result)  # Output: 3.0\n",
    "\n",
    "print(pi)  # Output: 3.141592653589793"
   ]
  },
  {
   "cell_type": "markdown",
   "id": "917b849f",
   "metadata": {},
   "source": [
    "### **importing everything**\n",
    "It's also possible to import all functions and variables from a module using the * wildcard. However, this is generally not recommended as it can lead to confusion and make it harder to understand where specific functions and variables are coming from."
   ]
  },
  {
   "cell_type": "code",
   "execution_count": null,
   "id": "30d93c09",
   "metadata": {},
   "outputs": [],
   "source": [
    "from math import *\n",
    "\n",
    "result = sqrt(9)\n",
    "print(result)  # Output: 3.0\n",
    "\n",
    "print(pi)  # Output: 3.141592653589793"
   ]
  },
  {
   "cell_type": "markdown",
   "id": "87a5c7b5",
   "metadata": {},
   "source": [
    "Python also allows you to rename imported modules using the as keyword. This can be useful if you want to use a shorter or more descriptive name for a module, or if you want to avoid naming conflicts with other modules or variables in your code."
   ]
  },
  {
   "cell_type": "markdown",
   "id": "34a993e4",
   "metadata": {},
   "source": [
    "#### **The \"as\" keyword**"
   ]
  },
  {
   "cell_type": "code",
   "execution_count": null,
   "id": "a638d8ca",
   "metadata": {},
   "outputs": [],
   "source": [
    "import math as m\n",
    "\n",
    "result = m.sqrt(9)\n",
    "print(result)  # Output: 3.0\n",
    "\n",
    "print(m.pi)  # Output: 3.141592653589793"
   ]
  },
  {
   "cell_type": "markdown",
   "id": "b3ee4874",
   "metadata": {},
   "source": [
    "### **The dir function**"
   ]
  },
  {
   "cell_type": "markdown",
   "id": "4be8687b",
   "metadata": {},
   "source": [
    "Finally, Python has a built-in function called dir that you can use to view the names of all the functions and variables defined in a module. This can be helpful for exploring and understanding the contents of a new module."
   ]
  },
  {
   "cell_type": "code",
   "execution_count": null,
   "id": "5e6c753b",
   "metadata": {},
   "outputs": [],
   "source": [
    "import math\n",
    "\n",
    "print(dir(math))"
   ]
  },
  {
   "cell_type": "markdown",
   "id": "2a6008dd",
   "metadata": {},
   "source": [
    "This will output a list of all the names defined in the math module, including functions like sqrt and pi, as well as other variables and constants.\n",
    "\n",
    "In summary, the import statement in Python allows you to access the functions and variables defined in a module from within your current script. You can import the entire module, specific functions or variables, or use the * wildcard to import everything. You can also use the as keyword to rename a module, and the dir function to view the contents of a module."
   ]
  },
  {
   "cell_type": "markdown",
   "id": "93cf8085",
   "metadata": {},
   "source": [
    "## **if \"__name__ == \"__main__\" in Python**"
   ]
  },
  {
   "cell_type": "markdown",
   "id": "4f03d15c",
   "metadata": {},
   "source": [
    "video lecture: https://youtu.be/y_CX2Rvitk8?si=ac4p7SpweV9XVQiM"
   ]
  },
  {
   "cell_type": "markdown",
   "id": "c4ec2812",
   "metadata": {},
   "source": [
    "The if __name__ == \"__main__\" idiom is a common pattern used in Python scripts to determine whether the script is being run directly or being imported as a module into another script.\n",
    "\n",
    "In Python, the __name__ variable is a built-in variable that is automatically set to the name of the current module. When a Python script is run directly, the __name__ variable is set to the string __main__ When the script is imported as a module into another script, the __name__ variable is set to the name of the module.\n",
    "\n",
    "Here's an example of how the if __name__ == __main__ idiom can be used:"
   ]
  },
  {
   "cell_type": "code",
   "execution_count": null,
   "id": "2e9bcc4c",
   "metadata": {},
   "outputs": [],
   "source": [
    "def main():\n",
    "    # Code to be run when the script is run directly\n",
    "    print(\"Running script directly\")\n",
    "\n",
    "if __name__ == \"__main__\":\n",
    "    main()"
   ]
  },
  {
   "cell_type": "markdown",
   "id": "cdc6f037",
   "metadata": {},
   "source": [
    "In this example, the main function contains the code that should be run when the script is run directly. The if statement at the bottom checks whether the __name__ variable is equal to __main__. If it is, the main function is called."
   ]
  },
  {
   "cell_type": "markdown",
   "id": "1acdd363",
   "metadata": {},
   "source": [
    "#### Why is it useful?\n",
    "This idiom is useful because it allows you to reuse code from a script by importing it as a module into another script, without running the code in the original script. For example, consider the following script:"
   ]
  },
  {
   "cell_type": "code",
   "execution_count": null,
   "id": "04104186",
   "metadata": {},
   "outputs": [],
   "source": [
    "def main():\n",
    "    print(\"Running script directly\")\n",
    "\n",
    "if __name__ == \"__main__\":\n",
    "    main()"
   ]
  },
  {
   "cell_type": "markdown",
   "id": "6f563513",
   "metadata": {},
   "source": [
    "If you run this script directly, it will output \"Running script directly\". However, if you import it as a module into another script and call the main function from the imported module, it will not output anything:"
   ]
  },
  {
   "cell_type": "code",
   "execution_count": null,
   "id": "7cafa8b3",
   "metadata": {},
   "outputs": [],
   "source": [
    "import script\n",
    "\n",
    "script.main()  # Output: \"Running script directly\""
   ]
  },
  {
   "cell_type": "markdown",
   "id": "8e5ac6b5",
   "metadata": {},
   "source": [
    "This can be useful if you have code that you want to reuse in multiple scripts, but you only want it to run when the script is run directly and not when it's imported as a module."
   ]
  },
  {
   "cell_type": "markdown",
   "id": "5f2fd545",
   "metadata": {},
   "source": [
    "It's important to note that the if __name__ == \"__main__\" idiom is not required to run a Python script. You can still run a script without it by simply calling the functions or running the code you want to execute directly. However, the if __name__ == \"__main__\" idiom can be a useful tool for organizing and separating code that should be run directly from code that should be imported and used as a module.\n",
    "\n",
    "In summary, the if __name__ == \"__main__\" idiom is a common pattern used in Python scripts to determine whether the script is being run directly or being imported as a module into another script. It allows you to reuse code from a script by importing it as a module into another script, without running the code in the original script."
   ]
  }
 ],
 "metadata": {
  "kernelspec": {
   "display_name": ".venv",
   "language": "python",
   "name": "python3"
  },
  "language_info": {
   "codemirror_mode": {
    "name": "ipython",
    "version": 3
   },
   "file_extension": ".py",
   "mimetype": "text/x-python",
   "name": "python",
   "nbconvert_exporter": "python",
   "pygments_lexer": "ipython3",
   "version": "3.11.9"
  }
 },
 "nbformat": 4,
 "nbformat_minor": 5
}
