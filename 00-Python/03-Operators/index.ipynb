{
 "cells": [
  {
   "cell_type": "markdown",
   "id": "2e5b5d03",
   "metadata": {},
   "source": [
    "### **Operator and Operand**\n",
    "\n",
    "\n",
    "In programming, an operator is a special symbol or keyword used to perform operations on variables and values.\n",
    "\n",
    "* **Operator**: A symbol that performs an operation (e.g., +, -, *, /).\n",
    "* **Operand**: The value(s) or variable(s) that the operator works with.\n",
    "\n"
   ]
  },
  {
   "cell_type": "markdown",
   "id": "939e9796",
   "metadata": {},
   "source": [
    "#### Python Operators:\n",
    "* Arithmetic operators\n",
    "* Assignment operators\n",
    "* Comparison operators\n",
    "* Logical operators\n",
    "* Identity operators\n",
    "* Membership operators\n",
    "* Bitwise operators"
   ]
  },
  {
   "cell_type": "markdown",
   "id": "5a5c8081",
   "metadata": {},
   "source": [
    "Arithmetic operators are used with numeric values to perform common mathematical operations:"
   ]
  },
  {
   "cell_type": "code",
   "execution_count": 1,
   "id": "e30b473a",
   "metadata": {},
   "outputs": [
    {
     "name": "stdout",
     "output_type": "stream",
     "text": [
      "  Operator            Name Example    Try it\n",
      "0        +        Addition   x + y  Try it »\n",
      "1        -     Subtraction   x - y  Try it »\n",
      "2        *  Multiplication   x * y  Try it »\n",
      "3        /        Division   x / y  Try it »\n",
      "4        %         Modulus   x % y  Try it »\n",
      "5       **  Exponentiation  x ** y  Try it »\n",
      "6       //  Floor division  x // y  Try it »\n"
     ]
    }
   ],
   "source": [
    "# %pip install pandas\n",
    "# %pip install lxml\n",
    "import pandas as pd\n",
    "\n",
    "# with lxml installed you don't need to specify flavor:\n",
    "tables = pd.read_html('https://www.w3schools.com/python/python_operators.asp')\n",
    "df = tables[0]\n",
    "print(df)\n",
    "\n",
    "\n"
   ]
  },
  {
   "cell_type": "markdown",
   "id": "957847d5",
   "metadata": {},
   "source": [
    "#### **1. Arithmetic Operators**"
   ]
  },
  {
   "cell_type": "code",
   "execution_count": 1,
   "id": "11b4149e",
   "metadata": {},
   "outputs": [
    {
     "name": "stdout",
     "output_type": "stream",
     "text": [
      "a + b  =  13\n",
      "a - b  =  7\n",
      "a * b  =  30\n",
      "a / b  =  3.3333333333333335\n",
      "a // b =  3\n",
      "a % b  =  1\n",
      "a % b  =  1000\n"
     ]
    }
   ],
   "source": [
    "a: int = 10\n",
    "b: int = 3\n",
    "print(\"a + b  = \", a + b)   # 13 Addition\n",
    "print(\"a - b  = \", a - b)   # 7 Subtraction\n",
    "print(\"a * b  = \", a * b)   # 30 Multiplication\n",
    "print(\"a / b  = \", a / b)   # 3.3333333333333335\n",
    "print(\"a // b = \", a // b)  # 3 Floor Division\n",
    "print(\"a % b  = \", a % b)   # 1 Modulus (remainder)\n",
    "print(\"a % b  = \", a ** b)  # 1000 Exponentiation (10 * 10 * 10)"
   ]
  },
  {
   "cell_type": "markdown",
   "id": "e4d7e86b",
   "metadata": {},
   "source": [
    "#### **2. Comparison (Relational) Operators**"
   ]
  },
  {
   "cell_type": "markdown",
   "id": "3ae69ff7",
   "metadata": {},
   "source": [
    "Used to compare two values."
   ]
  },
  {
   "cell_type": "code",
   "execution_count": 3,
   "id": "4cb6e97a",
   "metadata": {},
   "outputs": [
    {
     "name": "stdout",
     "output_type": "stream",
     "text": [
      "x == y =  False\n",
      "x != y =  True\n",
      "x > y  =  True\n",
      "x < y  =  False\n",
      "x >= y =  True\n",
      "x <= y =  False\n"
     ]
    }
   ],
   "source": [
    "x: int = 10\n",
    "y: int = 5\n",
    "\n",
    "print(\"x == y = \", x == y)  # False, Equal\n",
    "print(\"x != y = \", x != y)  # True, Not equal\n",
    "print(\"x > y  = \", x > y)   # True, Greater than\n",
    "print(\"x < y  = \", x < y)   # False, Less than\n",
    "print(\"x >= y = \", x >= y)  # True, Greater than or equal\n",
    "print(\"x <= y = \", x <= y)  # False, Less than or equal"
   ]
  },
  {
   "cell_type": "markdown",
   "id": "370d4e32",
   "metadata": {},
   "source": [
    "##### What Are Chained Comparison Operators?"
   ]
  },
  {
   "cell_type": "markdown",
   "id": "491aab42",
   "metadata": {},
   "source": [
    "In Python, we can chain comparison operators together to express multiple comparisons in a single line. This allows for more readable and concise code. Rather than writing multiple comparisons with the same variable repeatedly, Python lets us combine them."
   ]
  },
  {
   "cell_type": "code",
   "execution_count": 2,
   "id": "82d35da2",
   "metadata": {},
   "outputs": [
    {
     "name": "stdout",
     "output_type": "stream",
     "text": [
      "x is between 10 and 20\n"
     ]
    }
   ],
   "source": [
    "x: int = 15\n",
    "if 10 < x < 20:\n",
    "    print(\"x is between 10 and 20\")"
   ]
  },
  {
   "cell_type": "code",
   "execution_count": 5,
   "id": "fa772fcf",
   "metadata": {},
   "outputs": [
    {
     "name": "stdout",
     "output_type": "stream",
     "text": [
      "x is between 10 and 20\n"
     ]
    }
   ],
   "source": [
    "#Internally, Python interprets this as:\n",
    "if 10 < x and x < 20:\n",
    "    print(\"x is between 10 and 20\")"
   ]
  },
  {
   "cell_type": "markdown",
   "id": "561ec75c",
   "metadata": {},
   "source": [
    "#### **3. Logical Operators**\n",
    "Used to combine conditional statements.\n",
    "\n",
    "<br>\n",
    "\n",
    "| Operator | Name        | Example                   |\n",
    "|----------|-------------|---------------------------|\n",
    "| and      | Logical AND | (5 > 3 and 10 > 5) → True |\n",
    "| or       | Logical OR  | (5 > 3 or 10 < 5) → True  |\n",
    "| not      | Logical NOT | not(5 > 3) → False        |\n"
   ]
  },
  {
   "cell_type": "code",
   "execution_count": 3,
   "id": "3fab277a",
   "metadata": {},
   "outputs": [
    {
     "name": "stdout",
     "output_type": "stream",
     "text": [
      "x and y =  False\n",
      "x or y  =  True\n",
      "not x   =  False\n"
     ]
    }
   ],
   "source": [
    "x: bool = True\n",
    "y: bool = False\n",
    "\n",
    "print(\"x and y = \", x and y)  # False\n",
    "print(\"x or y  = \", x or y)   # True\n",
    "print(\"not x   = \", not x)    # False"
   ]
  },
  {
   "cell_type": "markdown",
   "id": "22261b0b",
   "metadata": {},
   "source": [
    "#### **4. Assignment Operators**\n",
    "Used to assign values to variables.\n",
    "\n",
    "<br>\n",
    "\n",
    "| Operator | Example | Equivalent To |\n",
    "|----------|---------|---------------|\n",
    "| =        | x = 5   | x = 5         |\n",
    "| +=       | x += 3  | x = x + 3     |\n",
    "| -=       | x -= 3  | x = x - 3     |\n",
    "| *=       | x *= 3  | x = x * 3     |\n",
    "| /=       | x /= 3  | x = x / 3     |\n",
    "| //=      | x //= 3 | x = x // 3    |\n",
    "|          |         |               |\n",
    "|          |         |               |\n"
   ]
  },
  {
   "cell_type": "code",
   "execution_count": 4,
   "id": "94af5a72",
   "metadata": {},
   "outputs": [
    {
     "name": "stdout",
     "output_type": "stream",
     "text": [
      "Assignment: x = 5                     5\n",
      "Addition Assignment: x += 3           8\n",
      "Subtraction Assignment: x -= 3        5\n",
      "Multiplication Assignment: x *= 3     15\n",
      "Division Assignment: x /= 3           5.0\n",
      "Floor Division Assignment: x //= 3    1.0\n"
     ]
    }
   ],
   "source": [
    "x = 5\n",
    "print(\"Assignment: x = 5                    \",x)  # Output: 5\n",
    "\n",
    "x += 3  # Equivalent to x = x + 3\n",
    "print(\"Addition Assignment: x += 3          \",x)  # Output: 8\n",
    "\n",
    "x -= 3  # Equivalent to x = x - 3\n",
    "print(\"Subtraction Assignment: x -= 3       \",x)  # Output: 5\n",
    "\n",
    "x *= 3  # Equivalent to x = x * 3\n",
    "print(\"Multiplication Assignment: x *= 3    \",x)  # Output: 15\n",
    "\n",
    "x /= 3  # Equivalent to x = x / 3\n",
    "print(\"Division Assignment: x /= 3          \",x)  # Output: 5.0\n",
    "\n",
    "x //= 3  # Equivalent to x = x // 3\n",
    "print(\"Floor Division Assignment: x //= 3   \",x)  # Output: 1.0"
   ]
  },
  {
   "cell_type": "markdown",
   "id": "6cde2b91",
   "metadata": {},
   "source": [
    "#### Why Use Shorthand Operators?\n",
    "\n",
    "* `Readability`: Makes the code more concise and easier to read.\n",
    "* `Efficiency`: Reduces the need to repeat the variable name.\n",
    "* `Common Practice`: Widely used in Python and other programming languages."
   ]
  },
  {
   "cell_type": "markdown",
   "id": "0af36a6f",
   "metadata": {},
   "source": [
    "\n",
    "#### walrus operator\n",
    "-   The **walrus operator** `:=` was introduced in Python 3.8.\n",
    "    \n",
    "-   It allows **assignment and evaluation** in a single expression.\n",
    "    \n",
    "-   Great for use in **loops** or **conditional statements** to reduce redundancy.\n",
    "    \n",
    "-   Example: `if (n := len(data)) > 10:` assigns and checks in one go.\n",
    "    \n",
    "-   It improves readability and efficiency when used wisely!"
   ]
  },
  {
   "cell_type": "code",
   "execution_count": 6,
   "id": "d3d37387",
   "metadata": {},
   "outputs": [
    {
     "name": "stdout",
     "output_type": "stream",
     "text": [
      "user_input =  6\n"
     ]
    }
   ],
   "source": [
    "if (user_input := input(\"Enter a number: \")) and user_input.isdigit():\n",
    "    print(f\"user_input =  {user_input}\")\n",
    "else:\n",
    "    print(\"Invalid input. Please enter a valid number.\")"
   ]
  },
  {
   "cell_type": "markdown",
   "id": "33661ad6",
   "metadata": {},
   "source": [
    "#### **5. Identity Operators**\n",
    "Used to compare `memory locations.`\n",
    "\n",
    "<br>\n",
    "\n",
    "| Operator | Name                                                         | Example    |\n",
    "|----------|--------------------------------------------------------------|------------|\n",
    "| is       | Returns True if objects have the same memory location        | x is y     |\n",
    "| is not   | Returns True if objects do not have the same memory location | x is not y |\n",
    "\n"
   ]
  },
  {
   "cell_type": "code",
   "execution_count": 1,
   "id": "1de106c8",
   "metadata": {},
   "outputs": [
    {
     "name": "stdout",
     "output_type": "stream",
     "text": [
      "a is c     =   True\n",
      "a is b     =   False\n",
      "a == b     =   True\n",
      "a is not b =   True\n",
      "\n",
      "-----\n",
      "\n",
      "id(a) =  1677790423296\n",
      "id(b) =  1677790423936\n",
      "id(c) =  1677790423296\n"
     ]
    }
   ],
   "source": [
    "a: list = [1, 2, 3]\n",
    "b: list = [1, 2, 3]\n",
    "c: list = a\n",
    "\n",
    "print(\"a is c     =  \",a is c)       # True  (same object, sharing same memmory space)\n",
    "print(\"a is b     =  \",a is b)       # False (different objects, seperate memmory space)\n",
    "print(\"a == b     =  \", a == b)      # True  (same values, different memmory space but having same vlaues)\n",
    "print(\"a is not b =  \", a is not b)  # True  (True because of different memmory space, although having same memmory space)\n",
    "\n",
    "print('\\n-----\\n') # seperator for better output readability\n",
    "\n",
    "print(\"id(a) = \", id(a))\n",
    "print(\"id(b) = \", id(b))\n",
    "print(\"id(c) = \", id(c))"
   ]
  },
  {
   "cell_type": "markdown",
   "id": "7b873587",
   "metadata": {},
   "source": [
    "#### **6. Membership Operators**\n",
    "Used to check if a value is in a sequence (list, tuple, set, dictionary, etc.).\n",
    "\n",
    "<br>\n",
    "\n",
    "| Operator | Name                                         | Example       |\n",
    "|----------|----------------------------------------------|---------------|\n",
    "| in       | Returns True if value is in the sequence     | x in list     |\n",
    "| not in   | Returns True if value is NOT in the sequence | x not in list |"
   ]
  },
  {
   "cell_type": "code",
   "execution_count": 7,
   "id": "c22a2d86",
   "metadata": {},
   "outputs": [
    {
     "name": "stdout",
     "output_type": "stream",
     "text": [
      "my_list           =  [1, 2, 3, 4, 5]\n",
      "3 in my_list      =  True\n",
      "10 not in my_list =  True\n",
      "\n",
      "-------------------------------------------------\n",
      "\n",
      "my_string                 =  Operation\n",
      "'O' in my_string          =  True\n",
      "'Hello' not in my_string  =  True\n"
     ]
    }
   ],
   "source": [
    "my_list: list = [1, 2, 3, 4, 5]\n",
    "\n",
    "print(\"my_list           = \", my_list)            # [1, 2, 3, 4, 5]\n",
    "print(\"3 in my_list      = \", 3 in my_list)       # True\n",
    "print(\"10 not in my_list = \", 10 not in my_list)  # True\n",
    "\n",
    "print(\"\\n-------------------------------------------------\\n\")\n",
    "\n",
    "my_string: str = \"Operation\"\n",
    "\n",
    "print(\"my_string                 = \", my_string)                # Operation Badar\n",
    "print(\"'O' in my_string          = \", 'O' in my_string)         # True\n",
    "print(\"'Hello' not in my_string  = \", 'Hello' not in my_string) # True"
   ]
  },
  {
   "cell_type": "markdown",
   "id": "9cd1f36b",
   "metadata": {},
   "source": [
    "#### **7. Python Bitwise Operators**"
   ]
  },
  {
   "cell_type": "markdown",
   "id": "79ec9871",
   "metadata": {},
   "source": [
    "Bitwise operators are used to compare (binary) numbers:"
   ]
  },
  {
   "cell_type": "code",
   "execution_count": 12,
   "id": "e53ac13b",
   "metadata": {},
   "outputs": [
    {
     "name": "stdout",
     "output_type": "stream",
     "text": [
      "  Operator                  Name  \\\n",
      "0        &                   AND   \n",
      "1        |                    OR   \n",
      "2        ^                   XOR   \n",
      "3        ~                   NOT   \n",
      "4       <<  Zero fill left shift   \n",
      "5       >>    Signed right shift   \n",
      "\n",
      "                                         Description Example    Try it  \n",
      "0              Sets each bit to 1 if both bits are 1   x & y  Try it »  \n",
      "1         Sets each bit to 1 if one of two bits is 1   x | y  Try it »  \n",
      "2    Sets each bit to 1 if only one of two bits is 1   x ^ y  Try it »  \n",
      "3                               Inverts all the bits      ~x  Try it »  \n",
      "4  Shift left by pushing zeros in from the right ...  x << 2  Try it »  \n",
      "5  Shift right by pushing copies of the leftmost ...  x >> 2  Try it »  \n"
     ]
    }
   ],
   "source": [
    "import pandas as pd\n",
    "\n",
    "# with lxml installed you don't need to specify flavor:\n",
    "tables = pd.read_html('https://www.w3schools.com/python/python_operators.asp')\n",
    "df = tables[6]\n",
    "print(df)\n"
   ]
  },
  {
   "cell_type": "markdown",
   "id": "ec144bc1",
   "metadata": {},
   "source": [
    "## **'is' vs '==' in Python**\n",
    "Video lecture: https://youtu.be/TOemdfX_0xc?si=Bpg_VpZvczc-5Epa"
   ]
  },
  {
   "cell_type": "markdown",
   "id": "1f9151b2",
   "metadata": {},
   "source": [
    "In Python, is and == are both comparison operators that can be used to check if two values are equal. However, there are some important differences between the two that you should be aware of.\n",
    "\n",
    "The is operator compares the identity of two objects, while the == operator compares the values of the objects. This means that is will only return True if the objects being compared are the exact same object in memory, while == will return True if the objects have the same value."
   ]
  },
  {
   "cell_type": "code",
   "execution_count": null,
   "id": "71b83899",
   "metadata": {},
   "outputs": [],
   "source": [
    "a = [1, 2, 3]\n",
    "b = [1, 2, 3]\n",
    "\n",
    "print(a == b)  # True\n",
    "print(a is b)  # False"
   ]
  },
  {
   "cell_type": "markdown",
   "id": "fadb6533",
   "metadata": {},
   "source": [
    "In this case, a and b are two separate lists that have the same values, so == returns True. However, a and b are not the same object in memory, so is returns False.\n",
    "\n",
    "One important thing to note is that, in Python, strings and integers are immutable, which means that once they are created, their value cannot be changed. This means that, for strings and integers, is and == will always return the same result:"
   ]
  },
  {
   "cell_type": "code",
   "execution_count": null,
   "id": "d22e910f",
   "metadata": {},
   "outputs": [],
   "source": [
    "a = \"hello\"\n",
    "b = \"hello\"\n",
    "\n",
    "print(a == b)  # True\n",
    "print(a is b)  # True\n",
    "\n",
    "a = 5\n",
    "b = 5\n",
    "\n",
    "print(a == b)  # True\n",
    "print(a is b)  # True"
   ]
  },
  {
   "cell_type": "markdown",
   "id": "734e0dbe",
   "metadata": {},
   "source": [
    "In these cases, a and b are both pointing to the same object in memory, so is and == both return True.\n",
    "\n",
    "For mutable objects such as lists and dictionaries, is and == can behave differently. In general, you should use == when you want to compare the values of two objects, and use is when you want to check if two objects are the same object in memory.\n",
    "\n",
    "I hope this helps clarify the difference between is and == in Python!"
   ]
  }
 ],
 "metadata": {
  "kernelspec": {
   "display_name": ".venv",
   "language": "python",
   "name": "python3"
  },
  "language_info": {
   "codemirror_mode": {
    "name": "ipython",
    "version": 3
   },
   "file_extension": ".py",
   "mimetype": "text/x-python",
   "name": "python",
   "nbconvert_exporter": "python",
   "pygments_lexer": "ipython3",
   "version": "3.11.9"
  }
 },
 "nbformat": 4,
 "nbformat_minor": 5
}
