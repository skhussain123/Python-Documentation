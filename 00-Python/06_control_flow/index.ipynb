{
 "cells": [
  {
   "cell_type": "markdown",
   "id": "943a8043",
   "metadata": {},
   "source": [
    "### 1. Introduction to Control Flow\n",
    "Control flow refers to the order in which statements are executed in a program. In Python, decision-making is achieved using if, elif, and else statements, along with comparison and logical operators."
   ]
  },
  {
   "cell_type": "markdown",
   "id": "5f9e4fc3",
   "metadata": {},
   "source": [
    "#### 2. Comparison Operators"
   ]
  },
  {
   "cell_type": "markdown",
   "id": "db47a863",
   "metadata": {},
   "source": [
    "Comparison operators are used to compare values and return True or False. Here are the most common ones:\n",
    "\n",
    "* == (equal to)\n",
    "* != &nbsp;(not equal to)\n",
    "* \\> &nbsp;&nbsp;(greater than)\n",
    "* < &nbsp;&nbsp;(less than)\n",
    "* \\>= (greater than or equal to)\n",
    "* <= (less than or equal to)"
   ]
  },
  {
   "cell_type": "code",
   "execution_count": 1,
   "id": "949f4357",
   "metadata": {},
   "outputs": [
    {
     "name": "stdout",
     "output_type": "stream",
     "text": [
      "x == y =  False\n",
      "x != y =  True\n",
      "x > y  =  False\n",
      "x < y  =  True\n",
      "x >= y =  False\n",
      "x <= y =  True\n"
     ]
    }
   ],
   "source": [
    "x: int = 10\n",
    "y: int = 20\n",
    "\n",
    "print(\"x == y = \", x == y)  # False\n",
    "print(\"x != y = \", x != y)  # True\n",
    "print(\"x > y  = \", x > y)   # False\n",
    "print(\"x < y  = \", x < y)   # True\n",
    "print(\"x >= y = \", x >= y)  # False\n",
    "print(\"x <= y = \", x <= y)  # True"
   ]
  },
  {
   "cell_type": "markdown",
   "id": "4658278b",
   "metadata": {},
   "source": [
    "#### 3. Logical Operators"
   ]
  },
  {
   "cell_type": "markdown",
   "id": "5bea4921",
   "metadata": {},
   "source": [
    "Logical operators combine multiple conditions:\n",
    "\n",
    "* and (True if both conditions are True)\n",
    "* or (True if at least one condition is True)\n",
    "* not (reverses the result of a condition)"
   ]
  },
  {
   "cell_type": "code",
   "execution_count": 2,
   "id": "367141f2",
   "metadata": {},
   "outputs": [
    {
     "name": "stdout",
     "output_type": "stream",
     "text": [
      "You are eligible for a student discount.\n"
     ]
    }
   ],
   "source": [
    "age: int = 25\n",
    "is_student: bool = True\n",
    "\n",
    "# Check if age is greater than 18 AND is_student is True\n",
    "if age > 18 and is_student:\n",
    "    print(\"You are eligible for a student discount.\")\n",
    "\n",
    "# Check if age is less than 12 OR greater than 60\n",
    "if age < 12 or age > 60:\n",
    "    print(\"You qualify for a special discount.\")\n",
    "\n",
    "# Check if the person is NOT a student\n",
    "if not is_student:\n",
    "    print(\"You are not a student.\")"
   ]
  },
  {
   "cell_type": "markdown",
   "id": "0034f2ac",
   "metadata": {},
   "source": [
    "#### 4. The if Statement\n",
    "The if statement is used to execute a block of code only if a condition is True."
   ]
  },
  {
   "cell_type": "code",
   "execution_count": null,
   "id": "c296d9b5",
   "metadata": {},
   "outputs": [],
   "source": [
    "num: int = 10\n",
    "\n",
    "if num > 0:\n",
    "    print(\"The number is positive.\")"
   ]
  },
  {
   "cell_type": "markdown",
   "id": "33c5df35",
   "metadata": {},
   "source": [
    "#### 5. The else Statement\n",
    "The else statement is used to execute a block of code if the if condition is False."
   ]
  },
  {
   "cell_type": "code",
   "execution_count": null,
   "id": "cb0ebabe",
   "metadata": {},
   "outputs": [],
   "source": [
    "num: int = -5\n",
    "\n",
    "if num > 0:\n",
    "    print(\"The number is positive.\")\n",
    "else:\n",
    "    print(\"The number is not positive.\")"
   ]
  },
  {
   "cell_type": "markdown",
   "id": "151bb4b3",
   "metadata": {},
   "source": [
    "#### 6. The elif Statement\n",
    "The elif statement is used to check multiple conditions. It stands for \"else if.\""
   ]
  },
  {
   "cell_type": "code",
   "execution_count": null,
   "id": "ce369019",
   "metadata": {},
   "outputs": [],
   "source": [
    "num: int = 0\n",
    "\n",
    "if num > 0: # Program execution step# 1 if condition = False\n",
    "    print(\"The number is positive.\")\n",
    "elif num < 0: # Program execution step# 2 if condition = False\n",
    "    print(\"The number is negative.\")\n",
    "else: # Program execution step# 3 python will execute the else block\n",
    "    print(\"The number is zero.\")"
   ]
  },
  {
   "cell_type": "markdown",
   "id": "d59a550b",
   "metadata": {},
   "source": [
    "#### 7. Nested if Statements\n",
    "\n",
    "if statements can be nested inside other if statements to check multiple conditions."
   ]
  },
  {
   "cell_type": "code",
   "execution_count": null,
   "id": "faa2d1ed",
   "metadata": {},
   "outputs": [],
   "source": [
    "num: int = 10\n",
    "#num: int = -10\n",
    "\n",
    "if num > 0: # check wather the number is positive or negative\n",
    "\n",
    "    if num % 2 == 0: # Modulus operator, remainder 0 = even_number,\n",
    "        print(\"The number is positive and even.\")\n",
    "    else: # remainder 1 = odd_number,\n",
    "        print(\"The number is positive and odd.\")\n",
    "\n",
    "else:\n",
    "    print(\"The number is negative.\")"
   ]
  },
  {
   "cell_type": "markdown",
   "id": "e0067a3a",
   "metadata": {},
   "source": [
    "#### 8. Practical Examples"
   ]
  },
  {
   "cell_type": "code",
   "execution_count": null,
   "id": "64d765dd",
   "metadata": {},
   "outputs": [],
   "source": [
    "operation: str = input(\"Enter the operation (+, -, *, /): \")\n",
    "num1: float = float(input(\"Enter the first number: \"))\n",
    "num2: float = float(input(\"Enter the second number: \"))\n",
    "\n",
    "if operation == '+':\n",
    "    result = num1 + num2\n",
    "elif operation == '-':\n",
    "    result = num1 - num2\n",
    "elif operation == '*':\n",
    "    result = num1 * num2\n",
    "elif operation == '/':\n",
    "    if num2 != 0:\n",
    "        result = num1 / num2\n",
    "    else:\n",
    "        result = \"Error: Division by zero.\"\n",
    "else:\n",
    "    result = \"Invalid operation.\"\n",
    "\n",
    "print(\"Result:\", result)"
   ]
  },
  {
   "cell_type": "code",
   "execution_count": 1,
   "id": "7931b087",
   "metadata": {},
   "outputs": [
    {
     "name": "stdout",
     "output_type": "stream",
     "text": [
      "Invalid input. Please enter a number.\n",
      "The grade for 10.0 marks is: F\n"
     ]
    }
   ],
   "source": [
    "# prompt: generate a grading system for school which takes marks as an  input show grade according to the marks\n",
    "\n",
    "def grading_system(marks):\n",
    "  \"\"\"\n",
    "  This function takes marks as input and returns the corresponding grade.\n",
    "\n",
    "  Args:\n",
    "    marks: The marks obtained by the student.\n",
    "\n",
    "  Returns:\n",
    "    The grade corresponding to the marks.\n",
    "  \"\"\"\n",
    "  if marks >= 90:\n",
    "    grade = \"A+\"\n",
    "  elif marks >= 80:\n",
    "    grade = \"A\"\n",
    "  elif marks >= 70:\n",
    "    grade = \"B\"\n",
    "  elif marks >= 60:\n",
    "    grade = \"C\"\n",
    "  elif marks >= 50:\n",
    "    grade = \"D\"\n",
    "  else:\n",
    "    grade = \"F\"\n",
    "  return grade\n",
    "\n",
    "# Get marks as input from the user\n",
    "while True:\n",
    "  try:\n",
    "    marks = float(input(\"Enter the marks: \"))\n",
    "    if 0 <= marks <= 100:\n",
    "      break\n",
    "    else:\n",
    "      print(\"Marks must be between 0 and 100.\")\n",
    "  except ValueError:\n",
    "    print(\"Invalid input. Please enter a number.\")\n",
    "\n",
    "# Determine the grade\n",
    "grade = grading_system(marks)\n",
    "\n",
    "# Print the grade\n",
    "print(f\"The grade for {marks} marks is: {grade}\")\n"
   ]
  },
  {
   "cell_type": "markdown",
   "id": "14140e38",
   "metadata": {},
   "source": [
    "#### Python match-case Statement"
   ]
  },
  {
   "cell_type": "code",
   "execution_count": null,
   "id": "cf395657",
   "metadata": {},
   "outputs": [],
   "source": [
    "def check_status(code):\n",
    "    match code:\n",
    "        case 200:\n",
    "            print(\"OK\")\n",
    "        case 400:\n",
    "            print(\"Bad Request\")\n",
    "        case 404:\n",
    "            print(\"Not Found\")\n",
    "        case _:\n",
    "            print(\"Unknown Status\")\n",
    "\n",
    "check_status(200)  # Output: OK\n",
    "check_status(404)  # Output: Not Found\n",
    "check_status(500)  # Output: Unknown Status"
   ]
  }
 ],
 "metadata": {
  "kernelspec": {
   "display_name": ".venv",
   "language": "python",
   "name": "python3"
  },
  "language_info": {
   "codemirror_mode": {
    "name": "ipython",
    "version": 3
   },
   "file_extension": ".py",
   "mimetype": "text/x-python",
   "name": "python",
   "nbconvert_exporter": "python",
   "pygments_lexer": "ipython3",
   "version": "3.11.9"
  }
 },
 "nbformat": 4,
 "nbformat_minor": 5
}
