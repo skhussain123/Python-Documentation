{
 "cells": [
  {
   "cell_type": "markdown",
   "id": "cb0c5c45",
   "metadata": {},
   "source": [
    "### **Exploring Python's I/O**"
   ]
  },
  {
   "cell_type": "markdown",
   "id": "773a4702",
   "metadata": {},
   "source": [
    "File handling is essential for reading and writing data to files, enabling persistent storage. Python provides built-in functions and methods to handle files efficiently. This tutorial covers the fundamentals with examples."
   ]
  },
  {
   "cell_type": "markdown",
   "id": "f703fb6d",
   "metadata": {},
   "source": [
    "#### **📂 Basic File I/O Operations in Python**"
   ]
  },
  {
   "cell_type": "markdown",
   "id": "67020fad",
   "metadata": {},
   "source": [
    "| Mode   | Meaning       | File Must Exist? | Overwrite | Description                                                |\n",
    "| ------ | ------------- | ---------------- | --------- | ---------------------------------------------------------- |\n",
    "| `\"r\"`  | Read (text)   | Yes              | No        | File ko text mode mein read karta hai                      |\n",
    "| `\"w\"`  | Write (text)  | No               | Yes       | File create ya overwrite karta hai                         |\n",
    "| `\"a\"`  | Append (text) | No               | No        | End mein likhta hai (add karta hai)                        |\n",
    "| `\"r+\"` | Read + Write  | Yes              | No        | Dono kaam karta hai (read/write)                           |\n",
    "| `\"w+\"` | Write + Read  | No               | Yes       | Pehle file ko overwrite karega, phir read bhi kar sakte ho |\n",
    "| `\"a+\"` | Append + Read | No               | No        | End mein likh sakte ho, read bhi kar sakte ho              |\n"
   ]
  },
  {
   "cell_type": "markdown",
   "id": "eb475c3e",
   "metadata": {},
   "source": [
    "#### **Binary Modes**\n",
    "\n",
    "| Mode    | Meaning            | File Must Exist? | Overwrite | Description                                                  |\n",
    "| ------- | ------------------ | ---------------- | --------- | ------------------------------------------------------------ |\n",
    "| `\"rb\"`  | Read binary        | Yes              | No        | Binary mode mein file read karta hai (e.g., image, PDF)      |\n",
    "| `\"wb\"`  | Write binary       | No               | Yes       | File ko binary mode mein overwrite ya create karta hai       |\n",
    "| `\"ab\"`  | Append binary      | No               | No        | Binary file ke end mein likhta hai (add karta hai)           |\n",
    "| `\"rb+\"` | Read/Write binary  | Yes              | No        | Binary file read/write dono karta hai                        |\n",
    "| `\"wb+\"` | Write/Read binary  | No               | Yes       | File ko binary mode mein overwrite karega, read bhi karega   |\n",
    "| `\"ab+\"` | Append/Read binary | No               | No        | Binary file ke end mein likh sakte ho, read bhi kar sakte ho |\n"
   ]
  },
  {
   "cell_type": "markdown",
   "id": "eef86e4e",
   "metadata": {},
   "source": [
    "#### **1. Opening a File**"
   ]
  },
  {
   "cell_type": "code",
   "execution_count": null,
   "id": "94cb305a",
   "metadata": {},
   "outputs": [],
   "source": [
    "file = open(\"example.txt\", \"r\")  # modes: \"r\", \"w\", \"a\", \"x\"\n"
   ]
  },
  {
   "cell_type": "markdown",
   "id": "e5b07a45",
   "metadata": {},
   "source": [
    "#### **Modes:**\n",
    "* 'r'\tRead (default) – file must exist\n",
    "* 'w'\tWrite – creates new file or truncates existing\n",
    "* 'a'\tAppend – creates if not exists, adds to end\n",
    "* 'x'\tCreate – creates file, error if exists\n",
    "* 'b'\tBinary mode (e.g., 'rb', 'wb')\n",
    "* '+'\tRead and write (e.g., 'r+', 'w+')"
   ]
  },
  {
   "cell_type": "markdown",
   "id": "94b2be82",
   "metadata": {},
   "source": [
    "#### **2. Reading a File**"
   ]
  },
  {
   "cell_type": "code",
   "execution_count": null,
   "id": "4dd15639",
   "metadata": {},
   "outputs": [],
   "source": [
    "file = open(\"example.txt\", \"r\")\n",
    "\n",
    "# Read entire file\n",
    "content = file.read()\n",
    "print(content)\n",
    "\n",
    "# OR read line-by-line\n",
    "file.seek(0)  # Reset pointer to beginning\n",
    "for line in file:\n",
    "    print(line.strip())\n",
    "\n",
    "file.close()\n"
   ]
  },
  {
   "cell_type": "markdown",
   "id": "c3d3bf73",
   "metadata": {},
   "source": [
    "#### **3. Writing to a File**"
   ]
  },
  {
   "cell_type": "code",
   "execution_count": null,
   "id": "85048ffc",
   "metadata": {},
   "outputs": [],
   "source": [
    "file = open(\"example.txt\", \"w\")\n",
    "file.write(\"Hello, this is a test.\\n\")\n",
    "file.write(\"This is another line.\\n\")\n",
    "file.close()\n"
   ]
  },
  {
   "cell_type": "markdown",
   "id": "4e870655",
   "metadata": {},
   "source": [
    "**Append instead:**"
   ]
  },
  {
   "cell_type": "code",
   "execution_count": null,
   "id": "3af70f70",
   "metadata": {},
   "outputs": [],
   "source": [
    "file = open(\"example.txt\", \"a\")\n",
    "file.write(\"Appended line.\\n\")\n",
    "file.close()\n"
   ]
  },
  {
   "cell_type": "markdown",
   "id": "fe537552",
   "metadata": {},
   "source": [
    "#### **4. Using with Statement (Best Practice)**"
   ]
  },
  {
   "cell_type": "code",
   "execution_count": null,
   "id": "b0f77f6b",
   "metadata": {},
   "outputs": [],
   "source": [
    "with open(\"example.txt\", \"r\") as file:\n",
    "    content = file.read()\n",
    "    print(content)\n",
    "# File automatically closed\n"
   ]
  },
  {
   "cell_type": "code",
   "execution_count": null,
   "id": "bd757fd9",
   "metadata": {},
   "outputs": [],
   "source": [
    "with open(\"example.txt\", \"w\") as file:\n",
    "    file.write(\"Writing safely using with block.\\n\")\n"
   ]
  },
  {
   "cell_type": "markdown",
   "id": "45967887",
   "metadata": {},
   "source": [
    "#### **5. Reading into a List**"
   ]
  },
  {
   "cell_type": "markdown",
   "id": "ed640c48",
   "metadata": {},
   "source": [
    "1: **readlines() method**"
   ]
  },
  {
   "cell_type": "markdown",
   "id": "1663668f",
   "metadata": {},
   "source": [
    "The readline() method reads a single line from the file. If we want to read multiple lines, we can use a loop."
   ]
  },
  {
   "cell_type": "code",
   "execution_count": null,
   "id": "5cc65183",
   "metadata": {},
   "outputs": [],
   "source": [
    "with open(\"example.txt\", \"r\") as file:\n",
    "    lines = file.readlines()  # Returns list of lines\n",
    "    print(lines)\n"
   ]
  },
  {
   "cell_type": "markdown",
   "id": "7866c934",
   "metadata": {},
   "source": [
    "2: **writelines() method**"
   ]
  },
  {
   "cell_type": "markdown",
   "id": "f04bb486",
   "metadata": {},
   "source": [
    "The writelines() method in Python writes a sequence of strings to a file. The sequence can be any iterable object, such as a list or a tuple.\n",
    "\n",
    "Here's an example of how to use the writelines() method:"
   ]
  },
  {
   "cell_type": "code",
   "execution_count": null,
   "id": "811e44c9",
   "metadata": {},
   "outputs": [],
   "source": [
    "f = open('myfile.txt', 'w')\n",
    "lines = ['line 1\\n', 'line 2\\n', 'line 3\\n']\n",
    "f.writelines(lines)\n",
    "f.close()"
   ]
  },
  {
   "cell_type": "markdown",
   "id": "2f41659a",
   "metadata": {},
   "source": [
    "This will write the strings in the lines list to the file myfile.txt. The \\n characters are used to add newline characters to the end of each string.\n",
    "\n",
    "Keep in mind that the writelines() method does not add newline characters between the strings in the sequence. If you want to add newlines between the strings, you can use a loop to write each string separately:"
   ]
  },
  {
   "cell_type": "markdown",
   "id": "1a389399",
   "metadata": {},
   "source": [
    "#### **6. Checking If File Exists Before Reading**"
   ]
  },
  {
   "cell_type": "code",
   "execution_count": 1,
   "id": "ca62547e",
   "metadata": {},
   "outputs": [
    {
     "name": "stdout",
     "output_type": "stream",
     "text": [
      "File not found.\n"
     ]
    }
   ],
   "source": [
    "import os\n",
    "\n",
    "if os.path.exists(\"example.txt\"):\n",
    "    with open(\"example.txt\", \"r\") as file:\n",
    "        print(file.read())\n",
    "else:\n",
    "    print(\"File not found.\")\n"
   ]
  },
  {
   "cell_type": "markdown",
   "id": "68ea53c8",
   "metadata": {},
   "source": [
    "### **seek() and tell() functions**\n",
    "Video lecture: https://youtu.be/PByYX-2l5Us?si=yCSuIts6TPtmtOde\n",
    "\n",
    "In Python, the seek() and tell() functions are used to work with file objects and their positions within a file. These functions are part of the built-in io module, which provides a consistent interface for reading and writing to various file-like objects, such as files, pipes, and in-memory buffers.\n",
    "\n",
    "#### **seek() function**\n",
    "\n",
    "The seek() function allows you to move the current position within a file to a specific point. The position is specified in bytes, and you can move either forward or backward from the current position. For example:"
   ]
  },
  {
   "cell_type": "code",
   "execution_count": null,
   "id": "0a6758b5",
   "metadata": {},
   "outputs": [],
   "source": [
    "with open('file.txt', 'r') as f:\n",
    "  # Move to the 10th byte in the file\n",
    "  f.seek(10)\n",
    "\n",
    "  # Read the next 5 bytes\n",
    "  data = f.read(5)"
   ]
  },
  {
   "cell_type": "markdown",
   "id": "98ac47f1",
   "metadata": {},
   "source": [
    "#### **tell() function**\n",
    "The tell() function returns the current position within the file, in bytes. This can be useful for keeping track of your location within the file or for seeking to a specific position relative to the current position. For example:"
   ]
  },
  {
   "cell_type": "code",
   "execution_count": null,
   "id": "36c15a65",
   "metadata": {},
   "outputs": [],
   "source": [
    "with open('file.txt', 'r') as f:\n",
    "  # Read the first 10 bytes\n",
    "  data = f.read(10)\n",
    "\n",
    "  # Save the current position\n",
    "  current_position = f.tell()\n",
    "\n",
    "  # Seek to the saved position\n",
    "  f.seek(current_position)"
   ]
  },
  {
   "cell_type": "markdown",
   "id": "d8867297",
   "metadata": {},
   "source": [
    "#### **truncate() function**\n",
    "When you open a file in Python using the open function, you can specify the mode in which you want to open the file. If you specify the mode as 'w' or 'a', the file is opened in write mode and you can write to the file. However, if you want to truncate the file to a specific size, you can use the truncate function.\n",
    "\n",
    "Here is an example of how to use the truncate function:"
   ]
  },
  {
   "cell_type": "code",
   "execution_count": null,
   "id": "5ebf1351",
   "metadata": {},
   "outputs": [],
   "source": [
    "with open('sample.txt', 'w') as f:\n",
    "  f.write('Hello World!')\n",
    "  f.truncate(5)\n",
    "\n",
    "with open('sample.txt', 'r') as f:\n",
    "  print(f.read())"
   ]
  },
  {
   "cell_type": "markdown",
   "id": "5c9d434c",
   "metadata": {},
   "source": [
    "### **os Module**"
   ]
  },
  {
   "cell_type": "markdown",
   "id": "a3c0c387",
   "metadata": {},
   "source": [
    "The os module in Python provides a way to interact with the operating system, such as handling files, directories, environment variables, and processes."
   ]
  },
  {
   "cell_type": "markdown",
   "id": "70b6212b",
   "metadata": {},
   "source": [
    "| 🔢 No. | 🧠 Function/Use               | 💻 Code Example                      | 📝 Description                                        |\n",
    "| ------ | ----------------------------- | ------------------------------------ | ----------------------------------------------------- |\n",
    "| 1      | Import `os` module            | `import os`                          | Module ko use karne ke liye import karna hota hai     |\n",
    "| 2      | Get current working directory | `os.getcwd()`                        | Current working directory ka path return karta hai    |\n",
    "| 3      | Change directory              | `os.chdir('/path')`                  | Directory change karta hai                            |\n",
    "| 4      | List files/directories        | `os.listdir()`                       | Di gaye path ke andar ki files/folders list karta hai |\n",
    "| 5      | Create directory              | `os.mkdir('folder')`                 | Ek nayi directory banata hai                          |\n",
    "| 6      | Create nested directories     | `os.makedirs('a/b/c')`               | Nested folders banata hai                             |\n",
    "| 7      | Remove a file                 | `os.remove('file.txt')`              | Di gayi file ko delete karta hai                      |\n",
    "| 8      | Remove empty directory        | `os.rmdir('folder')`                 | Sirf empty directory delete karta hai                 |\n",
    "| 9      | Remove nested directories     | `os.removedirs('a/b/c')`             | Nested empty folders delete karta hai                 |\n",
    "| 10     | Check if path exists          | `os.path.exists('file.txt')`         | Path exist karta hai ya nahi, ye check karta hai      |\n",
    "| 11     | Check if it's a file          | `os.path.isfile('file.txt')`         | Kya path file hai, ye batata hai                      |\n",
    "| 12     | Check if it's a directory     | `os.path.isdir('folder')`            | Kya path directory hai, ye batata hai                 |\n",
    "| 13     | Join paths                    | `os.path.join('folder', 'file.txt')` | Safe way se paths combine karta hai                   |\n",
    "| 14     | Split path and filename       | `os.path.split('/folder/file.txt')`  | Path aur filename ko separate karta hai               |\n",
    "| 15     | Get environment variable      | `os.environ.get('USER')`             | OS ka environment variable fetch karta hai            |\n",
    "| 16     | Set environment variable      | `os.environ['MY_VAR'] = '123'`       | Naya environment variable set karta hai               |\n",
    "| 17     | Run system command            | `os.system('ls')`                    | OS command run karta hai (e.g., `dir`, `ls`, etc.)    |\n"
   ]
  }
 ],
 "metadata": {
  "kernelspec": {
   "display_name": ".venv",
   "language": "python",
   "name": "python3"
  },
  "language_info": {
   "codemirror_mode": {
    "name": "ipython",
    "version": 3
   },
   "file_extension": ".py",
   "mimetype": "text/x-python",
   "name": "python",
   "nbconvert_exporter": "python",
   "pygments_lexer": "ipython3",
   "version": "3.11.9"
  }
 },
 "nbformat": 4,
 "nbformat_minor": 5
}
