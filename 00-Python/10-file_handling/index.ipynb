{
 "cells": [
  {
   "cell_type": "markdown",
   "id": "cb0c5c45",
   "metadata": {},
   "source": [
    "### **Exploring Python's I/O**"
   ]
  },
  {
   "cell_type": "markdown",
   "id": "773a4702",
   "metadata": {},
   "source": [
    "File handling is essential for reading and writing data to files, enabling persistent storage. Python provides built-in functions and methods to handle files efficiently. This tutorial covers the fundamentals with examples."
   ]
  },
  {
   "cell_type": "markdown",
   "id": "f703fb6d",
   "metadata": {},
   "source": [
    "#### **📂 Basic File I/O Operations in Python**"
   ]
  },
  {
   "cell_type": "markdown",
   "id": "eef86e4e",
   "metadata": {},
   "source": [
    "#### **1. Opening a File**"
   ]
  },
  {
   "cell_type": "code",
   "execution_count": null,
   "id": "94cb305a",
   "metadata": {},
   "outputs": [],
   "source": [
    "file = open(\"example.txt\", \"r\")  # modes: \"r\", \"w\", \"a\", \"x\"\n"
   ]
  },
  {
   "cell_type": "markdown",
   "id": "e5b07a45",
   "metadata": {},
   "source": [
    "#### **Modes:**\n",
    "* 'r'\tRead (default) – file must exist\n",
    "* 'w'\tWrite – creates new file or truncates existing\n",
    "* 'a'\tAppend – creates if not exists, adds to end\n",
    "* 'x'\tCreate – creates file, error if exists\n",
    "* 'b'\tBinary mode (e.g., 'rb', 'wb')\n",
    "* '+'\tRead and write (e.g., 'r+', 'w+')"
   ]
  },
  {
   "cell_type": "markdown",
   "id": "94b2be82",
   "metadata": {},
   "source": [
    "#### **2. Reading a File**"
   ]
  },
  {
   "cell_type": "code",
   "execution_count": null,
   "id": "4dd15639",
   "metadata": {},
   "outputs": [],
   "source": [
    "file = open(\"example.txt\", \"r\")\n",
    "\n",
    "# Read entire file\n",
    "content = file.read()\n",
    "print(content)\n",
    "\n",
    "# OR read line-by-line\n",
    "file.seek(0)  # Reset pointer to beginning\n",
    "for line in file:\n",
    "    print(line.strip())\n",
    "\n",
    "file.close()\n"
   ]
  },
  {
   "cell_type": "markdown",
   "id": "c3d3bf73",
   "metadata": {},
   "source": [
    "#### **3. Writing to a File**"
   ]
  },
  {
   "cell_type": "code",
   "execution_count": null,
   "id": "85048ffc",
   "metadata": {},
   "outputs": [],
   "source": [
    "file = open(\"example.txt\", \"w\")\n",
    "file.write(\"Hello, this is a test.\\n\")\n",
    "file.write(\"This is another line.\\n\")\n",
    "file.close()\n"
   ]
  },
  {
   "cell_type": "markdown",
   "id": "4e870655",
   "metadata": {},
   "source": [
    "**Append instead:**"
   ]
  },
  {
   "cell_type": "code",
   "execution_count": null,
   "id": "3af70f70",
   "metadata": {},
   "outputs": [],
   "source": [
    "file = open(\"example.txt\", \"a\")\n",
    "file.write(\"Appended line.\\n\")\n",
    "file.close()\n"
   ]
  },
  {
   "cell_type": "markdown",
   "id": "fe537552",
   "metadata": {},
   "source": [
    "#### **4. Using with Statement (Best Practice)**"
   ]
  },
  {
   "cell_type": "code",
   "execution_count": null,
   "id": "b0f77f6b",
   "metadata": {},
   "outputs": [],
   "source": [
    "with open(\"example.txt\", \"r\") as file:\n",
    "    content = file.read()\n",
    "    print(content)\n",
    "# File automatically closed\n"
   ]
  },
  {
   "cell_type": "code",
   "execution_count": null,
   "id": "bd757fd9",
   "metadata": {},
   "outputs": [],
   "source": [
    "with open(\"example.txt\", \"w\") as file:\n",
    "    file.write(\"Writing safely using with block.\\n\")\n"
   ]
  },
  {
   "cell_type": "markdown",
   "id": "45967887",
   "metadata": {},
   "source": [
    "#### **5. Reading into a List**"
   ]
  },
  {
   "cell_type": "code",
   "execution_count": null,
   "id": "5cc65183",
   "metadata": {},
   "outputs": [],
   "source": [
    "with open(\"example.txt\", \"r\") as file:\n",
    "    lines = file.readlines()  # Returns list of lines\n",
    "    print(lines)\n"
   ]
  },
  {
   "cell_type": "markdown",
   "id": "1a389399",
   "metadata": {},
   "source": [
    "#### **6. Checking If File Exists Before Reading**"
   ]
  },
  {
   "cell_type": "code",
   "execution_count": 1,
   "id": "ca62547e",
   "metadata": {},
   "outputs": [
    {
     "name": "stdout",
     "output_type": "stream",
     "text": [
      "File not found.\n"
     ]
    }
   ],
   "source": [
    "import os\n",
    "\n",
    "if os.path.exists(\"example.txt\"):\n",
    "    with open(\"example.txt\", \"r\") as file:\n",
    "        print(file.read())\n",
    "else:\n",
    "    print(\"File not found.\")\n"
   ]
  }
 ],
 "metadata": {
  "kernelspec": {
   "display_name": ".venv",
   "language": "python",
   "name": "python3"
  },
  "language_info": {
   "codemirror_mode": {
    "name": "ipython",
    "version": 3
   },
   "file_extension": ".py",
   "mimetype": "text/x-python",
   "name": "python",
   "nbconvert_exporter": "python",
   "pygments_lexer": "ipython3",
   "version": "3.11.9"
  }
 },
 "nbformat": 4,
 "nbformat_minor": 5
}
