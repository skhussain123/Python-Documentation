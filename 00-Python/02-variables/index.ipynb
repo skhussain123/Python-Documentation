{
 "cells": [
  {
   "cell_type": "markdown",
   "id": "0ac0a070",
   "metadata": {},
   "source": [
    "### **Python Keywords**\n",
    "\n",
    "Keywords in Python are `reserved words` that have special meanings and serve specific purposes in the language syntax. Python keywords cannot be used as the names of variables, functions, and classes or any other identifier."
   ]
  },
  {
   "cell_type": "markdown",
   "id": "a14f9e11",
   "metadata": {},
   "source": [
    "### **Python Variables**\n",
    "\n",
    "In Python, variables are used to store data that can be referenced and manipulated during program execution. A variable is essentially a name that is assigned to a value. Unlike many other programming languages, **Python variables do not require explicit declaration of type. The type of the variable is `inferred` based on the value assigned.**\n",
    "\n",
    "(**`inferred`** *meaning deduce or conclude (something) from evidence and reasoning rather than from explicit statements.*)\n",
    "\n",
    "\n",
    "Variables act as placeholders for data. They allow us to store and reuse values in our program.\n",
    "\n",
    "\n",
    "#### **Rules for Naming Variables**\n",
    "To use variables effectively, we must follow Python’s naming rules:\n",
    "\n",
    "* Variable names can only contain `letters, digits and underscores` (`_`).\n",
    "* A variable name `cannot` start with a `digit`.\n",
    "* Variable names are `case-sensitive` (`myVar` and `myvar` are different).\n",
    "* Avoid using Python keywords (e.g., if, else, for) as variable names.\n"
   ]
  },
  {
   "cell_type": "markdown",
   "id": "6ba7c69f",
   "metadata": {},
   "source": [
    "#### **Special Naming Cases**\n",
    "\n",
    "<br>\n",
    "\n",
    "| Type                       | Example      | Used For                                 |\n",
    "|----------------------------|--------------|------------------------------------------|\n",
    "| Regular Variable           | total_cost   | General use                              |\n",
    "| Constant                   | PI = 3.14159 | Constants                                |\n",
    "| Class Name                 | BankAccount  | Class names                              |\n",
    "| Private Variable           | _password    | Internal use (not enforced)              |\n",
    "| Private with Name Mangling | __secret_key | Avoid accidental overrides in subclasses |\n",
    "| Special Method             | \\_\\_init\\_\\_     | Built-in methods                         |\n",
    "\n",
    "\n",
    "#### Summary of Naming Conventions\n",
    "\n",
    "| Convention          | Used For                              | Example                       |\n",
    "|---------------------|---------------------------------------|-------------------------------|\n",
    "| snake_case          | Variables & functions                 | user_name, total_price        |\n",
    "| CamelCase           | Classes                               | BankAccount, DataScienceModel |\n",
    "| UPPER_CASE          | Constants                             | MAX_SPEED, PI                 |\n",
    "| _single_underscore  | Private variable (by convention)      | _config                       |\n",
    "| __double_underscore | Name mangling (avoid external access) | __password                    |\n",
    "| \\_\\_dunder\\_\\_          | Special methods                       | \\_\\_init\\_\\_, \\_\\_str\\_\\_             |"
   ]
  },
  {
   "cell_type": "code",
   "execution_count": 1,
   "id": "bcc844a7",
   "metadata": {},
   "outputs": [
    {
     "name": "stdout",
     "output_type": "stream",
     "text": [
      "1 2.5 Python\n"
     ]
    }
   ],
   "source": [
    "x, y, z = 1, 2.5, \"Python\" # Using type hints while assigning mutiple variables simultaneously cause and error invalid syntax\n",
    "\n",
    "print(x, y, z)"
   ]
  },
  {
   "cell_type": "markdown",
   "id": "8bcdc18f",
   "metadata": {},
   "source": [
    "### local and global variables\n",
    "\n",
    "Before we dive into the differences between local and global variables, let's first recall what a variable is in Python.\n",
    "\n",
    "A variable is a named location in memory that stores a value. In Python, we can assign values to variables using the assignment operator =. For example:\n"
   ]
  },
  {
   "cell_type": "code",
   "execution_count": null,
   "id": "0e3103b1",
   "metadata": {},
   "outputs": [],
   "source": [
    "x = 5\n",
    "y = \"Hello, World!\""
   ]
  },
  {
   "cell_type": "markdown",
   "id": "292f7317",
   "metadata": {},
   "source": [
    "Now, let's talk about local and global variables.\n",
    "\n",
    "A local variable is a variable that is defined within a function and is only accessible within that function. It is created when the function is called and is destroyed when the function returns.\n",
    "\n",
    "On the other hand, a global variable is a variable that is defined outside of a function and is accessible from within any function in your code."
   ]
  },
  {
   "cell_type": "code",
   "execution_count": null,
   "id": "447772d9",
   "metadata": {},
   "outputs": [],
   "source": [
    "x = 10 # global variable\n",
    "\n",
    "def my_function():\n",
    "  y = 5 # local variable\n",
    "  print(y)\n",
    "\n",
    "my_function()\n",
    "print(x)\n",
    "print(y) # this will cause an error because y is a local variable and is not accessible outside of the function"
   ]
  },
  {
   "cell_type": "markdown",
   "id": "7d97c25f",
   "metadata": {},
   "source": [
    "In this example, we have a global variable x and a local variable y. We can access the value of the global variable x from within the function, but we cannot access the value of the local variable y outside of the function."
   ]
  },
  {
   "cell_type": "markdown",
   "id": "9a0fea0b",
   "metadata": {},
   "source": [
    "### **The global keyword**\n",
    "Now, what if we want to modify a global variable from within a function? This is where the global keyword comes in.\n",
    "\n",
    "The global keyword is used to declare that a variable is a global variable and should be accessed from the global scope. Here's an example:"
   ]
  },
  {
   "cell_type": "code",
   "execution_count": null,
   "id": "1a46f42d",
   "metadata": {},
   "outputs": [],
   "source": [
    "x = 10 # global variable\n",
    "\n",
    "def my_function():\n",
    "  global x\n",
    "  x = 5 # this will change the value of the global variable x\n",
    "  y = 5 # local variable\n",
    "\n",
    "my_function()\n",
    "print(x) # prints 5\n",
    "print(y) # this will cause an error because y is a local variable and is not accessible outside of the function"
   ]
  },
  {
   "cell_type": "markdown",
   "id": "6e2dc932",
   "metadata": {},
   "source": [
    "In this example, we used the global keyword to declare that we want to modify the global variable x from within the function. As a result, the value of x is changed to 5.\n",
    "\n",
    "It's important to note that it's generally considered good practice to avoid modifying global variables from within functions, as it can lead to unexpected behavior and make your code harder to debug.\n",
    "\n",
    "I hope this tutorial has helped clarify the differences between local and global variables and how to use the global keyword in Python. Thank you for watching!"
   ]
  }
 ],
 "metadata": {
  "kernelspec": {
   "display_name": ".venv",
   "language": "python",
   "name": "python3"
  },
  "language_info": {
   "codemirror_mode": {
    "name": "ipython",
    "version": 3
   },
   "file_extension": ".py",
   "mimetype": "text/x-python",
   "name": "python",
   "nbconvert_exporter": "python",
   "pygments_lexer": "ipython3",
   "version": "3.11.9"
  }
 },
 "nbformat": 4,
 "nbformat_minor": 5
}
