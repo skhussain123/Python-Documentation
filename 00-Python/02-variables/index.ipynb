{
 "cells": [
  {
   "cell_type": "markdown",
   "id": "0ac0a070",
   "metadata": {},
   "source": [
    "### **Python Keywords**\n",
    "\n",
    "Keywords in Python are `reserved words` that have special meanings and serve specific purposes in the language syntax. Python keywords cannot be used as the names of variables, functions, and classes or any other identifier."
   ]
  },
  {
   "cell_type": "markdown",
   "id": "a14f9e11",
   "metadata": {},
   "source": [
    "### **Python Variables**\n",
    "\n",
    "In Python, variables are used to store data that can be referenced and manipulated during program execution. A variable is essentially a name that is assigned to a value. Unlike many other programming languages, **Python variables do not require explicit declaration of type. The type of the variable is `inferred` based on the value assigned.**\n",
    "\n",
    "(**`inferred`** *meaning deduce or conclude (something) from evidence and reasoning rather than from explicit statements.*)\n",
    "\n",
    "\n",
    "Variables act as placeholders for data. They allow us to store and reuse values in our program.\n",
    "\n",
    "\n",
    "#### **Rules for Naming Variables**\n",
    "To use variables effectively, we must follow Python’s naming rules:\n",
    "\n",
    "* Variable names can only contain `letters, digits and underscores` (`_`).\n",
    "* A variable name `cannot` start with a `digit`.\n",
    "* Variable names are `case-sensitive` (`myVar` and `myvar` are different).\n",
    "* Avoid using Python keywords (e.g., if, else, for) as variable names.\n"
   ]
  },
  {
   "cell_type": "markdown",
   "id": "6ba7c69f",
   "metadata": {},
   "source": [
    "#### **Special Naming Cases**\n",
    "\n",
    "<br>\n",
    "\n",
    "| Type                       | Example      | Used For                                 |\n",
    "|----------------------------|--------------|------------------------------------------|\n",
    "| Regular Variable           | total_cost   | General use                              |\n",
    "| Constant                   | PI = 3.14159 | Constants                                |\n",
    "| Class Name                 | BankAccount  | Class names                              |\n",
    "| Private Variable           | _password    | Internal use (not enforced)              |\n",
    "| Private with Name Mangling | __secret_key | Avoid accidental overrides in subclasses |\n",
    "| Special Method             | \\_\\_init\\_\\_     | Built-in methods                         |\n",
    "\n",
    "\n",
    "#### Summary of Naming Conventions\n",
    "\n",
    "| Convention          | Used For                              | Example                       |\n",
    "|---------------------|---------------------------------------|-------------------------------|\n",
    "| snake_case          | Variables & functions                 | user_name, total_price        |\n",
    "| CamelCase           | Classes                               | BankAccount, DataScienceModel |\n",
    "| UPPER_CASE          | Constants                             | MAX_SPEED, PI                 |\n",
    "| _single_underscore  | Private variable (by convention)      | _config                       |\n",
    "| __double_underscore | Name mangling (avoid external access) | __password                    |\n",
    "| \\_\\_dunder\\_\\_          | Special methods                       | \\_\\_init\\_\\_, \\_\\_str\\_\\_             |"
   ]
  },
  {
   "cell_type": "code",
   "execution_count": 1,
   "id": "bcc844a7",
   "metadata": {},
   "outputs": [
    {
     "name": "stdout",
     "output_type": "stream",
     "text": [
      "1 2.5 Python\n"
     ]
    }
   ],
   "source": [
    "x, y, z = 1, 2.5, \"Python\" # Using type hints while assigning mutiple variables simultaneously cause and error invalid syntax\n",
    "\n",
    "print(x, y, z)"
   ]
  }
 ],
 "metadata": {
  "kernelspec": {
   "display_name": ".venv",
   "language": "python",
   "name": "python3"
  },
  "language_info": {
   "codemirror_mode": {
    "name": "ipython",
    "version": 3
   },
   "file_extension": ".py",
   "mimetype": "text/x-python",
   "name": "python",
   "nbconvert_exporter": "python",
   "pygments_lexer": "ipython3",
   "version": "3.11.9"
  }
 },
 "nbformat": 4,
 "nbformat_minor": 5
}
