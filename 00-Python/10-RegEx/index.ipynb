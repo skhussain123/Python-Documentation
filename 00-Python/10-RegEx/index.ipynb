{
 "cells": [
  {
   "cell_type": "markdown",
   "id": "ba9e23fa",
   "metadata": {},
   "source": [
    "### python RegEx Functions\n"
   ]
  },
  {
   "cell_type": "markdown",
   "id": "55e16b5c",
   "metadata": {},
   "source": [
    "In Python, the re module provides powerful tools for working with regular expressions, enabling pattern matching, searching, and manipulation of strings. Here's an overview of the most commonly used functions in the re module:\n"
   ]
  },
  {
   "cell_type": "markdown",
   "id": "1dc7d757",
   "metadata": {},
   "source": [
    "#### **1: re.match(pattern, string)**\n",
    "Checks for a match only at the beginning of the string. Returns a match object if found; otherwise, returns None."
   ]
  },
  {
   "cell_type": "code",
   "execution_count": 3,
   "id": "8daff813",
   "metadata": {},
   "outputs": [
    {
     "name": "stdout",
     "output_type": "stream",
     "text": [
      "123\n"
     ]
    }
   ],
   "source": [
    "import re\n",
    "result = re.match(r'\\d+', '123abc')\n",
    "if result:\n",
    "    print(result.group())  # Output: '123'"
   ]
  },
  {
   "cell_type": "markdown",
   "id": "cc0c24aa",
   "metadata": {},
   "source": [
    "#### **2: re.search(pattern, string)**\n",
    "Scans through the string and returns the first match object found. If no match is found, returns None."
   ]
  },
  {
   "cell_type": "code",
   "execution_count": 4,
   "id": "e0aa44c8",
   "metadata": {},
   "outputs": [
    {
     "name": "stdout",
     "output_type": "stream",
     "text": [
      "123\n"
     ]
    }
   ],
   "source": [
    "result = re.search(r'\\d+', 'abc123def')\n",
    "if result:\n",
    "    print(result.group())  # Output: '123'\n"
   ]
  },
  {
   "cell_type": "markdown",
   "id": "2816b927",
   "metadata": {},
   "source": [
    "#### **3: re.findall(pattern, string)**\n",
    "Returns a list of all non-overlapping matches of the pattern in the string."
   ]
  },
  {
   "cell_type": "code",
   "execution_count": 4,
   "id": "eaa3af31",
   "metadata": {},
   "outputs": [
    {
     "name": "stdout",
     "output_type": "stream",
     "text": [
      "123\n",
      "456\n"
     ]
    }
   ],
   "source": [
    "for match in re.finditer(r'\\d+', 'abc123def456'):\n",
    "    print(match.group())  # Output: '123' then '456'\n"
   ]
  },
  {
   "cell_type": "markdown",
   "id": "2bf3ba40",
   "metadata": {},
   "source": [
    "#### **4: re.finditer(pattern, string)**\n",
    "Returns an iterator yielding match objects over all non-overlapping matches."
   ]
  },
  {
   "cell_type": "code",
   "execution_count": 5,
   "id": "3908a46a",
   "metadata": {},
   "outputs": [
    {
     "name": "stdout",
     "output_type": "stream",
     "text": [
      "123\n",
      "456\n"
     ]
    }
   ],
   "source": [
    "for match in re.finditer(r'\\d+', 'abc123def456'):\n",
    "    print(match.group())  # Output: '123' then '456'"
   ]
  },
  {
   "cell_type": "markdown",
   "id": "2293e292",
   "metadata": {},
   "source": [
    "#### **5: re.split(pattern, string)**\n",
    "Splits the string by occurrences of the pattern. Returns a list of substrings."
   ]
  },
  {
   "cell_type": "markdown",
   "id": "860cb716",
   "metadata": {},
   "source": [
    "re.sub(pattern, repl, string)\n",
    "Replaces occurrences of the pattern with the replacement string. Returns the modified string."
   ]
  },
  {
   "cell_type": "code",
   "execution_count": 6,
   "id": "98ed81a4",
   "metadata": {},
   "outputs": [
    {
     "name": "stdout",
     "output_type": "stream",
     "text": [
      "['abc', 'def', 'ghi']\n"
     ]
    }
   ],
   "source": [
    "parts = re.split(r'\\d+', 'abc123def456ghi')\n",
    "print(parts)  # Output: ['abc', 'def', 'ghi']\n"
   ]
  },
  {
   "cell_type": "markdown",
   "id": "cd00ab86",
   "metadata": {},
   "source": [
    "#### **6: re.sub(pattern, repl, string)**\n",
    "Replaces occurrences of the pattern with the replacement string. Returns the modified string."
   ]
  },
  {
   "cell_type": "code",
   "execution_count": null,
   "id": "ad249f42",
   "metadata": {},
   "outputs": [],
   "source": [
    "result = re.sub(r'\\d+', '#', 'abc123def456')\n",
    "print(result)  # Output: 'abc#def#'\n"
   ]
  },
  {
   "cell_type": "markdown",
   "id": "057cfaeb",
   "metadata": {},
   "source": [
    "#### **7: re.subn(pattern, repl, string)**\n",
    "Similar to re.sub(), but also returns the number of substitutions made."
   ]
  },
  {
   "cell_type": "code",
   "execution_count": null,
   "id": "8e46a0aa",
   "metadata": {},
   "outputs": [],
   "source": [
    "result, count = re.subn(r'\\d+', '#', 'abc123def456')\n",
    "print(result, count)  # Output: 'abc#def#' 2\n"
   ]
  },
  {
   "cell_type": "markdown",
   "id": "1fe2785c",
   "metadata": {},
   "source": [
    "#### **8: re.compile(pattern)**\n",
    "Compiles a regular expression pattern into a regex object for repeated use, which can improve performance."
   ]
  },
  {
   "cell_type": "code",
   "execution_count": 6,
   "id": "31d3bb95",
   "metadata": {},
   "outputs": [
    {
     "name": "stdout",
     "output_type": "stream",
     "text": [
      "123\n"
     ]
    }
   ],
   "source": [
    "pattern = re.compile(r'\\d+')\n",
    "result = pattern.search('abc123def')\n",
    "if result:\n",
    "    print(result.group())  # Output: '123'\n"
   ]
  }
 ],
 "metadata": {
  "kernelspec": {
   "display_name": ".venv",
   "language": "python",
   "name": "python3"
  },
  "language_info": {
   "codemirror_mode": {
    "name": "ipython",
    "version": 3
   },
   "file_extension": ".py",
   "mimetype": "text/x-python",
   "name": "python",
   "nbconvert_exporter": "python",
   "pygments_lexer": "ipython3",
   "version": "3.11.9"
  }
 },
 "nbformat": 4,
 "nbformat_minor": 5
}
