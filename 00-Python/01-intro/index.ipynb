{
 "cells": [
  {
   "cell_type": "markdown",
   "id": "73467a4d",
   "metadata": {},
   "source": [
    "### Python: The Versatile and Powerful Programming Language"
   ]
  },
  {
   "cell_type": "markdown",
   "id": "6ba80c3c",
   "metadata": {},
   "source": [
    "Python is a high-level, interpreted, and versatile programming language known for its simplicity and readability. Created by Guido van Rossum, it emphasizes code clarity and supports multiple programming paradigms like procedural, object-oriented, and functional programming. Python’s extensive standard library and community support make it ideal for web development, data analysis, AI, automation, and more. Its cross-platform compatibility and beginner-friendly syntax have made it one of the most popular languages worldwide."
   ]
  },
  {
   "cell_type": "markdown",
   "id": "97f36b99",
   "metadata": {},
   "source": [
    "### Python in Agentic AI: Powering Autonomous Intelligence"
   ]
  },
  {
   "cell_type": "markdown",
   "id": "6ebf9198",
   "metadata": {},
   "source": [
    "Python plays a crucial role in Agentic AI, enabling autonomous agents to perceive, reason, and act. With frameworks like LangChain, CrewAI, Microsoft AutoGen, Auto-GPT, and OpenAI's APIs, Python facilitates LLM-driven workflows, decision-making, and self-improving AI. Its rich ecosystem supports seamless integration of NLP - Natural language processing, reinforcement learning, and automation for building intelligent, agentic systems."
   ]
  },
  {
   "cell_type": "markdown",
   "id": "2772b0c8",
   "metadata": {},
   "source": [
    "### Practical Applications of Python"
   ]
  },
  {
   "cell_type": "markdown",
   "id": "90997fb1",
   "metadata": {},
   "source": [
    "Python has numerous practical applications across various industries. Some of the top applications include:"
   ]
  },
  {
   "cell_type": "markdown",
   "id": "8e5ef4d6",
   "metadata": {},
   "source": [
    "* Data Science and Analytics: data analysis, machine learning, and visualization\n",
    "\n",
    "* Agentic AI: building autonomous agents, chatbots, and virtual assistants\n",
    "\n",
    "* Machine Learning: developing predictive models and recommender systems\n",
    "\n",
    "* Natural Language Processing (NLP): text analysis, sentiment analysis, and language translation\n",
    "\n",
    "* Computer Vision: image recognition, object detection, and facial recognition\n",
    "\n",
    "* Robotics: building and controlling robots, drones, and autonomous vehicles\n",
    "\n",
    "* Web Development: building web applications and frameworks\n",
    "\n",
    "* Artificial Intelligence and Machine Learning: AI, ML, and deep learning\n",
    "\n",
    "* Automation and Scripting: automating tasks and workflows\n",
    "\n",
    "* Scientific Computing: scientific simulations and data analysis\n",
    "\n",
    "* Cybersecurity: security testing and penetration testing\n",
    "\n",
    "* Internet of Things (IoT): building IoT applications and devices"
   ]
  },
  {
   "cell_type": "markdown",
   "id": "cb7da304",
   "metadata": {},
   "source": [
    "### How Python Works"
   ]
  },
  {
   "cell_type": "markdown",
   "id": "dbe01b82",
   "metadata": {},
   "source": [
    "#### 1: Code is Written\n",
    "\n"
   ]
  },
  {
   "cell_type": "markdown",
   "id": "5ddd2df3",
   "metadata": {},
   "source": [
    "When you write a Python program (in a .py file), it's just text — a set of instructions telling the computer what to do."
   ]
  },
  {
   "cell_type": "markdown",
   "id": "9a1b4192",
   "metadata": {},
   "source": [
    "#### 2: Interpreter Starts"
   ]
  },
  {
   "cell_type": "markdown",
   "id": "b5a08258",
   "metadata": {},
   "source": [
    "Python is an interpreted language, meaning it does not directly run on the computer's hardware.\n",
    "\n",
    "When you run python file.py, Python's interpreter starts working."
   ]
  },
  {
   "cell_type": "markdown",
   "id": "ac8901ac",
   "metadata": {},
   "source": [
    "#### 3: Code is Converted to Bytecode"
   ]
  },
  {
   "cell_type": "markdown",
   "id": "fe894404",
   "metadata": {},
   "source": [
    "First, Python converts your source code into bytecode.\n",
    "\n",
    "Bytecode is a low-level set of instructions that is easier for the computer to understand, but it’s still not machine language.\n",
    "\n",
    "Sometimes, .pyc files (compiled Python files) are created."
   ]
  },
  {
   "cell_type": "markdown",
   "id": "d2ccff25",
   "metadata": {},
   "source": [
    "#### 4: Python Virtual Machine (PVM)"
   ]
  },
  {
   "cell_type": "markdown",
   "id": "c57de950",
   "metadata": {},
   "source": [
    "The Python Virtual Machine (PVM) reads the bytecode and executes it line by line.\n",
    "\n",
    "PVM is what actually runs your program."
   ]
  },
  {
   "cell_type": "markdown",
   "id": "40d914b2",
   "metadata": {},
   "source": [
    "#### 5: Output is Produced"
   ]
  },
  {
   "cell_type": "markdown",
   "id": "465930b2",
   "metadata": {},
   "source": [
    "As your code executes, you see the result — like something printed on the screen, files created, data processed, etc."
   ]
  },
  {
   "cell_type": "markdown",
   "id": "0fbdf784",
   "metadata": {},
   "source": [
    "#### Short Summary:\n"
   ]
  },
  {
   "cell_type": "markdown",
   "id": "01f030ff",
   "metadata": {},
   "source": [
    "Written code ➔ Bytecode ➔ PVM ➔ Execution ➔ Output"
   ]
  },
  {
   "cell_type": "markdown",
   "id": "ce37d88a",
   "metadata": {},
   "source": [
    "### 2: How Python Code is Compiled"
   ]
  },
  {
   "cell_type": "markdown",
   "id": "1c56a26b",
   "metadata": {},
   "source": [
    "Here's a simplified overview of how Python code is compiled:"
   ]
  },
  {
   "cell_type": "markdown",
   "id": "1416814b",
   "metadata": {},
   "source": [
    "* Lexical Analysis: The Python code is broken down into individual tokens, such as keywords, identifiers, and literals.\n",
    "* Syntax Analysis: The tokens are analyzed to ensure that the code follows the correct syntax.\n",
    "* Semantic Analysis: The code is analyzed to ensure that it makes sense in terms of its meaning and context.\n",
    "* Bytecode Generation: The compiled code is generated in the form of bytecode."
   ]
  },
  {
   "cell_type": "markdown",
   "id": "80a506f2",
   "metadata": {},
   "source": [
    "### 3: What is Python Bytecode"
   ]
  },
  {
   "cell_type": "markdown",
   "id": "4e584bc4",
   "metadata": {},
   "source": [
    "Python bytecode ek aisa platform-independent (jise kisi bhi system par chalaya jaa sakta hai) intermediate representation hota hai jo Python code ka hota hai.\n",
    "Yeh binary instructions ka ek sequence hota hai, jo sirf Python interpreter ke liye specific hota hai, aur yeh machine-specific nahi hota.\n",
    "* Jab aap koi Python module import karte hain, toh .pyc files generate hoti hain.\n",
    "\n",
    "* .pyc files mein compiled bytecode hota hai, jo Python interpreter direct execute kar sakta hai."
   ]
  },
  {
   "cell_type": "markdown",
   "id": "1eb8520a",
   "metadata": {},
   "source": [
    "### 4: dis Module"
   ]
  },
  {
   "cell_type": "markdown",
   "id": "40fb6bbd",
   "metadata": {},
   "source": [
    "Python ka dis module ek built-in module hai jo aapko Python objects (jaise functions, methods, aur classes) ke bytecode ko disassemble (tukdo mein todna) aur inspect (jaiza lena) karne ka tareeqa deta hai.\n",
    "\n",
    "Yeh aapko aapke Python code ka low-level representation dikhata hai aur yeh samajhne mein madad karta hai ke aapka code Python interpreter ke through kaise execute hota hai."
   ]
  },
  {
   "cell_type": "markdown",
   "id": "9e815802",
   "metadata": {},
   "source": [
    "### 5: Python Bytecode Ki Ahmiyat Kya Hai?"
   ]
  },
  {
   "cell_type": "markdown",
   "id": "bc9199c5",
   "metadata": {},
   "source": [
    "Python bytecode bohot zaroori hai kyun ke yeh Python code ko platform-independent aur flexible banata hai. Yeh kuch reasons hain:\n",
    "\n",
    "* Platform Independence:\n",
    "Python bytecode ko kisi bhi platform par execute kiya jaa sakta hai, jahan Python interpreter ho, bina kisi recompilation ki zarurat ke.\n",
    "\n",
    "* Dynamic Typing:\n",
    "Python bytecode dynamically typed hota hai, iska matlab hai ke variable ka type runtime par determine hota hai, na ke compile time par.\n",
    "\n",
    "* Flexibility:\n",
    "Python bytecode ko asani se modify ya extend kiya jaa sakta hai, jo Python interpreter mein naye features ya functionality add karna asaan banaata hai.\n"
   ]
  },
  {
   "cell_type": "markdown",
   "id": "8ab62c42",
   "metadata": {},
   "source": [
    "### 6: Python Bytecode Kaise Use Karta Hai?"
   ]
  },
  {
   "cell_type": "markdown",
   "id": "2cb252c3",
   "metadata": {},
   "source": [
    "1. Compilation:\n",
    "Jab aap Python script run karte ho, toh Python interpreter pehle usay bytecode mein compile karta hai.\n",
    "\n",
    "2. Execution:\n",
    "Compile ki hui bytecode ko Python Virtual Machine (PVM) execute karta hai.\n",
    "\n",
    "3. Caching:\n",
    "Python compiled bytecode ko pycache directory mein cache karta hai, taake future mein execution speed faster ho."
   ]
  },
  {
   "cell_type": "markdown",
   "id": "ba1eb6e4",
   "metadata": {},
   "source": [
    "### 7: Kya Yeh Bytecode Har OS Par Chalta Hai?"
   ]
  },
  {
   "cell_type": "markdown",
   "id": "7f75fae5",
   "metadata": {},
   "source": [
    "Python bytecode platform-independent hota hai, iska matlab hai ke wahi bytecode (.pyc files) kisi bhi operating system par chal sakta hai, jab tak Python interpreter ka version match karta ho. Lekin kuch limitations hain:"
   ]
  },
  {
   "cell_type": "markdown",
   "id": "e21782e2",
   "metadata": {},
   "source": [
    "#### 1. Platform Independence:\n",
    "\n",
    "* Python bytecode ko different OSes (Windows, macOS, Linux, etc.) par chalaya jaa sakta hai.\n",
    "\n",
    "* Lekin yeh sahi version ke Python interpreter ke saath run karna zaroori hai.\n",
    "\n",
    "#### 2. Interpreter Dependency:\n",
    "\n",
    "* Different Python versions ke liye different bytecode generate hota hai.\n",
    "\n",
    "* Agar aapne Python 3.10 mein .pyc file banayi hai, toh woh Python 3.8 mein kaam nahi karegi.\n",
    "\n",
    "#### 3. Machine Independence (Not Fully!):\n",
    "\n",
    "* Python bytecode CPU architecture (x86 ya ARM) se tied nahi hota.\n",
    "\n",
    "* Phir bhi yeh Python ke runtime pe depend karta hai.\n",
    "\n",
    "* Kuch OS-specific modules (jaise os ya sys) platform ke hisaab se alag behave kar sakte hain."
   ]
  },
  {
   "cell_type": "markdown",
   "id": "6e9b2bcd",
   "metadata": {},
   "source": [
    "### 8: How to run byte code manually"
   ]
  },
  {
   "cell_type": "markdown",
   "id": "dc5a03a0",
   "metadata": {},
   "source": [
    "Use VSCode or Cursor.\n",
    "\n",
    "1. Compile Python Code:\n",
    "* Run command python -m compileall TestP.py\n",
    "* It create the byte code in __pycache__ folder\n",
    "2. Running Byte Code:\n",
    "* go inside the __pycache__ folder either in terminal window or cmd\n",
    "* copy the name of .pyc file\n",
    "* run command python TestP.cpython-312.pyc"
   ]
  },
  {
   "cell_type": "markdown",
   "id": "99548fb0",
   "metadata": {},
   "source": [
    "### 9: Indentation in Python"
   ]
  },
  {
   "cell_type": "markdown",
   "id": "d60e2374",
   "metadata": {},
   "source": [
    "Indentation is the process of adding spaces or tabs to the beginning of a line of code to indicate that it is part of a larger block of code. In Python, indentation is used to define the structure of the code and to show the relationship between different blocks of code."
   ]
  },
  {
   "cell_type": "markdown",
   "id": "433dbbf0",
   "metadata": {},
   "source": [
    "##### **Rules of Indentation:**"
   ]
  },
  {
   "cell_type": "markdown",
   "id": "f103c52a",
   "metadata": {},
   "source": [
    "1. Use consistent indentation: Use either spaces or tabs for indentation, but not both.\n",
    "\n",
    "2. Use 4 spaces for each level of indentation: This is the standard convention in Python.\n",
    "\n",
    "3. Indent after a colon: A colon (:) is used to indicate the start of a block of code. Indent the next line of code after the colon.\n",
    "\n",
    "4. Indent after a function or class definition: Indent the code inside a function or class definition."
   ]
  },
  {
   "cell_type": "markdown",
   "id": "d2720321",
   "metadata": {},
   "source": [
    "### 10: Different Python Implementations"
   ]
  },
  {
   "cell_type": "code",
   "execution_count": null,
   "id": "f1069111",
   "metadata": {},
   "outputs": [],
   "source": [
    "import pandas as pd\n",
    "\n",
    "data = {\n",
    "    'Name': ['Ali', 'Sara', 'Ahmed', 'Lina'],\n",
    "    'Age': [25, 30, 22, 28],\n",
    "    'City': ['Lahore', 'Karachi', 'Islamabad', 'Multan']\n",
    "}\n",
    "\n",
    "df = pd.DataFrame(data)\n"
   ]
  }
 ],
 "metadata": {
  "kernelspec": {
   "display_name": ".venv",
   "language": "python",
   "name": "python3"
  },
  "language_info": {
   "name": "python",
   "version": "3.11.9"
  }
 },
 "nbformat": 4,
 "nbformat_minor": 5
}
