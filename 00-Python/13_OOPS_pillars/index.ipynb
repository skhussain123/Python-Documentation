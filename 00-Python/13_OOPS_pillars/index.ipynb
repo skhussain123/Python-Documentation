{
 "cells": [
  {
   "cell_type": "markdown",
   "id": "def78655",
   "metadata": {},
   "source": [
    "the 4 pillars of OOP (Object-Oriented Programming) — these are the core concepts you must understand when learning classes and objects in any object-oriented language, including Python"
   ]
  },
  {
   "cell_type": "markdown",
   "id": "17b9561c",
   "metadata": {},
   "source": [
    "* Inheritance \n",
    "* Encapsulation \n",
    "* Abstraction \n",
    "* Polymorphism "
   ]
  },
  {
   "cell_type": "markdown",
   "id": "047c9e2b",
   "metadata": {},
   "source": [
    "### Inheritance  "
   ]
  },
  {
   "cell_type": "markdown",
   "id": "b32cc549",
   "metadata": {},
   "source": [
    "Inheritance allows a class (called a child or subclass) to reuse the code from another class (called a parent or superclass).\n",
    "\n",
    "This helps with:\n",
    "\n",
    "* Code reusability\n",
    "* Organizing code better\n",
    "* Avoiding duplication"
   ]
  },
  {
   "cell_type": "code",
   "execution_count": 5,
   "id": "ac65bc71",
   "metadata": {},
   "outputs": [
    {
     "name": "stdout",
     "output_type": "stream",
     "text": [
      "Eating\n",
      "Sleeping\n",
      "Barking\n"
     ]
    }
   ],
   "source": [
    "class Animal:\n",
    "    def eat(self):\n",
    "        print(\"Eating\")\n",
    "\n",
    "    def sleep(self):\n",
    "        print(\"Sleeping\")\n",
    "        \n",
    "class Dog(Animal):   # Inheriting Animal class\n",
    "    def bark(self):\n",
    "        print(\"Barking\")\n",
    "\n",
    "\n",
    "d = Dog()\n",
    "d.eat()      # Inherited from Animal\n",
    "d.sleep()    # Inherited from Animal\n",
    "d.bark()     # Own method     "
   ]
  },
  {
   "cell_type": "markdown",
   "id": "c87d49f0",
   "metadata": {},
   "source": [
    "### 🔹 Types of Inheritance in Python"
   ]
  },
  {
   "cell_type": "markdown",
   "id": "ac2aed02",
   "metadata": {},
   "source": [
    "| Type             | Example                                   | Explanation                                           |\n",
    "| ---------------- | ----------------------------------------- | ----------------------------------------------------- |\n",
    "| **Single**       | `Child(Parent)`                           | One parent, one child                                 |\n",
    "| **Multiple**     | `Child(Parent1, Parent2)`                 | Child inherits from multiple parents                  |\n",
    "| **Multilevel**   | `Class3(Class2(Class1))`                  | Child inherits from a parent, which also has a parent |\n",
    "| **Hierarchical** | Multiple children inherit from one parent |                                                       |\n",
    "| **Hybrid**       | Mix of multiple types                     | Combination of above                                  |\n"
   ]
  },
  {
   "cell_type": "markdown",
   "id": "491fb9c1",
   "metadata": {},
   "source": [
    "### 1. Single Inheritance:"
   ]
  },
  {
   "cell_type": "markdown",
   "id": "809691a1",
   "metadata": {},
   "source": [
    "        ┌────────────┐\n",
    "        │  Parent    │\n",
    "        └────┬───────┘\n",
    "             │\n",
    "        ┌────▼───────┐\n",
    "        │  Child     │\n",
    "        └────────────┘\n"
   ]
  },
  {
   "cell_type": "code",
   "execution_count": 6,
   "id": "0407f825",
   "metadata": {},
   "outputs": [
    {
     "name": "stdout",
     "output_type": "stream",
     "text": [
      "Walking\n",
      "Studying\n"
     ]
    }
   ],
   "source": [
    "class Person:\n",
    "    def walk(self):\n",
    "        print(\"Walking\")\n",
    "\n",
    "class Student(Person):\n",
    "    def study(self):\n",
    "        print(\"Studying\")\n",
    "\n",
    "s = Student()\n",
    "s.walk()\n",
    "s.study()"
   ]
  },
  {
   "cell_type": "markdown",
   "id": "682ceda3",
   "metadata": {},
   "source": [
    "### 2. Multiple Inheritance:"
   ]
  },
  {
   "cell_type": "markdown",
   "id": "09986721",
   "metadata": {},
   "source": [
    "        ┌────────────┐   ┌────────────┐\n",
    "        │  Parent1   │   │  Parent2   │\n",
    "        └────┬───────┘   └────┬───────┘\n",
    "              │               │\n",
    "              └────┬──────────┘\n",
    "                   ▼\n",
    "              ┌────────────┐\n",
    "              │   Child    │\n",
    "              └────────────┘\n"
   ]
  },
  {
   "cell_type": "code",
   "execution_count": null,
   "id": "c13c488e",
   "metadata": {},
   "outputs": [],
   "source": [
    "class Father:\n",
    "    def skills(self):\n",
    "        print(\"Gardening\")\n",
    "\n",
    "class Mother:\n",
    "    def skills(self):\n",
    "        print(\"Cooking\")\n",
    "\n",
    "class Child(Father, Mother):\n",
    "    pass\n",
    "\n",
    "c = Child()\n",
    "c.skills()  # Output: Gardening (because Father is first in the list)\n"
   ]
  },
  {
   "cell_type": "markdown",
   "id": "488994ec",
   "metadata": {},
   "source": [
    "### 3. Multilevel Inheritance:"
   ]
  },
  {
   "cell_type": "markdown",
   "id": "16a1c9f6",
   "metadata": {},
   "source": [
    "        ┌────────────┐\n",
    "        │ Grandparent│\n",
    "        └────┬───────┘\n",
    "             │\n",
    "        ┌────▼───────┐\n",
    "        │   Parent   │\n",
    "        └────┬───────┘\n",
    "             │\n",
    "        ┌────▼───────┐\n",
    "        │   Child    │\n",
    "        └────────────┘\n"
   ]
  },
  {
   "cell_type": "code",
   "execution_count": null,
   "id": "06e3c464",
   "metadata": {},
   "outputs": [],
   "source": [
    "class Grandfather:\n",
    "    def home(self):\n",
    "        print(\"Big house\")\n",
    "\n",
    "class Father(Grandfather):\n",
    "    def car(self):\n",
    "        print(\"Owns a car\")\n",
    "\n",
    "class Son(Father):\n",
    "    def bike(self):\n",
    "        print(\"Owns a bike\")\n",
    "\n",
    "s = Son()\n",
    "s.home()\n",
    "s.car()\n",
    "s.bike()\n"
   ]
  },
  {
   "cell_type": "markdown",
   "id": "7c9277ed",
   "metadata": {},
   "source": [
    "### 4. Hierarchical Inheritance:"
   ]
  },
  {
   "cell_type": "markdown",
   "id": "35a5ef27",
   "metadata": {},
   "source": [
    "             ┌────────────┐\n",
    "             │  Parent    │\n",
    "             └────┬───────┘\n",
    "         ┌────────┴────────┐\n",
    "    ┌────▼─────┐     ┌────▼─────┐\n",
    "    │  Child1  │     │  Child2  │\n",
    "    └──────────┘     └──────────┘"
   ]
  },
  {
   "cell_type": "code",
   "execution_count": null,
   "id": "78b44e06",
   "metadata": {},
   "outputs": [],
   "source": [
    "class Animal:\n",
    "    def eat(self):\n",
    "        print(\"Eating\")\n",
    "\n",
    "class Dog(Animal):\n",
    "    def bark(self):\n",
    "        print(\"Barking\")\n",
    "\n",
    "class Cat(Animal):\n",
    "    def meow(self):\n",
    "        print(\"Meowing\")\n",
    "\n",
    "d = Dog()\n",
    "d.eat()\n",
    "d.bark()\n",
    "\n",
    "c = Cat()\n",
    "c.eat()\n",
    "c.meow()\n"
   ]
  },
  {
   "cell_type": "markdown",
   "id": "5d92d631",
   "metadata": {},
   "source": [
    "### 📘 5. Hybrid Inheritance"
   ]
  },
  {
   "cell_type": "markdown",
   "id": "a6b94147",
   "metadata": {},
   "source": [
    "Hybrid Inheritance is a combination of two or more types of inheritance, like:\n",
    "\n",
    "* Single\n",
    "* Multiple\n",
    "\n"
   ]
  },
  {
   "cell_type": "markdown",
   "id": "e4380fe9",
   "metadata": {},
   "source": [
    "             ┌────────────┐\n",
    "             │  Class A   │\n",
    "             └────┬───────┘\n",
    "         ┌────────┴────────┐\n",
    "    ┌────▼─────┐     ┌────▼─────┐\n",
    "    │  Class B │     │  Class C │\n",
    "    └────┬─────┘     └────┬─────┘\n",
    "         └────────┬──────┘\n",
    "                  ▼\n",
    "             ┌────────────┐\n",
    "             │  Class D   │\n",
    "             └────────────┘\n"
   ]
  },
  {
   "cell_type": "code",
   "execution_count": 14,
   "id": "1fb7bf6f",
   "metadata": {},
   "outputs": [
    {
     "name": "stdout",
     "output_type": "stream",
     "text": [
      "Method from Class A\n",
      "Method from Class B\n",
      "Method from Class C\n",
      "Method from Class D\n"
     ]
    }
   ],
   "source": [
    "# Base class\n",
    "class A:\n",
    "    def methodA(self):\n",
    "        print(\"Method from Class A\")\n",
    "\n",
    "# Inheriting A\n",
    "class B(A):\n",
    "    def methodB(self):\n",
    "        print(\"Method from Class B\")\n",
    "\n",
    "# Also inheriting A\n",
    "class C(A):\n",
    "    def methodC(self):\n",
    "        print(\"Method from Class C\")\n",
    "\n",
    "# Inheriting B and C => Hybrid Inheritance\n",
    "class D(B, C):\n",
    "    def methodD(self):\n",
    "        print(\"Method from Class D\")\n",
    "\n",
    "# Object of class D\n",
    "obj = D()\n",
    "obj.methodA()  # From A\n",
    "obj.methodB()  # From B\n",
    "obj.methodC()  # From C\n",
    "obj.methodD()  # From D\n"
   ]
  },
  {
   "cell_type": "markdown",
   "id": "5ef99407",
   "metadata": {},
   "source": [
    "**🔍 Why Use Hybrid Inheritance?**\n",
    "* When your model needs multiple behaviors from different classes.\n",
    "* For complex real-world scenarios (e.g., flying robots, smart vehicles, etc.)"
   ]
  },
  {
   "cell_type": "markdown",
   "id": "79a59296",
   "metadata": {},
   "source": [
    "### 🔹 Method Overriding in Inheritance"
   ]
  },
  {
   "cell_type": "code",
   "execution_count": 10,
   "id": "802a613b",
   "metadata": {},
   "outputs": [
    {
     "name": "stdout",
     "output_type": "stream",
     "text": [
      "Child class\n"
     ]
    }
   ],
   "source": [
    "class Parent:\n",
    "    def show(self):\n",
    "        print(\"Parent class\")\n",
    "\n",
    "class Child(Parent):\n",
    "    def show(self):  # overrides parent method\n",
    "        print(\"Child class\")\n",
    "\n",
    "c = Child()\n",
    "c.show()  # Output: Child class\n"
   ]
  },
  {
   "cell_type": "markdown",
   "id": "f78733c7",
   "metadata": {},
   "source": [
    "### 🔹 What is super()?\n",
    "\n",
    "* super() gives you access to methods and properties of a parent class, especially in inheritance.\n",
    "* It’s most commonly used inside the constructor (__init__) of a child class to call the constructor of the parent."
   ]
  },
  {
   "cell_type": "code",
   "execution_count": 15,
   "id": "d641cdff",
   "metadata": {},
   "outputs": [
    {
     "name": "stdout",
     "output_type": "stream",
     "text": [
      "Parent Constructor\n",
      "Child Constructor\n"
     ]
    }
   ],
   "source": [
    "class Parent:\n",
    "    def __init__(self):\n",
    "        print(\"Parent Constructor\")\n",
    "\n",
    "class Child(Parent):\n",
    "    def __init__(self):\n",
    "        super().__init__()  # Calls Parent class constructor\n",
    "        print(\"Child Constructor\")\n",
    "\n",
    "c = Child()\n"
   ]
  },
  {
   "cell_type": "markdown",
   "id": "70f53e27",
   "metadata": {},
   "source": [
    "### 🔹 In Multiple Inheritance"
   ]
  },
  {
   "cell_type": "code",
   "execution_count": 17,
   "id": "14da4113",
   "metadata": {},
   "outputs": [
    {
     "name": "stdout",
     "output_type": "stream",
     "text": [
      "A\n",
      "B\n",
      "C\n"
     ]
    }
   ],
   "source": [
    "class A:\n",
    "    def show(self):\n",
    "        print(\"A\")\n",
    "\n",
    "class B(A):\n",
    "    def show(self):\n",
    "        super().show()\n",
    "        print(\"B\")\n",
    "\n",
    "class C(B):\n",
    "    def show(self):\n",
    "        super().show()\n",
    "        print(\"C\")\n",
    "\n",
    "c = C()\n",
    "c.show()\n"
   ]
  },
  {
   "cell_type": "markdown",
   "id": "1225dfb7",
   "metadata": {},
   "source": [
    "### 🔹 super() in Method Overriding"
   ]
  },
  {
   "cell_type": "code",
   "execution_count": 18,
   "id": "7dfd82fb",
   "metadata": {},
   "outputs": [
    {
     "name": "stdout",
     "output_type": "stream",
     "text": [
      "Animal speaks\n",
      "Dog barks\n"
     ]
    }
   ],
   "source": [
    "class Animal:\n",
    "    def speak(self):\n",
    "        print(\"Animal speaks\")\n",
    "\n",
    "class Dog(Animal):\n",
    "    def speak(self):\n",
    "        super().speak()  # Call parent method\n",
    "        print(\"Dog barks\")\n",
    "\n",
    "d = Dog()\n",
    "d.speak()\n"
   ]
  },
  {
   "cell_type": "markdown",
   "id": "45ae92a9",
   "metadata": {},
   "source": [
    "**If you don’t use super(), only the child’s __init__() will run.**"
   ]
  },
  {
   "cell_type": "code",
   "execution_count": null,
   "id": "b9698e0c",
   "metadata": {},
   "outputs": [],
   "source": [
    "class Parent:\n",
    "    def __init__(self):\n",
    "        print(\"Parent\")\n",
    "\n",
    "class Child(Parent):\n",
    "    def __init__(self):\n",
    "        print(\"Child\")\n",
    "\n",
    "c = Child()\n",
    "# Output: Child\n"
   ]
  },
  {
   "cell_type": "markdown",
   "id": "0338bbec",
   "metadata": {},
   "source": [
    "Parent constructor never runs unless you call it using super()."
   ]
  }
 ],
 "metadata": {
  "kernelspec": {
   "display_name": ".venv",
   "language": "python",
   "name": "python3"
  },
  "language_info": {
   "codemirror_mode": {
    "name": "ipython",
    "version": 3
   },
   "file_extension": ".py",
   "mimetype": "text/x-python",
   "name": "python",
   "nbconvert_exporter": "python",
   "pygments_lexer": "ipython3",
   "version": "3.11.9"
  }
 },
 "nbformat": 4,
 "nbformat_minor": 5
}
