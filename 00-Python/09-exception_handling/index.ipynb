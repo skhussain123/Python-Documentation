{
 "cells": [
  {
   "cell_type": "markdown",
   "id": "43a4fcd9",
   "metadata": {},
   "source": [
    "### **Exception Handling**\n",
    "Exception handling is the process of responding to unwanted or unexpected events when a computer program runs. Exception handling deals with these events to avoid the program or system crashing, and without this process, exceptions would disrupt the normal operation of a program."
   ]
  },
  {
   "cell_type": "markdown",
   "id": "7bba10f2",
   "metadata": {},
   "source": [
    "#### **Exceptions in Python**\n",
    "Python has many built-in exceptions that are raised when your program encounters an error (something in the program goes wrong).\n",
    "\n",
    "When these exceptions occur, the Python interpreter stops the current process and passes it to the calling process until it is handled. If not handled, the program will crash."
   ]
  },
  {
   "cell_type": "markdown",
   "id": "c364ccf6",
   "metadata": {},
   "source": [
    "### **The try Block**"
   ]
  },
  {
   "cell_type": "markdown",
   "id": "ab7926e6",
   "metadata": {},
   "source": [
    "try….. except blocks are used in python to handle errors and exceptions. The code in try block runs when there is no error. If the try block catches the error, then the except block is executed.\n"
   ]
  },
  {
   "cell_type": "code",
   "execution_count": 9,
   "id": "11f43ff5",
   "metadata": {},
   "outputs": [
    {
     "name": "stdout",
     "output_type": "stream",
     "text": [
      "An error occurred!\n"
     ]
    }
   ],
   "source": [
    "try:\n",
    "    result = 10 / 0  # This will raise a ZeroDivisionError\n",
    "except:\n",
    "    print(\"An error occurred!\")"
   ]
  },
  {
   "cell_type": "markdown",
   "id": "8a85ac0c",
   "metadata": {},
   "source": [
    "### **The except Block**\n",
    "The except block is used to handle specific errors that occur in the try block. You can specify the type of error to catch, or use a generic except to catch all errors."
   ]
  },
  {
   "cell_type": "code",
   "execution_count": 10,
   "id": "0fd9bc47",
   "metadata": {},
   "outputs": [
    {
     "name": "stdout",
     "output_type": "stream",
     "text": [
      "Cannot divide by zero!\n"
     ]
    }
   ],
   "source": [
    "try:\n",
    "    result = 10 / 0\n",
    "except ZeroDivisionError:\n",
    "    print(\"Cannot divide by zero!\")\n",
    "except Exception as e:\n",
    "    print(f\"An unexpected error occurred: {e}\")"
   ]
  },
  {
   "cell_type": "markdown",
   "id": "83f17cf0",
   "metadata": {},
   "source": [
    "### **The else Block**\n",
    "The else block is executed if no errors occur in the try block. It is optional and is used for code that should only run when the try block is successful."
   ]
  },
  {
   "cell_type": "code",
   "execution_count": 11,
   "id": "0a0af4fe",
   "metadata": {},
   "outputs": [
    {
     "name": "stdout",
     "output_type": "stream",
     "text": [
      "Division successful. Result: 5.0\n"
     ]
    }
   ],
   "source": [
    "try:\n",
    "    result = 10 / 2\n",
    "except ZeroDivisionError:\n",
    "    print(\"Cannot divide by zero!\")\n",
    "else:\n",
    "    print(f\"Division successful. Result: {result}\")"
   ]
  },
  {
   "cell_type": "markdown",
   "id": "2e13e191",
   "metadata": {},
   "source": [
    "### **The finally Block**\n",
    "The finally block is executed regardless of whether an error occurred or not. It is often used for cleanup operations, such as closing files or releasing resources."
   ]
  },
  {
   "cell_type": "code",
   "execution_count": 12,
   "id": "03a2724e",
   "metadata": {},
   "outputs": [
    {
     "name": "stdout",
     "output_type": "stream",
     "text": [
      "Cannot divide by zero!\n",
      "This will always execute.\n"
     ]
    }
   ],
   "source": [
    "try:\n",
    "    result = 10 / 0\n",
    "except ZeroDivisionError:\n",
    "    print(\"Cannot divide by zero!\")\n",
    "finally:\n",
    "    print(\"This will always execute.\")"
   ]
  },
  {
   "cell_type": "markdown",
   "id": "be3334ba",
   "metadata": {},
   "source": [
    "### **Putting It All Together**\n",
    "Here’s an example that combines all four blocks:"
   ]
  },
  {
   "cell_type": "code",
   "execution_count": 13,
   "id": "be7a112b",
   "metadata": {},
   "outputs": [
    {
     "name": "stdout",
     "output_type": "stream",
     "text": [
      "Division successful. Result: 5.0\n",
      "Operation complete.\n",
      "\n",
      "Error: Cannot divide by zero!\n",
      "Operation complete.\n",
      "\n"
     ]
    }
   ],
   "source": [
    "def divide_numbers(a, b):\n",
    "    try:\n",
    "        result = a / b  # Test this block for errors\n",
    "    except ZeroDivisionError:\n",
    "        print(\"Error: Cannot divide by zero!\")\n",
    "    except IndexError:\n",
    "        print(\"IndexError Error.\")\n",
    "    else:\n",
    "        print(f\"Division successful. Result: {result}\")\n",
    "    finally:\n",
    "        print(\"Operation complete.\\n\")\n",
    "\n",
    "# Test cases\n",
    "divide_numbers(10, 2)  # Successful division\n",
    "divide_numbers(10, 0)  # ZeroDivisionError"
   ]
  },
  {
   "cell_type": "markdown",
   "id": "f0595dcf",
   "metadata": {},
   "source": [
    "### **Key Points Covered:**"
   ]
  },
  {
   "cell_type": "markdown",
   "id": "14581cb0",
   "metadata": {},
   "source": [
    "* try Block: Used to test a block of code for errors.\n",
    "* except Block: Used to handle specific or generic errors.\n",
    "* else Block: Executes when no errors occur in the try block.\n",
    "* finally Block: Executes regardless of whether an error occurred."
   ]
  },
  {
   "cell_type": "markdown",
   "id": "55f01461",
   "metadata": {},
   "source": [
    "### **Practice Problem:**"
   ]
  },
  {
   "cell_type": "code",
   "execution_count": 14,
   "id": "0a807c43",
   "metadata": {},
   "outputs": [
    {
     "name": "stdout",
     "output_type": "stream",
     "text": [
      "The result is: 1.0\n",
      "Thank you for using the program!\n"
     ]
    }
   ],
   "source": [
    "try:\n",
    "    num1 = float(input(\"Enter the first number: \"))\n",
    "    num2 = float(input(\"Enter the second number: \"))\n",
    "    result = num1 / num2\n",
    "except ValueError:\n",
    "    print(\"Error: Invalid input. Please enter numbers.\")\n",
    "except ZeroDivisionError:\n",
    "    print(\"Error: Cannot divide by zero.\")\n",
    "else:\n",
    "    print(f\"The result is: {result}\")\n",
    "finally:\n",
    "    print(\"Thank you for using the program!\")"
   ]
  },
  {
   "cell_type": "markdown",
   "id": "618a295d",
   "metadata": {},
   "source": [
    "### **Handling the Exception with try-except**"
   ]
  },
  {
   "cell_type": "code",
   "execution_count": 15,
   "id": "8c96a422",
   "metadata": {},
   "outputs": [
    {
     "name": "stdout",
     "output_type": "stream",
     "text": [
      "Error: Division by zero is not allowed!\n",
      "Program continues...\n"
     ]
    }
   ],
   "source": [
    "def divide(a, b):\n",
    "    if b == 0:\n",
    "        raise ValueError(\"Division by zero is not allowed!\")\n",
    "    return a / b\n",
    "\n",
    "try:\n",
    "    result = divide(5, 0)  # This will raise an exception\n",
    "    print(result)  # This line won't run if exception occurs\n",
    "except ValueError as e:\n",
    "    print(f\"Error: {e}\")  # Output: Error: Division by zero is not allowed!\n",
    "\n",
    "print(\"Program continues...\")  # This line will always execute"
   ]
  },
  {
   "cell_type": "markdown",
   "id": "3f90b35c",
   "metadata": {},
   "source": [
    "### **Throwing Custom Exceptions**"
   ]
  },
  {
   "cell_type": "code",
   "execution_count": 16,
   "id": "f938c558",
   "metadata": {},
   "outputs": [
    {
     "name": "stdout",
     "output_type": "stream",
     "text": [
      "Custom Exception Caught: Negative numbers are not allowed!  - Exception Class Type:  <class '__main__.NegativeNumberError'>\n"
     ]
    }
   ],
   "source": [
    "class NegativeNumberError(Exception):\n",
    "    \"\"\"Custom exception for negative numbers\"\"\"\n",
    "    pass\n",
    "\n",
    "def check_positive(n):\n",
    "    if n < 0:\n",
    "        raise NegativeNumberError(\"Negative numbers are not allowed!\")\n",
    "    return f\"{n} is positive\"\n",
    "\n",
    "try:\n",
    "    print(check_positive(-5))  # Raises NegativeNumberError\n",
    "except NegativeNumberError as e:\n",
    "    print(f\"Custom Exception Caught: {e}\", \" - Exception Class Type: \", type(e))  # Output: Custom Exception Caught: Negative numbers are not allowed!\n"
   ]
  }
 ],
 "metadata": {
  "kernelspec": {
   "display_name": ".venv",
   "language": "python",
   "name": "python3"
  },
  "language_info": {
   "codemirror_mode": {
    "name": "ipython",
    "version": 3
   },
   "file_extension": ".py",
   "mimetype": "text/x-python",
   "name": "python",
   "nbconvert_exporter": "python",
   "pygments_lexer": "ipython3",
   "version": "3.11.9"
  }
 },
 "nbformat": 4,
 "nbformat_minor": 5
}
