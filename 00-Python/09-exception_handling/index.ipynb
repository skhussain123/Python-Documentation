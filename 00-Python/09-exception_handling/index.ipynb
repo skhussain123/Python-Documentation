{
 "cells": [
  {
   "cell_type": "markdown",
   "id": "c364ccf6",
   "metadata": {},
   "source": [
    "### **The try Block**"
   ]
  },
  {
   "cell_type": "markdown",
   "id": "ab7926e6",
   "metadata": {},
   "source": [
    "The try block is used to test a block of code for errors. If an error occurs within the try block, the program will immediately jump to the except block (if provided)."
   ]
  },
  {
   "cell_type": "code",
   "execution_count": null,
   "id": "11f43ff5",
   "metadata": {},
   "outputs": [],
   "source": [
    "try:\n",
    "    result = 10 / 0  # This will raise a ZeroDivisionError\n",
    "except:\n",
    "    print(\"An error occurred!\")"
   ]
  },
  {
   "cell_type": "markdown",
   "id": "8a85ac0c",
   "metadata": {},
   "source": [
    "### **The except Block**\n",
    "The except block is used to handle specific errors that occur in the try block. You can specify the type of error to catch, or use a generic except to catch all errors."
   ]
  },
  {
   "cell_type": "code",
   "execution_count": null,
   "id": "0fd9bc47",
   "metadata": {},
   "outputs": [],
   "source": [
    "try:\n",
    "    result = 10 / 0\n",
    "except ZeroDivisionError:\n",
    "    print(\"Cannot divide by zero!\")\n",
    "except Exception as e:\n",
    "    print(f\"An unexpected error occurred: {e}\")"
   ]
  },
  {
   "cell_type": "markdown",
   "id": "83f17cf0",
   "metadata": {},
   "source": [
    "### **The else Block**\n",
    "The else block is executed if no errors occur in the try block. It is optional and is used for code that should only run when the try block is successful."
   ]
  },
  {
   "cell_type": "code",
   "execution_count": null,
   "id": "0a0af4fe",
   "metadata": {},
   "outputs": [],
   "source": [
    "try:\n",
    "    result = 10 / 2\n",
    "except ZeroDivisionError:\n",
    "    print(\"Cannot divide by zero!\")\n",
    "else:\n",
    "    print(f\"Division successful. Result: {result}\")"
   ]
  },
  {
   "cell_type": "markdown",
   "id": "2e13e191",
   "metadata": {},
   "source": [
    "### **The finally Block**\n",
    "The finally block is executed regardless of whether an error occurred or not. It is often used for cleanup operations, such as closing files or releasing resources."
   ]
  },
  {
   "cell_type": "code",
   "execution_count": null,
   "id": "03a2724e",
   "metadata": {},
   "outputs": [],
   "source": [
    "try:\n",
    "    result = 10 / 0\n",
    "except ZeroDivisionError:\n",
    "    print(\"Cannot divide by zero!\")\n",
    "finally:\n",
    "    print(\"This will always execute.\")"
   ]
  },
  {
   "cell_type": "markdown",
   "id": "be3334ba",
   "metadata": {},
   "source": [
    "### **Putting It All Together**\n",
    "Here’s an example that combines all four blocks:"
   ]
  },
  {
   "cell_type": "code",
   "execution_count": null,
   "id": "be7a112b",
   "metadata": {},
   "outputs": [],
   "source": [
    "def divide_numbers(a, b):\n",
    "    try:\n",
    "        result = a / b  # Test this block for errors\n",
    "    except ZeroDivisionError:\n",
    "        print(\"Error: Cannot divide by zero!\")\n",
    "    except IndexError:\n",
    "        print(\"IndexError Error.\")\n",
    "    else:\n",
    "        print(f\"Division successful. Result: {result}\")\n",
    "    finally:\n",
    "        print(\"Operation complete.\\n\")\n",
    "\n",
    "# Test cases\n",
    "divide_numbers(10, 2)  # Successful division\n",
    "divide_numbers(10, 0)  # ZeroDivisionError"
   ]
  },
  {
   "cell_type": "markdown",
   "id": "f0595dcf",
   "metadata": {},
   "source": [
    "### **Key Points Covered:**"
   ]
  },
  {
   "cell_type": "markdown",
   "id": "14581cb0",
   "metadata": {},
   "source": [
    "* try Block: Used to test a block of code for errors.\n",
    "* except Block: Used to handle specific or generic errors.\n",
    "* else Block: Executes when no errors occur in the try block.\n",
    "* finally Block: Executes regardless of whether an error occurred."
   ]
  },
  {
   "cell_type": "markdown",
   "id": "55f01461",
   "metadata": {},
   "source": [
    "### **Practice Problem:**"
   ]
  },
  {
   "cell_type": "code",
   "execution_count": null,
   "id": "0a807c43",
   "metadata": {},
   "outputs": [],
   "source": [
    "try:\n",
    "    num1 = float(input(\"Enter the first number: \"))\n",
    "    num2 = float(input(\"Enter the second number: \"))\n",
    "    result = num1 / num2\n",
    "except ValueError:\n",
    "    print(\"Error: Invalid input. Please enter numbers.\")\n",
    "except ZeroDivisionError:\n",
    "    print(\"Error: Cannot divide by zero.\")\n",
    "else:\n",
    "    print(f\"The result is: {result}\")\n",
    "finally:\n",
    "    print(\"Thank you for using the program!\")"
   ]
  },
  {
   "cell_type": "markdown",
   "id": "618a295d",
   "metadata": {},
   "source": [
    "### **Handling the Exception with try-except**"
   ]
  },
  {
   "cell_type": "code",
   "execution_count": null,
   "id": "8c96a422",
   "metadata": {},
   "outputs": [],
   "source": [
    "def divide(a, b):\n",
    "    if b == 0:\n",
    "        raise ValueError(\"Division by zero is not allowed!\")\n",
    "    return a / b\n",
    "\n",
    "try:\n",
    "    result = divide(5, 0)  # This will raise an exception\n",
    "    print(result)  # This line won't run if exception occurs\n",
    "except ValueError as e:\n",
    "    print(f\"Error: {e}\")  # Output: Error: Division by zero is not allowed!\n",
    "\n",
    "print(\"Program continues...\")  # This line will always execute"
   ]
  },
  {
   "cell_type": "markdown",
   "id": "3f90b35c",
   "metadata": {},
   "source": [
    "### **Throwing Custom Exceptions**"
   ]
  },
  {
   "cell_type": "code",
   "execution_count": null,
   "id": "f938c558",
   "metadata": {},
   "outputs": [],
   "source": [
    "class NegativeNumberError(Exception):\n",
    "    \"\"\"Custom exception for negative numbers\"\"\"\n",
    "    pass\n",
    "\n",
    "def check_positive(n):\n",
    "    if n < 0:\n",
    "        raise NegativeNumberError(\"Negative numbers are not allowed!\")\n",
    "    return f\"{n} is positive\"\n",
    "\n",
    "try:\n",
    "    print(check_positive(-5))  # Raises NegativeNumberError\n",
    "except NegativeNumberError as e:\n",
    "    print(f\"Custom Exception Caught: {e}\", \" - Exception Class Type: \", type(e))  # Output: Custom Exception Caught: Negative numbers are not allowed!\n"
   ]
  }
 ],
 "metadata": {
  "kernelspec": {
   "display_name": ".venv",
   "language": "python",
   "name": "python3"
  },
  "language_info": {
   "codemirror_mode": {
    "name": "ipython",
    "version": 3
   },
   "file_extension": ".py",
   "mimetype": "text/x-python",
   "name": "python",
   "nbconvert_exporter": "python",
   "pygments_lexer": "ipython3",
   "version": "3.11.9"
  }
 },
 "nbformat": 4,
 "nbformat_minor": 5
}
