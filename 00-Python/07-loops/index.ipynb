{
 "cells": [
  {
   "cell_type": "markdown",
   "id": "9b9fc173",
   "metadata": {},
   "source": [
    "### Loops in python\n"
   ]
  },
  {
   "cell_type": "markdown",
   "id": "da2eb12e",
   "metadata": {},
   "source": [
    "Loops are used to repeat a block of code multiple times. Python supports two types of loops:"
   ]
  },
  {
   "cell_type": "markdown",
   "id": "693e3e05",
   "metadata": {},
   "source": [
    "#### 🔁 **1. for loop**\n",
    "Used to iterate over a sequence (like a list, tuple, dictionary, string, or range)."
   ]
  },
  {
   "cell_type": "code",
   "execution_count": null,
   "id": "fbcb9b66",
   "metadata": {},
   "outputs": [],
   "source": [
    "# Example: loop through a list\n",
    "fruits = ['apple', 'banana', 'cherry']\n",
    "for fruit in fruits:\n",
    "    print(fruit)\n"
   ]
  },
  {
   "cell_type": "code",
   "execution_count": null,
   "id": "ead0e302",
   "metadata": {},
   "outputs": [],
   "source": [
    "# Example: using range()\n",
    "for i in range(5):\n",
    "    print(i)\n"
   ]
  },
  {
   "cell_type": "markdown",
   "id": "319c0e79",
   "metadata": {},
   "source": [
    "#### 🔁 **2. while loop**\n",
    "Repeats as long as a condition is True."
   ]
  },
  {
   "cell_type": "code",
   "execution_count": null,
   "id": "147cc3d2",
   "metadata": {},
   "outputs": [],
   "source": [
    "# Example: while loop\n",
    "i = 0\n",
    "while i < 5:\n",
    "    print(i)\n",
    "    i += 1\n"
   ]
  },
  {
   "cell_type": "markdown",
   "id": "e259c6ff",
   "metadata": {},
   "source": [
    "#### 🔁 Loop control statements\n",
    "\n",
    "* break – exits the loop early\n",
    "* continue – skips the current iteration and continues\n",
    "* pass – does nothing (used as a placeholder)"
   ]
  },
  {
   "cell_type": "code",
   "execution_count": null,
   "id": "09d70370",
   "metadata": {},
   "outputs": [],
   "source": [
    "for i in range(10):\n",
    "    if i == 5:\n",
    "        break   # stops loop at 5\n",
    "    print(i)\n"
   ]
  },
  {
   "cell_type": "code",
   "execution_count": null,
   "id": "89840931",
   "metadata": {},
   "outputs": [],
   "source": [
    "for i in range(10):\n",
    "    if i % 2 == 0:\n",
    "        continue  # skips even numbers\n",
    "    print(i)\n"
   ]
  },
  {
   "cell_type": "markdown",
   "id": "54994470",
   "metadata": {},
   "source": [
    "#### ✅ **1. Looping through a list**"
   ]
  },
  {
   "cell_type": "code",
   "execution_count": 2,
   "id": "2bff5b1f",
   "metadata": {},
   "outputs": [
    {
     "name": "stdout",
     "output_type": "stream",
     "text": [
      "apple\n",
      "banana\n",
      "cherry\n"
     ]
    }
   ],
   "source": [
    "# List of fruits\n",
    "fruits = ['apple', 'banana', 'cherry']\n",
    "\n",
    "for fruit in fruits:\n",
    "    print(fruit)\n"
   ]
  },
  {
   "cell_type": "markdown",
   "id": "2b98e87b",
   "metadata": {},
   "source": [
    "#### ✅ **2. Looping through a tuple**"
   ]
  },
  {
   "cell_type": "code",
   "execution_count": null,
   "id": "e1a49350",
   "metadata": {},
   "outputs": [],
   "source": [
    "# Tuple of numbers\n",
    "numbers = (10, 20, 30)\n",
    "\n",
    "for num in numbers:\n",
    "    print(num)\n"
   ]
  },
  {
   "cell_type": "markdown",
   "id": "2e8fb73d",
   "metadata": {},
   "source": [
    "#### ✅ **Bonus: Loop with index using enumerate()**"
   ]
  },
  {
   "cell_type": "code",
   "execution_count": 3,
   "id": "f618a8d7",
   "metadata": {},
   "outputs": [
    {
     "name": "stdout",
     "output_type": "stream",
     "text": [
      "0: apple\n",
      "1: banana\n",
      "2: cherry\n"
     ]
    }
   ],
   "source": [
    "for index, fruit in enumerate(fruits):\n",
    "    print(f\"{index}: {fruit}\")"
   ]
  },
  {
   "cell_type": "markdown",
   "id": "7d930ca5",
   "metadata": {},
   "source": [
    "#### **for loop with break (Skipping else)**"
   ]
  },
  {
   "cell_type": "code",
   "execution_count": null,
   "id": "76954287",
   "metadata": {},
   "outputs": [],
   "source": [
    "numbers = [1, 2, 3, 4, 5]\n",
    "\n",
    "for num in numbers:\n",
    "    print(num)\n",
    "    if num == 3:\n",
    "        print(\"Breaking the loop!\")\n",
    "        break\n",
    "else:\n",
    "    print(\"Loop completed successfully!\")  # This will NOT run"
   ]
  },
  {
   "cell_type": "markdown",
   "id": "ed043e1e",
   "metadata": {},
   "source": [
    "#### **Nested Loops**"
   ]
  },
  {
   "cell_type": "code",
   "execution_count": 4,
   "id": "a3a6b166",
   "metadata": {},
   "outputs": [
    {
     "name": "stdout",
     "output_type": "stream",
     "text": [
      "Multiplication table for 1:\n",
      "1 * 1 = 1\n",
      "1 * 2 = 2\n",
      "1 * 3 = 3\n",
      "1 * 4 = 4\n",
      "1 * 5 = 5\n",
      "\n",
      "Multiplication table for 2:\n",
      "2 * 1 = 2\n",
      "2 * 2 = 4\n",
      "2 * 3 = 6\n",
      "2 * 4 = 8\n",
      "2 * 5 = 10\n",
      "\n",
      "Multiplication table for 3:\n",
      "3 * 1 = 3\n",
      "3 * 2 = 6\n",
      "3 * 3 = 9\n",
      "3 * 4 = 12\n",
      "3 * 5 = 15\n",
      "\n",
      "Multiplication table for 4:\n",
      "4 * 1 = 4\n",
      "4 * 2 = 8\n",
      "4 * 3 = 12\n",
      "4 * 4 = 16\n",
      "4 * 5 = 20\n",
      "\n",
      "Multiplication table for 5:\n",
      "5 * 1 = 5\n",
      "5 * 2 = 10\n",
      "5 * 3 = 15\n",
      "5 * 4 = 20\n",
      "5 * 5 = 25\n",
      "\n"
     ]
    }
   ],
   "source": [
    "# Multiplication table\n",
    "for outer in range(1, 6): # outer loop\n",
    "    print(f\"Multiplication table for {outer}:\")\n",
    "    for inner in range(1, 6): # nested inner loop\n",
    "        print(f\"{outer} * {inner} = {outer * inner}\")\n",
    "    print()  # Add a blank line after each row"
   ]
  },
  {
   "cell_type": "markdown",
   "id": "44c5d39b",
   "metadata": {},
   "source": [
    "#### **Loop Other Practice**"
   ]
  },
  {
   "cell_type": "code",
   "execution_count": 5,
   "id": "62bb3cbe",
   "metadata": {},
   "outputs": [
    {
     "name": "stdout",
     "output_type": "stream",
     "text": [
      "hussain\n",
      "junaid\n"
     ]
    }
   ],
   "source": [
    "my_list : str = ['hussain', 'junaid','Hamza', 'Ali', 'Zubair']\n",
    "\n",
    "for data in my_list[0:2]:\n",
    "    print(data)"
   ]
  },
  {
   "cell_type": "code",
   "execution_count": 6,
   "id": "aad6852a",
   "metadata": {},
   "outputs": [
    {
     "name": "stdout",
     "output_type": "stream",
     "text": [
      "{'name': 'hussain', 'age': 21}\n",
      "{'name': 'yasir', 'age': 22}\n"
     ]
    }
   ],
   "source": [
    "from typing import List, Dict\n",
    "\n",
    "my_list: List[Dict[str, object]] = [\n",
    "    {'name': 'hussain', 'age': 21},\n",
    "    {'name': 'yasir', 'age': 22}\n",
    "]\n",
    "\n",
    "for row in my_list:\n",
    "    data = row\n",
    "    print(data)\n"
   ]
  }
 ],
 "metadata": {
  "kernelspec": {
   "display_name": ".venv",
   "language": "python",
   "name": "python3"
  },
  "language_info": {
   "codemirror_mode": {
    "name": "ipython",
    "version": 3
   },
   "file_extension": ".py",
   "mimetype": "text/x-python",
   "name": "python",
   "nbconvert_exporter": "python",
   "pygments_lexer": "ipython3",
   "version": "3.11.9"
  }
 },
 "nbformat": 4,
 "nbformat_minor": 5
}
