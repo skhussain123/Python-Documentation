{
 "cells": [
  {
   "cell_type": "markdown",
   "id": "9b9fc173",
   "metadata": {},
   "source": [
    "### Loops in python\n"
   ]
  },
  {
   "cell_type": "markdown",
   "id": "da2eb12e",
   "metadata": {},
   "source": [
    "Loops are used to repeat a block of code multiple times. Python supports two types of loops:"
   ]
  },
  {
   "cell_type": "markdown",
   "id": "693e3e05",
   "metadata": {},
   "source": [
    "#### 🔁 **1. for loop**\n",
    "Used to iterate over a sequence (like a list, tuple, dictionary, string, or range)."
   ]
  },
  {
   "cell_type": "code",
   "execution_count": null,
   "id": "fbcb9b66",
   "metadata": {},
   "outputs": [],
   "source": [
    "# Example: loop through a list\n",
    "fruits = ['apple', 'banana', 'cherry']\n",
    "for fruit in fruits:\n",
    "    print(fruit)\n"
   ]
  },
  {
   "cell_type": "code",
   "execution_count": null,
   "id": "ead0e302",
   "metadata": {},
   "outputs": [],
   "source": [
    "# Example: using range()\n",
    "for i in range(5):\n",
    "    print(i)\n"
   ]
  },
  {
   "cell_type": "markdown",
   "id": "319c0e79",
   "metadata": {},
   "source": [
    "#### 🔁 **2. while loop**\n",
    "Repeats as long as a condition is True."
   ]
  },
  {
   "cell_type": "code",
   "execution_count": null,
   "id": "147cc3d2",
   "metadata": {},
   "outputs": [],
   "source": [
    "# Example: while loop\n",
    "i = 0\n",
    "while i < 5:\n",
    "    print(i)\n",
    "    i += 1\n"
   ]
  },
  {
   "cell_type": "markdown",
   "id": "e259c6ff",
   "metadata": {},
   "source": [
    "#### 🔁 Loop control statements\n",
    "\n",
    "* break – exits the loop early\n",
    "* continue – skips the current iteration and continues\n",
    "* pass – does nothing (used as a placeholder)"
   ]
  },
  {
   "cell_type": "code",
   "execution_count": null,
   "id": "09d70370",
   "metadata": {},
   "outputs": [],
   "source": [
    "for i in range(10):\n",
    "    if i == 5:\n",
    "        break   # stops loop at 5\n",
    "    print(i)\n"
   ]
  },
  {
   "cell_type": "code",
   "execution_count": null,
   "id": "89840931",
   "metadata": {},
   "outputs": [],
   "source": [
    "for i in range(10):\n",
    "    if i % 2 == 0:\n",
    "        continue  # skips even numbers\n",
    "    print(i)\n"
   ]
  },
  {
   "cell_type": "markdown",
   "id": "54994470",
   "metadata": {},
   "source": [
    "#### ✅ **1. Looping through a list**"
   ]
  },
  {
   "cell_type": "code",
   "execution_count": null,
   "id": "2bff5b1f",
   "metadata": {},
   "outputs": [],
   "source": [
    "# List of fruits\n",
    "fruits = ['apple', 'banana', 'cherry']\n",
    "\n",
    "for fruit in fruits:\n",
    "    print(fruit)\n"
   ]
  },
  {
   "cell_type": "markdown",
   "id": "2b98e87b",
   "metadata": {},
   "source": [
    "#### ✅ **2. Looping through a tuple**"
   ]
  },
  {
   "cell_type": "code",
   "execution_count": null,
   "id": "e1a49350",
   "metadata": {},
   "outputs": [],
   "source": [
    "# Tuple of numbers\n",
    "numbers = (10, 20, 30)\n",
    "\n",
    "for num in numbers:\n",
    "    print(num)\n"
   ]
  },
  {
   "cell_type": "markdown",
   "id": "2e8fb73d",
   "metadata": {},
   "source": [
    "#### ✅ **Bonus: Loop with index using enumerate()**"
   ]
  },
  {
   "cell_type": "code",
   "execution_count": null,
   "id": "f618a8d7",
   "metadata": {},
   "outputs": [],
   "source": [
    "for index, fruit in enumerate(fruits):\n",
    "    print(f\"{index}: {fruit}\")"
   ]
  },
  {
   "cell_type": "markdown",
   "id": "7d930ca5",
   "metadata": {},
   "source": [
    "#### **for loop with break (Skipping else)**"
   ]
  },
  {
   "cell_type": "code",
   "execution_count": null,
   "id": "76954287",
   "metadata": {},
   "outputs": [],
   "source": [
    "numbers = [1, 2, 3, 4, 5]\n",
    "\n",
    "for num in numbers:\n",
    "    print(num)\n",
    "    if num == 3:\n",
    "        print(\"Breaking the loop!\")\n",
    "        break\n",
    "else:\n",
    "    print(\"Loop completed successfully!\")  # This will NOT run"
   ]
  },
  {
   "cell_type": "markdown",
   "id": "ed043e1e",
   "metadata": {},
   "source": [
    "#### **Nested Loops**"
   ]
  },
  {
   "cell_type": "code",
   "execution_count": null,
   "id": "a3a6b166",
   "metadata": {},
   "outputs": [],
   "source": [
    "# Multiplication table\n",
    "for outer in range(1, 6): # outer loop\n",
    "    print(f\"Multiplication table for {outer}:\")\n",
    "    for inner in range(1, 6): # nested inner loop\n",
    "        print(f\"{outer} * {inner} = {outer * inner}\")\n",
    "    print()  # Add a blank line after each row"
   ]
  },
  {
   "cell_type": "markdown",
   "id": "44c5d39b",
   "metadata": {},
   "source": [
    "#### **Loop Other Practice**"
   ]
  },
  {
   "cell_type": "code",
   "execution_count": null,
   "id": "62bb3cbe",
   "metadata": {},
   "outputs": [],
   "source": [
    "my_list : str = ['hussain', 'junaid','Hamza', 'Ali', 'Zubair']\n",
    "\n",
    "for data in my_list[0:2]:\n",
    "    print(data)"
   ]
  },
  {
   "cell_type": "code",
   "execution_count": 6,
   "id": "aad6852a",
   "metadata": {},
   "outputs": [
    {
     "name": "stdout",
     "output_type": "stream",
     "text": [
      "{'name': 'hussain', 'age': 21}\n",
      "{'name': 'yasir', 'age': 22}\n"
     ]
    }
   ],
   "source": [
    "from typing import List, Dict\n",
    "\n",
    "my_list: List[Dict[str, object]] = [\n",
    "    {'name': 'hussain', 'age': 21},\n",
    "    {'name': 'yasir', 'age': 22}\n",
    "]\n",
    "\n",
    "for row in my_list:\n",
    "    data = row\n",
    "    print(data)\n"
   ]
  }
 ],
 "metadata": {
  "kernelspec": {
   "display_name": ".venv",
   "language": "python",
   "name": "python3"
  },
  "language_info": {
   "codemirror_mode": {
    "name": "ipython",
    "version": 3
   },
   "file_extension": ".py",
   "mimetype": "text/x-python",
   "name": "python",
   "nbconvert_exporter": "python",
   "pygments_lexer": "ipython3",
   "version": "3.11.9"
  }
 },
 "nbformat": 4,
 "nbformat_minor": 5
}
