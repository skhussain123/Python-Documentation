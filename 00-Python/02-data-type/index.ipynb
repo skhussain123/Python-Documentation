{
 "cells": [
  {
   "cell_type": "markdown",
   "id": "7c3c1ec0",
   "metadata": {},
   "source": [
    "### 1: Python Data Types"
   ]
  },
  {
   "cell_type": "markdown",
   "id": "42a37a28",
   "metadata": {},
   "source": [
    "Data types determine the type of value a variable can hold and the operations that can be performed on it. They define the format, structure, size, range, and behavior of data, controlling how it's stored and used in a program. This helps ensure data is used correctly and efficiently."
   ]
  },
  {
   "cell_type": "code",
   "execution_count": 73,
   "id": "430dd6f6",
   "metadata": {},
   "outputs": [
    {
     "data": {
      "image/webp": "[encoded data removed]",
      "text/plain": [
       "<IPython.core.display.Image object>"
      ]
     },
     "execution_count": 73,
     "metadata": {},
     "output_type": "execute_result"
    }
   ],
   "source": [
    "from IPython.display import Image\n",
    "\n",
    "# Display an image from your local directory\n",
    "Image(filename='download.webp')\n"
   ]
  },
  {
   "cell_type": "markdown",
   "id": "9e8cf116",
   "metadata": {},
   "source": [
    "### Mutable vs Immutable Data type in python"
   ]
  },
  {
   "cell_type": "markdown",
   "id": "677d38e9",
   "metadata": {},
   "source": [
    "**Mutable Data Type**"
   ]
  },
  {
   "cell_type": "markdown",
   "id": "99e27a7f",
   "metadata": {},
   "source": [
    "* List\n",
    "* Dict\n",
    "* Set\n",
    "* Bytearray"
   ]
  },
  {
   "cell_type": "markdown",
   "id": "bc50d864",
   "metadata": {},
   "source": [
    "**Immutable Data Types**"
   ]
  },
  {
   "cell_type": "markdown",
   "id": "458ff7ab",
   "metadata": {},
   "source": [
    "* Int\n",
    "* Float\n",
    "* Bool\n",
    "* Str\n",
    "* Tuple\n",
    "* Frozenset\n",
    "* Bytes set\n",
    "* NoneType"
   ]
  },
  {
   "cell_type": "markdown",
   "id": "6faaf973",
   "metadata": {},
   "source": [
    "#### Immutable objects"
   ]
  },
  {
   "cell_type": "markdown",
   "id": "660b53ff",
   "metadata": {},
   "source": [
    "* Jab aap immutable object banate ho, Python usay memory mein ek fixed address par store\n",
    "karta hai.\n",
    "* Agar aap us value ko change karne ki koshish karte ho, toh naya object ban jaata hai, aur nayi\n",
    "memory location assign hoti hai."
   ]
  },
  {
   "cell_type": "code",
   "execution_count": null,
   "id": "ec6bb464",
   "metadata": {},
   "outputs": [],
   "source": [
    "a = 5\n",
    "print(id(a)) # Let's say → 1001\n",
    "a = a + 1 # New value\n",
    "print(id(a)) # Now → 1002 (Different memory location)\n",
    "\n",
    "\n",
    "# • a = 5 → Memory address: 1001\n",
    "# • a = a + 1 → Python ne naya 6 object create kiya at 1002. a ab 1002 ko point karta hai.\n",
    "# • Old 5 ab garbage collector handle karega (agar use mein nahi hai)."
   ]
  },
  {
   "cell_type": "markdown",
   "id": "cefd2ab7",
   "metadata": {},
   "source": [
    "#### Mutable Objects"
   ]
  },
  {
   "cell_type": "markdown",
   "id": "4f01a137",
   "metadata": {},
   "source": [
    "* Jab aap mutable object banate ho, usay ek address milta hai.\n",
    "* Jab aap uski value change karte ho (add/remove/update), wohi memory location rehti hai, sirf\n",
    "content change hota hai."
   ]
  },
  {
   "cell_type": "code",
   "execution_count": null,
   "id": "28c3876a",
   "metadata": {},
   "outputs": [],
   "source": [
    "my_list = [1, 2, 3]\n",
    "print(id(my_list)) # Suppose → 2001\n",
    "my_list.append(4)\n",
    "print(id(my_list)) # Still → 2001 (Same address)\n",
    "\n",
    "# my_list ban gaya at address 2001\n",
    "# • Jab .append(4) kiya, toh content update hua, address change nahi hua"
   ]
  },
  {
   "cell_type": "markdown",
   "id": "8b502076",
   "metadata": {},
   "source": [
    "#### 1. **Numeric Types**"
   ]
  },
  {
   "cell_type": "markdown",
   "id": "1e8a6484",
   "metadata": {},
   "source": [
    "Python has three main numeric types:"
   ]
  },
  {
   "cell_type": "markdown",
   "id": "26d97481",
   "metadata": {},
   "source": [
    "##### a. **Integer (int)**"
   ]
  },
  {
   "cell_type": "markdown",
   "id": "4ff84a14",
   "metadata": {},
   "source": [
    "Whole numbers, positive or negative, without decimals."
   ]
  },
  {
   "cell_type": "code",
   "execution_count": 4,
   "id": "f6c55d47",
   "metadata": {},
   "outputs": [
    {
     "name": "stdout",
     "output_type": "stream",
     "text": [
      "<class 'int'>  num_int =  42\n"
     ]
    }
   ],
   "source": [
    "num_int: int = 42\n",
    "\n",
    "print(type(num_int),\" num_int = \",num_int,)  # <class 'int'>"
   ]
  },
  {
   "cell_type": "markdown",
   "id": "01ed6714",
   "metadata": {},
   "source": [
    "##### b. **Floating-Point (float)**"
   ]
  },
  {
   "cell_type": "markdown",
   "id": "a435decf",
   "metadata": {},
   "source": [
    "Numbers with decimal points."
   ]
  },
  {
   "cell_type": "code",
   "execution_count": 5,
   "id": "147875ea",
   "metadata": {},
   "outputs": [
    {
     "name": "stdout",
     "output_type": "stream",
     "text": [
      "<class 'float'>  num_float =  3.14\n"
     ]
    }
   ],
   "source": [
    "num_float: float = 3.14\n",
    "#num_float: float = .14\n",
    "\n",
    "print(type(num_float), \" num_float = \", num_float)  # <class 'float'>"
   ]
  },
  {
   "cell_type": "markdown",
   "id": "663be504",
   "metadata": {},
   "source": [
    "##### c. **Complex (complex)**"
   ]
  },
  {
   "cell_type": "markdown",
   "id": "702ea476",
   "metadata": {},
   "source": [
    "Numbers with a real and imaginary part"
   ]
  },
  {
   "cell_type": "code",
   "execution_count": 6,
   "id": "d93c99a8",
   "metadata": {},
   "outputs": [
    {
     "name": "stdout",
     "output_type": "stream",
     "text": [
      "<class 'complex'>  num_complex =  (2+3j)\n"
     ]
    }
   ],
   "source": [
    "num_complex: complex = 2 + 3j\n",
    "\n",
    "print(type(num_complex), \" num_complex = \", num_complex)  # <class 'complex'>"
   ]
  },
  {
   "cell_type": "markdown",
   "id": "ce5730d6",
   "metadata": {},
   "source": [
    "Complex numbers ka use un scenarios mein hota hai jahan real aur imaginary components ki zarurat hoti hai. Ye kuch common reasons hain jinke liye complex numbers use hote hain:\n",
    "\n",
    "1. Electrical Engineering: Complex numbers AC circuits mein use hote hain, jahan voltage aur current ki magnitude aur phase ko represent karna hota hai.\n",
    "\n",
    "2. Signal Processing: Complex numbers signals ko frequency domain mein represent karte hain, jaise Fourier Transform.\n",
    "\n",
    "3. Quantum Mechanics: Physics mein complex numbers ka use wave functions aur quantum states ko represent karne ke liye hota hai.\n",
    "\n",
    "4. Control Systems: Complex numbers stability aur dynamic systems ko analyze karte hain, jahan system ka behavior complex hota hai.\n",
    "\n",
    "5. Mathematics: Complex numbers solutions provide karte hain jab real solutions exist nahi karte (jaise quadratic equations mein)."
   ]
  },
  {
   "cell_type": "markdown",
   "id": "f888b7eb",
   "metadata": {},
   "source": [
    "### 3. **Sequence**"
   ]
  },
  {
   "cell_type": "markdown",
   "id": "61c5fd23",
   "metadata": {},
   "source": [
    "##### a. **String (str)**"
   ]
  },
  {
   "cell_type": "code",
   "execution_count": 7,
   "id": "c7853add",
   "metadata": {},
   "outputs": [
    {
     "name": "stdout",
     "output_type": "stream",
     "text": [
      "hussain\n"
     ]
    }
   ],
   "source": [
    "data: str = \"hussain\"\n",
    "print(data)"
   ]
  },
  {
   "cell_type": "markdown",
   "id": "c1654c71",
   "metadata": {},
   "source": [
    "A sequence of characters enclosed in quotes."
   ]
  },
  {
   "cell_type": "code",
   "execution_count": 8,
   "id": "f72b6e8e",
   "metadata": {},
   "outputs": [
    {
     "name": "stdout",
     "output_type": "stream",
     "text": [
      "<class 'str'>  text_double   =  Hello, Python!\n",
      "<class 'str'>  text_single   =  Hello, Python!\n",
      "<class 'str'>  text_multi    =  Hello, Python!\n",
      "<class 'str'>  text_multi_1  =  Hello, Python!\n"
     ]
    }
   ],
   "source": [
    "text_double: str  = \"Hello, Python!\" # Strings with Double Quotes (\")\n",
    "text_single: str  = 'Hello, Python!' # Strings with Single Quotes (')\n",
    "text_multi: str   = '''Hello, Python!''' # Multi-Line Strings with Triple Quotes (''' or \"\"\")\n",
    "text_multi_1: str = \"\"\"Hello, Python!\"\"\" # Multi-Line Strings with Triple Quotes (''' or \"\"\")\n",
    "\n",
    "print(type(text_double), \" text_double   = \", text_double)    # <class 'str'>\n",
    "print(type(text_single), \" text_single   = \", text_single)    # <class 'str'>\n",
    "print(type(text_multi), \" text_multi    = \", text_multi)      # <class 'str'>\n",
    "print(type(text_multi_1), \" text_multi_1  = \", text_multi_1)  # <class 'str'>"
   ]
  },
  {
   "cell_type": "markdown",
   "id": "86d7979a",
   "metadata": {},
   "source": [
    "* Double Quotes (\"): Use when the string contains single quotes.\n",
    "* Single Quotes ('): Use when the string contains double quotes.\n",
    "* Triple Quotes (''' or \"\"\"): Use for multi-line strings or docstrings."
   ]
  },
  {
   "cell_type": "markdown",
   "id": "a2b4ce27",
   "metadata": {},
   "source": [
    "#### b. **List (list)**\n",
    "Lists are used to store multiple items in a single variable."
   ]
  },
  {
   "cell_type": "markdown",
   "id": "adb5d487",
   "metadata": {},
   "source": [
    "* List is a mutable data type.\n",
    "* List is an unordered data type.\n",
    "* List allows duplication of elements.\n"
   ]
  },
  {
   "cell_type": "code",
   "execution_count": 4,
   "id": "0b4f2eff",
   "metadata": {},
   "outputs": [
    {
     "name": "stdout",
     "output_type": "stream",
     "text": [
      "['python', 'C#', 'javascript', 'Java']\n"
     ]
    }
   ],
   "source": [
    "                          \n",
    "            #         0      1       2           3\n",
    "my_list_1: int = ['python', 'C#', 'javascript', \"Java\"] \n",
    "            #         -4     -3        -2         -1\n",
    "print(my_list_1)\n",
    "\n",
    "my_list_2: int = [1, 2, 3, \"Java\", 3.14, True]  # to Allow Different data types in list"
   ]
  },
  {
   "cell_type": "markdown",
   "id": "5967d8f3",
   "metadata": {},
   "source": [
    "#### **1: List Slicing**"
   ]
  },
  {
   "cell_type": "markdown",
   "id": "d2ada217",
   "metadata": {},
   "source": [
    "* fetch single element calling index number"
   ]
  },
  {
   "cell_type": "code",
   "execution_count": 5,
   "id": "1543615b",
   "metadata": {},
   "outputs": [
    {
     "name": "stdout",
     "output_type": "stream",
     "text": [
      "python\n"
     ]
    }
   ],
   "source": [
    "my_list_1: int = ['python', 'C#', 'javascript', \"Java\"] \n",
    "            #         -4     -3        -2         -1\n",
    "print(my_list_1[0])"
   ]
  },
  {
   "cell_type": "markdown",
   "id": "224258d0",
   "metadata": {},
   "source": [
    "* fetch rang element calling index number **(start:end:step)**"
   ]
  },
  {
   "cell_type": "code",
   "execution_count": null,
   "id": "b959fc9d",
   "metadata": {},
   "outputs": [],
   "source": [
    "# using positive index\n",
    "            #        0       1         2          3\n",
    "my_list_1: list[str] = ['python', 'C#', 'javascript', \"Java\"] # Negitive index me left to right chly ha yani 0 sy 4\n",
    "            #         -4     -3        -2         -1\n",
    "print(my_list_1[0:4])\n",
    "\n",
    "\n",
    "# using Negitive index\n",
    "            #        0       1         2          3\n",
    "my_list_2: int = ['python', 'C#', 'javascript', \"Java\"] # Negitive index me left to right chly ha yani -4 sy -1\n",
    "            #         -4     -3        -2         -1\n",
    "print(my_list_2[-3:-1]) \n",
    "\n",
    "\n",
    "# using Negitive index\n",
    "my_list_3: int = ['python', 'C#', 'javascript', \"Java\"] \n",
    "            #         -4     -3        -2         -1\n",
    "print(my_list_3[-1:-3:-1]) \n",
    "        "
   ]
  },
  {
   "cell_type": "markdown",
   "id": "ed3c58e6",
   "metadata": {},
   "source": [
    "#### **2: List Methods**"
   ]
  },
  {
   "cell_type": "code",
   "execution_count": 15,
   "id": "9918a8c3",
   "metadata": {},
   "outputs": [
    {
     "data": {
      "text/plain": [
       "['append',\n",
       " 'clear',\n",
       " 'copy',\n",
       " 'count',\n",
       " 'extend',\n",
       " 'index',\n",
       " 'insert',\n",
       " 'pop',\n",
       " 'remove',\n",
       " 'reverse',\n",
       " 'sort']"
      ]
     },
     "execution_count": 15,
     "metadata": {},
     "output_type": "execute_result"
    }
   ],
   "source": [
    "[i for i in dir(list) if \"__\" not in i]"
   ]
  },
  {
   "cell_type": "markdown",
   "id": "a7db2646",
   "metadata": {},
   "source": [
    " **1. Append()**"
   ]
  },
  {
   "cell_type": "markdown",
   "id": "a5bcb997",
   "metadata": {},
   "source": [
    "Add new element in last index"
   ]
  },
  {
   "cell_type": "code",
   "execution_count": null,
   "id": "5c5435a3",
   "metadata": {},
   "outputs": [],
   "source": [
    "my_list : list[str] = ['hussain', 'yasir', 'Ali', 'Zubair']\n",
    "my_list.append('junaid')\n",
    "\n",
    "print(my_list)"
   ]
  },
  {
   "cell_type": "markdown",
   "id": "f5fe5e05",
   "metadata": {},
   "source": [
    " **2. pop()**\n",
    "\n",
    " \tRemoves and returns the element at the specified index (or last element)"
   ]
  },
  {
   "cell_type": "code",
   "execution_count": null,
   "id": "340dbe8c",
   "metadata": {},
   "outputs": [],
   "source": [
    "my_list : list[str] = ['hussain', 'yasir', 'Ali', 'Zubair']\n",
    "\n",
    "my_list.pop() # Default last index\n",
    "my_list.pop(1) # specific index\n",
    "\n",
    "print(my_list)"
   ]
  },
  {
   "cell_type": "markdown",
   "id": "e3f2f64d",
   "metadata": {},
   "source": [
    " **3. clear()**\n",
    "\n",
    "Removes all elements from the list.and return blank list"
   ]
  },
  {
   "cell_type": "code",
   "execution_count": null,
   "id": "ddc82d26",
   "metadata": {},
   "outputs": [],
   "source": [
    "my_list : list[str] = ['hussain', 'yasir', 'Ali', 'Zubair']\n",
    "\n",
    "my_list.clear() # Clear list\n",
    "\n",
    "print(my_list)"
   ]
  },
  {
   "cell_type": "markdown",
   "id": "f2b7810b",
   "metadata": {},
   "source": [
    " **4. count()**\n",
    "\n",
    "Counts how many times a specific element appears"
   ]
  },
  {
   "cell_type": "code",
   "execution_count": null,
   "id": "2f7a9cbd",
   "metadata": {},
   "outputs": [],
   "source": [
    "my_list = [1, 2, 2, 3, 2]\n",
    "print(my_list.count(2))  # Output: 3\n"
   ]
  },
  {
   "cell_type": "markdown",
   "id": "3105d8ec",
   "metadata": {},
   "source": [
    " **5. extend()**\n",
    "\n",
    "Adds all elements from another list (or iterable) to the end of the current list."
   ]
  },
  {
   "cell_type": "code",
   "execution_count": null,
   "id": "51ecb344",
   "metadata": {},
   "outputs": [],
   "source": [
    "my_list = [1, 2, 3]\n",
    "my_list.extend([4, 5])\n",
    "print(my_list)  # Output: [1, 2, 3, 4, 5]\n"
   ]
  },
  {
   "cell_type": "markdown",
   "id": "2ab6aba5",
   "metadata": {},
   "source": [
    " **6. index()**\n",
    "\n",
    "Returns the index of the first occurrence of a specified element."
   ]
  },
  {
   "cell_type": "code",
   "execution_count": null,
   "id": "0e0317db",
   "metadata": {},
   "outputs": [],
   "source": [
    "my_list = ['a', 'b', 'c']\n",
    "print(my_list.index('b'))  # Output: 1\n"
   ]
  },
  {
   "cell_type": "markdown",
   "id": "20f97b1f",
   "metadata": {},
   "source": [
    " **7. insert()**\n",
    "\n",
    "Inserts an element at a specific index in the list."
   ]
  },
  {
   "cell_type": "code",
   "execution_count": null,
   "id": "776c8e9e",
   "metadata": {},
   "outputs": [],
   "source": [
    "my_list = [1, 2, 4]\n",
    "my_list.insert(2, 3)  # Insert 3 at index 2\n",
    "print(my_list)  # Output: [1, 2, 3, 4]\n"
   ]
  },
  {
   "cell_type": "markdown",
   "id": "939acd7a",
   "metadata": {},
   "source": [
    " **8. remove()**\n",
    "\n",
    "Removes the first occurrence of a specific value from the list."
   ]
  },
  {
   "cell_type": "code",
   "execution_count": null,
   "id": "beddf3f2",
   "metadata": {},
   "outputs": [],
   "source": [
    "my_list = [1, 2, 3, 2]\n",
    "my_list.remove(2)  # Removes the first 2\n",
    "print(my_list)  # Output: [1, 3, 2]\n"
   ]
  },
  {
   "cell_type": "markdown",
   "id": "1c93b6f1",
   "metadata": {},
   "source": [
    " **9. reverse()**\n",
    "\n",
    "Reverses the order of elements in the list."
   ]
  },
  {
   "cell_type": "code",
   "execution_count": null,
   "id": "35ef49cf",
   "metadata": {},
   "outputs": [],
   "source": [
    "my_list = [1, 2, 3]\n",
    "my_list.reverse()\n",
    "print(my_list)  # Output: [3, 2, 1]\n"
   ]
  },
  {
   "cell_type": "markdown",
   "id": "54daf4f8",
   "metadata": {},
   "source": [
    " **10. sort()**\n",
    "\n",
    " Sorts the list in ascending order (by default). You can also specify descending order."
   ]
  },
  {
   "cell_type": "code",
   "execution_count": null,
   "id": "df94335b",
   "metadata": {},
   "outputs": [],
   "source": [
    "my_list = [3, 1, 2]\n",
    "my_list.sort()\n",
    "print(my_list)  # Output: [1, 2, 3]\n",
    "\n",
    "# For descending order:\n",
    "my_list.sort(reverse=True)\n",
    "print(my_list)  # Output: [3, 2, 1]\n"
   ]
  },
  {
   "cell_type": "markdown",
   "id": "02dad3af",
   "metadata": {},
   "source": [
    " **11. copy()**\n",
    "\n",
    " Creates a shallow copy (duplicate) of the list."
   ]
  },
  {
   "cell_type": "code",
   "execution_count": null,
   "id": "fcc7f34a",
   "metadata": {},
   "outputs": [],
   "source": [
    "my_list = [1, 2, 3]\n",
    "new_list = my_list.copy()\n",
    "print(new_list)  # Output: [1, 2, 3]\n"
   ]
  },
  {
   "cell_type": "markdown",
   "id": "13f97ac2",
   "metadata": {},
   "source": [
    "#### c. **Tuple (Tuple)**\n",
    "Tuples are used to store multiple items in a single variable."
   ]
  },
  {
   "cell_type": "markdown",
   "id": "ccdf846d",
   "metadata": {},
   "source": [
    "* Tuples do Immutable.\n",
    "* Tuples do allow duplicates.\n",
    "* Tuples Ordered"
   ]
  },
  {
   "cell_type": "code",
   "execution_count": null,
   "id": "52a5963b",
   "metadata": {},
   "outputs": [],
   "source": [
    "my_tuple = ('hussain', 'zain', 'yasir', 'junaid')\n",
    "print(my_tuple[0:2])"
   ]
  },
  {
   "cell_type": "markdown",
   "id": "cc0edbeb",
   "metadata": {},
   "source": [
    "#### **List Methods**"
   ]
  },
  {
   "cell_type": "code",
   "execution_count": null,
   "id": "e776c3a8",
   "metadata": {},
   "outputs": [],
   "source": [
    "[i for i in dir(tuple) if \"__\" not in i]"
   ]
  },
  {
   "cell_type": "markdown",
   "id": "9d4c6af2",
   "metadata": {},
   "source": [
    " **1. count()**\n",
    "\n",
    "The count() method is used to count the number of occurrences of a specific element in the tuple."
   ]
  },
  {
   "cell_type": "code",
   "execution_count": null,
   "id": "efef74ed",
   "metadata": {},
   "outputs": [],
   "source": [
    "my_tuple = (10, 20, 20, 30, 20)\n",
    "count_of_20 = my_tuple.count(20)\n",
    "print(count_of_20)  # Output: 3\n"
   ]
  },
  {
   "cell_type": "markdown",
   "id": "53d8e232",
   "metadata": {},
   "source": [
    " **2. count()**\n",
    "\n",
    "The index() method returns the first index (position) of the first occurrence of the specified element in the tuple."
   ]
  },
  {
   "cell_type": "code",
   "execution_count": null,
   "id": "262f426c",
   "metadata": {},
   "outputs": [],
   "source": [
    "my_tuple = (10, 20, 30, 20, 40)\n",
    "index_of_20 = my_tuple.index(20)\n",
    "print(index_of_20)  # Output: 1"
   ]
  },
  {
   "cell_type": "markdown",
   "id": "2c65568f",
   "metadata": {},
   "source": [
    "#### c. **Rang (rang)**\n",
    "\n",
    "Represents a sequence of numbers."
   ]
  },
  {
   "cell_type": "code",
   "execution_count": null,
   "id": "292fb00f",
   "metadata": {},
   "outputs": [],
   "source": [
    "num_range: range = range(1, 10, 2) # range(start, stop, step)\n",
    "print(type(num_range), \" num_range = \", num_range.step)  # <class 'range'>\n",
    "\n",
    "# rang with loop\n",
    "for i in range(1, 10, 2): # we will study loops indepth in classes ahead\n",
    " print(i)"
   ]
  },
  {
   "cell_type": "markdown",
   "id": "dae05737",
   "metadata": {},
   "source": [
    "### 4. **Mapping**"
   ]
  },
  {
   "cell_type": "markdown",
   "id": "725b87fe",
   "metadata": {},
   "source": [
    "#### **Dictionary** \n",
    "Dictionaries are used to store data values in key:value pairs"
   ]
  },
  {
   "cell_type": "code",
   "execution_count": 42,
   "id": "3e158ad4",
   "metadata": {},
   "outputs": [
    {
     "data": {
      "text/plain": [
       "['clear',\n",
       " 'copy',\n",
       " 'fromkeys',\n",
       " 'get',\n",
       " 'items',\n",
       " 'keys',\n",
       " 'pop',\n",
       " 'popitem',\n",
       " 'setdefault',\n",
       " 'update',\n",
       " 'values']"
      ]
     },
     "execution_count": 42,
     "metadata": {},
     "output_type": "execute_result"
    }
   ],
   "source": [
    "[i for i in dir(dict) if \"__\" not in i]"
   ]
  },
  {
   "cell_type": "markdown",
   "id": "636dca59",
   "metadata": {},
   "source": [
    "* dictionary  is a unordered Collection \n",
    "* not Allow duplicate\n",
    "* Mutable"
   ]
  },
  {
   "cell_type": "code",
   "execution_count": null,
   "id": "96f112da",
   "metadata": {},
   "outputs": [],
   "source": [
    "my_dict1 = {\"name\": \"John\", \"age\": 30, \"city\": \"New York\"}\n",
    "print(my_dict1)  # Output: {'name': 'John', 'age': 30, 'city': 'New York'}"
   ]
  },
  {
   "cell_type": "markdown",
   "id": "8c6ef977",
   "metadata": {},
   "source": [
    "#### **1. pop()**\n",
    "Removes and returns the value for the specified key\n",
    "\n"
   ]
  },
  {
   "cell_type": "code",
   "execution_count": null,
   "id": "2adec4f8",
   "metadata": {},
   "outputs": [],
   "source": [
    "my_dict2 = {\"name\": \"John\", \"age\": 30, \"city\": \"New York\"}\n",
    "my_dict2.pop('name') # if your pop() blank so Error\n",
    "print(my_dict2)"
   ]
  },
  {
   "cell_type": "markdown",
   "id": "cf00ca3e",
   "metadata": {},
   "source": [
    "#### 2. **clear()**\n",
    "Removes all items from the dictionary.\n"
   ]
  },
  {
   "cell_type": "code",
   "execution_count": null,
   "id": "0571bf73",
   "metadata": {},
   "outputs": [],
   "source": [
    "my_dict2 = {\"name\": \"John\", \"age\": 30, \"city\": \"New York\"}\n",
    "my_dict2.clear() # Clear All dict element and return empty dict\n",
    "print(my_dict2)"
   ]
  },
  {
   "cell_type": "markdown",
   "id": "c71a37bd",
   "metadata": {},
   "source": [
    "#### 3. **copy**\n",
    "Returns a shallow copy of the dictionary."
   ]
  },
  {
   "cell_type": "code",
   "execution_count": null,
   "id": "d74933f0",
   "metadata": {},
   "outputs": [],
   "source": [
    "my_dict2 = {\"name\": \"John\", \"age\": 30, \"city\": \"New York\"}\n",
    "\n",
    "copied_dict = my_dict2.copy()\n",
    "print(\"Original dictionary:\", my_dict2)\n",
    "print(\"Copied dictionary:\", copied_dict)"
   ]
  },
  {
   "cell_type": "markdown",
   "id": "ad839080",
   "metadata": {},
   "source": [
    "#### 4. **fromkeys**\n",
    "* fromkeys() ka use tab hota hai jab aapko ek nayi dictionary banani ho jisme aap existing keys ko use karte hain, aur unhe ek default value assign karte hain.\n",
    "\n",
    "* Agar aapko values bhi copy karni ho, to copy() method ka use karein."
   ]
  },
  {
   "cell_type": "code",
   "execution_count": null,
   "id": "6a71f1ac",
   "metadata": {},
   "outputs": [],
   "source": [
    "# Original dictionary\n",
    "original_dict = {\"name\": \"John\", \"age\": 30, \"city\": \"New York\"}\n",
    "\n",
    "# `fromkeys()` ka istemal karke nayi dictionary banayi gayi jisme sab keys ka value 'Unknown' hoga\n",
    "new_dict = dict.fromkeys(original_dict.keys(), 'Unknown')\n",
    "\n",
    "# Nayi dictionary ko print karein\n",
    "print(new_dict)\n"
   ]
  },
  {
   "cell_type": "markdown",
   "id": "2878c260",
   "metadata": {},
   "source": [
    "#### 4. **get**\n",
    "Python mein get() method dictionary ke liye ek bohot useful method hai. Iska use aap tab karte hain jab aap ek dictionary mein kisi specific key ki value ko safe tareeqe se access karna chahte hain. get() method agar key exist karti hai to uski value return karta hai, agar key nahi milti to default value return karta hai (agar aapne specify ki ho)."
   ]
  },
  {
   "cell_type": "code",
   "execution_count": null,
   "id": "4ab9d75e",
   "metadata": {},
   "outputs": [],
   "source": [
    "# Dictionary\n",
    "my_dict = {\"name\": \"John\", \"age\": 30, \"city\": \"New York\"}\n",
    "\n",
    "# 'age' key ki value get karna\n",
    "age = my_dict.get(\"age\")\n",
    "\n",
    "# Output print karna\n",
    "print(age)\n"
   ]
  },
  {
   "cell_type": "markdown",
   "id": "3b04fa51",
   "metadata": {},
   "source": [
    "#### 5. **items**\n",
    "The items() method in Python is used with dictionaries to return a view object that displays a list of a dictionary's key-value pairs as tuples. This is useful when you want to iterate through both keys and values at the same time."
   ]
  },
  {
   "cell_type": "code",
   "execution_count": null,
   "id": "18cbc1fa",
   "metadata": {},
   "outputs": [],
   "source": [
    "# Dictionary\n",
    "my_dict = {\"name\": \"John\", \"age\": 30, \"city\": \"New York\"}\n",
    "\n",
    "# Using items() to get key-value pairs\n",
    "items = my_dict.items()\n",
    "\n",
    "# Output the items\n",
    "print(items)\n"
   ]
  },
  {
   "cell_type": "markdown",
   "id": "dabe3c8f",
   "metadata": {},
   "source": [
    "#### 6. **keys**\n",
    "The keys() method in Python is used with dictionaries to return a view object that displays all the keys in the dictionary. This is useful when you want to access just the keys of a dictionary without worrying about the associated values."
   ]
  },
  {
   "cell_type": "code",
   "execution_count": null,
   "id": "aa519db1",
   "metadata": {},
   "outputs": [],
   "source": [
    "# Dictionary\n",
    "my_dict = {\"name\": \"John\", \"age\": 30, \"city\": \"New York\"}\n",
    "\n",
    "# Using keys() to get dictionary keys\n",
    "keys = my_dict.keys()\n",
    "\n",
    "# Output the keys\n",
    "print(keys)\n"
   ]
  },
  {
   "cell_type": "markdown",
   "id": "f4236df7",
   "metadata": {},
   "source": [
    "#### 7. **popitem**\n",
    "The popitem() method in Python is used with dictionaries to remove and return the last key-value pair from the dictionary. This method is particularly useful when you need to remove an item and also need to know what was removed."
   ]
  },
  {
   "cell_type": "code",
   "execution_count": null,
   "id": "cf79857d",
   "metadata": {},
   "outputs": [],
   "source": [
    "# Dictionary\n",
    "my_dict = {\"name\": \"John\", \"age\": 30, \"city\": \"New York\"}\n",
    "\n",
    "# Remove and return the last key-value pair\n",
    "removed_item = my_dict.popitem()\n",
    "\n",
    "# Output the removed item and the updated dictionary\n",
    "print(f\"Removed Item: {removed_item}\")\n",
    "print(f\"Updated Dictionary: {my_dict}\")\n",
    "\n",
    "# output\n",
    "# Removed Item: ('city', 'New York')\n",
    "# Updated Dictionary: {'name': 'John', 'age': 30}\n",
    "\n"
   ]
  },
  {
   "cell_type": "markdown",
   "id": "4e891f9e",
   "metadata": {},
   "source": [
    "#### 8. **setdefault**\n",
    "The setdefault() method in Python is used with dictionaries to retrieve the value for a given key if it exists, and if it doesn't exist, it will insert the key with a specified default value."
   ]
  },
  {
   "cell_type": "code",
   "execution_count": null,
   "id": "834e00be",
   "metadata": {},
   "outputs": [],
   "source": [
    "# Dictionary\n",
    "my_dict = {\"name\": \"John\", \"age\": 30, \"city\": \"New York\"}\n",
    "\n",
    "# Using setdefault() to get the value for 'age'\n",
    "age = my_dict.setdefault(\"age\", 25)\n",
    "\n",
    "# Output the result\n",
    "print(f\"Value of 'age': {age}\")\n",
    "print(f\"Updated Dictionary: {my_dict}\")\n",
    "\n",
    "# output\n",
    "# Value of 'age': 30\n",
    "# Updated Dictionary: {'name': 'John', 'age': 30, 'city': 'New York'}"
   ]
  },
  {
   "cell_type": "markdown",
   "id": "abb83b68",
   "metadata": {},
   "source": [
    "#### 9. **update**\n",
    "The update() method in Python is used with dictionaries to update the dictionary with elements from another dictionary or from an iterable of key-value pairs. It allows you to add new key-value pairs or update the values of existing keys in the dictionary."
   ]
  },
  {
   "cell_type": "code",
   "execution_count": null,
   "id": "55339071",
   "metadata": {},
   "outputs": [],
   "source": [
    "# Original dictionary\n",
    "my_dict = {\"name\": \"John\", \"age\": 30, \"city\": \"New York\"}\n",
    "\n",
    "# Dictionary to update with\n",
    "update_dict = {\"age\": 35, \"city\": \"Los Angeles\", \"gender\": \"Male\"}\n",
    "\n",
    "# Updating the original dictionary\n",
    "my_dict.update(update_dict)\n",
    "\n",
    "# Output the updated dictionary\n",
    "print(my_dict)"
   ]
  },
  {
   "cell_type": "markdown",
   "id": "a5bc5e9f",
   "metadata": {},
   "source": [
    "#### 10. **values**\n",
    "The values() method in Python is used with dictionaries to return a view object that displays a list of all the values in the dictionary. The values are returned in the order they were inserted into the dictionary (in Python 3.7 and later, the insertion order is guaranteed)."
   ]
  },
  {
   "cell_type": "code",
   "execution_count": null,
   "id": "ce06e6f7",
   "metadata": {},
   "outputs": [],
   "source": [
    "# Dictionary\n",
    "my_dict = {\"name\": \"John\", \"age\": 30, \"city\": \"New York\"}\n",
    "\n",
    "# Get all the values from the dictionary\n",
    "values = my_dict.values()\n",
    "\n",
    "# Output the result\n",
    "print(values)"
   ]
  },
  {
   "cell_type": "markdown",
   "id": "63bd6617",
   "metadata": {},
   "source": [
    "### 4. **Sets**\n",
    " #### a. **Set**\n",
    " Sets are used to store multiple items in a single variable.\n",
    "* Creating a set using curly braces\n",
    "* set is a collection of unordered and unique elements\n",
    "* sets are unordered\n",
    "* Mutable"
   ]
  },
  {
   "cell_type": "code",
   "execution_count": 64,
   "id": "4cf35a1f",
   "metadata": {},
   "outputs": [
    {
     "data": {
      "text/plain": [
       "['add',\n",
       " 'clear',\n",
       " 'copy',\n",
       " 'difference',\n",
       " 'difference_update',\n",
       " 'discard',\n",
       " 'intersection',\n",
       " 'intersection_update',\n",
       " 'isdisjoint',\n",
       " 'issubset',\n",
       " 'issuperset',\n",
       " 'pop',\n",
       " 'remove',\n",
       " 'symmetric_difference',\n",
       " 'symmetric_difference_update',\n",
       " 'union',\n",
       " 'update']"
      ]
     },
     "execution_count": 64,
     "metadata": {},
     "output_type": "execute_result"
    }
   ],
   "source": [
    "[i for i in dir(set) if \"__\" not in i]"
   ]
  },
  {
   "cell_type": "code",
   "execution_count": 65,
   "id": "05c8ef0b",
   "metadata": {},
   "outputs": [
    {
     "name": "stdout",
     "output_type": "stream",
     "text": [
      "<class 'set'> my_set =  {1, 2, 33, 4, 5}\n"
     ]
    }
   ],
   "source": [
    "my_set: set[set] = {1, 2, 33, 4, 4, 5}\n",
    "print(type(my_set), \"my_set = \", my_set)  # <class 'set'>"
   ]
  },
  {
   "cell_type": "markdown",
   "id": "a8bd879d",
   "metadata": {},
   "source": [
    "#### **1. add()**"
   ]
  },
  {
   "cell_type": "code",
   "execution_count": null,
   "id": "d0bf21a3",
   "metadata": {},
   "outputs": [],
   "source": [
    "my_set = {1, 2, 3}\n",
    "my_set.add(4)\n",
    "print(my_set)  # Output: {1, 2, 3, 4}"
   ]
  },
  {
   "cell_type": "markdown",
   "id": "d39efb7d",
   "metadata": {},
   "source": [
    "#### **2. clear()**\n",
    "* Removes all elements from the set, leaving an empty set."
   ]
  },
  {
   "cell_type": "code",
   "execution_count": null,
   "id": "60c70526",
   "metadata": {},
   "outputs": [],
   "source": [
    "my_set = {1, 2, 3}\n",
    "my_set.clear()\n",
    "print(my_set)  # Output: set()"
   ]
  },
  {
   "cell_type": "markdown",
   "id": "67b8fbe5",
   "metadata": {},
   "source": [
    "#### **3. copy()**\n",
    "* Returns a shallow copy of the set."
   ]
  },
  {
   "cell_type": "code",
   "execution_count": null,
   "id": "fa47a365",
   "metadata": {},
   "outputs": [],
   "source": [
    "my_set = {1, 2, 3}\n",
    "new_set = my_set.copy()\n",
    "print(new_set)  # Output: {1, 2, 3}"
   ]
  },
  {
   "cell_type": "markdown",
   "id": "8f5c5f83",
   "metadata": {},
   "source": [
    "#### **4. difference()**\n",
    "* Returns a new set with elements that are in the first set but not in the second set."
   ]
  },
  {
   "cell_type": "code",
   "execution_count": null,
   "id": "72aa4d66",
   "metadata": {},
   "outputs": [],
   "source": [
    "set1 = {1, 2, 3, 4}\n",
    "set2 = {3, 4, 5, 6}\n",
    "diff = set1.difference(set2)\n",
    "print(diff)  # Output: {1, 2}"
   ]
  },
  {
   "cell_type": "markdown",
   "id": "df1b7d22",
   "metadata": {},
   "source": [
    "#### **5. difference_update()**\n",
    "* Removes elements from the set that are present in another set (updates the set in place)."
   ]
  },
  {
   "cell_type": "code",
   "execution_count": null,
   "id": "e35c4e3b",
   "metadata": {},
   "outputs": [],
   "source": [
    "set1 = {1, 2, 3, 4}\n",
    "set2 = {3, 4, 5, 6}\n",
    "set1.difference_update(set2)\n",
    "print(set1)  # Output: {1, 2}"
   ]
  },
  {
   "cell_type": "markdown",
   "id": "a956e44a",
   "metadata": {},
   "source": [
    "#### **6. discard()**\n",
    "* Removes an element from the set if it exists. If the element does not exist, no error is raised."
   ]
  },
  {
   "cell_type": "code",
   "execution_count": null,
   "id": "88b9b936",
   "metadata": {},
   "outputs": [],
   "source": [
    "my_set = {1, 2, 3}\n",
    "my_set.discard(2)\n",
    "print(my_set)  # Output: {1, 3}\n",
    "\n",
    "# Discarding an element that doesn't exist (no error)\n",
    "my_set.discard(5)\n",
    "print(my_set)  # Output: {1, 3}"
   ]
  },
  {
   "cell_type": "markdown",
   "id": "c2ce2eb3",
   "metadata": {},
   "source": [
    "#### **7. intersection()**\n",
    "* Returns a new set with elements that are common to both sets."
   ]
  },
  {
   "cell_type": "code",
   "execution_count": null,
   "id": "be1cdb00",
   "metadata": {},
   "outputs": [],
   "source": [
    "set1 = {1, 2, 3}\n",
    "set2 = {2, 3, 4}\n",
    "common_elements = set1.intersection(set2)\n",
    "print(common_elements)  # Output: {2, 3}"
   ]
  },
  {
   "cell_type": "markdown",
   "id": "4c0a4bac",
   "metadata": {},
   "source": [
    "#### **8. intersection_update()**\n",
    "* Updates the set with the intersection of itself and another set (modifies the set in place)."
   ]
  },
  {
   "cell_type": "code",
   "execution_count": null,
   "id": "7f58cc66",
   "metadata": {},
   "outputs": [],
   "source": [
    "set1 = {1, 2, 3}\n",
    "set2 = {2, 3, 4}\n",
    "set1.intersection_update(set2)\n",
    "print(set1)  # Output: {2, 3}"
   ]
  },
  {
   "cell_type": "markdown",
   "id": "ea0e9ed4",
   "metadata": {},
   "source": [
    "#### **9. isdisjoint()**\n",
    "* Returns True if there are no common elements between the two sets (i.e., the sets are disjoint)."
   ]
  },
  {
   "cell_type": "code",
   "execution_count": null,
   "id": "d30e63e3",
   "metadata": {},
   "outputs": [],
   "source": [
    "set1 = {1, 2, 3}\n",
    "set2 = {4, 5, 6}\n",
    "result = set1.isdisjoint(set2)\n",
    "print(result)  # Output: True\n",
    "\n",
    "set3 = {2, 3}\n",
    "result = set1.isdisjoint(set3)\n",
    "print(result)  # Output: False\n"
   ]
  },
  {
   "cell_type": "markdown",
   "id": "c8b7d130",
   "metadata": {},
   "source": [
    "#### **10. issubset()**\n",
    "* Returns True if all elements of the set are contained within another set."
   ]
  },
  {
   "cell_type": "code",
   "execution_count": null,
   "id": "f484e26f",
   "metadata": {},
   "outputs": [],
   "source": [
    "set1 = {1, 2}\n",
    "set2 = {1, 2, 3, 4}\n",
    "result = set1.issubset(set2)\n",
    "print(result)  # Output: True\n",
    "\n",
    "set3 = {1, 5}\n",
    "result = set3.issubset(set2)\n",
    "print(result)  # Output: False\n"
   ]
  },
  {
   "cell_type": "markdown",
   "id": "2d201e1a",
   "metadata": {},
   "source": [
    "#### **11. issuperset()**\n",
    "* Returns True if the set contains all elements of another set."
   ]
  },
  {
   "cell_type": "code",
   "execution_count": null,
   "id": "16ff9ad4",
   "metadata": {},
   "outputs": [],
   "source": [
    "set1 = {1, 2, 3, 4}\n",
    "set2 = {1, 2}\n",
    "result = set1.issuperset(set2)\n",
    "print(result)  # Output: True\n",
    "\n",
    "set3 = {5, 6}\n",
    "result = set1.issuperset(set3)\n",
    "print(result)  # Output: False\n"
   ]
  },
  {
   "cell_type": "markdown",
   "id": "9b9e16bf",
   "metadata": {},
   "source": [
    "#### **12. pop()**\n",
    "* Removes and returns an arbitrary element from the set. Since sets are unordered, you can't specify which element will be removed."
   ]
  },
  {
   "cell_type": "code",
   "execution_count": null,
   "id": "8e88d5af",
   "metadata": {},
   "outputs": [],
   "source": [
    "my_set = {1, 2, 3}\n",
    "removed_element = my_set.pop()\n",
    "print(f\"Removed element: {removed_element}\")\n",
    "print(my_set)  # Output: The set after pop operation, which may be different each time\n"
   ]
  },
  {
   "cell_type": "markdown",
   "id": "499208d5",
   "metadata": {},
   "source": [
    "#### **13. remove()**\n",
    "* Removes a specific element from the set. If the element does not exist, a KeyError will be raised."
   ]
  },
  {
   "cell_type": "code",
   "execution_count": null,
   "id": "1476a6d5",
   "metadata": {},
   "outputs": [],
   "source": [
    "my_set = {1, 2, 3}\n",
    "my_set.remove(2)\n",
    "print(my_set)  # Output: {1, 3}\n",
    "\n",
    "# If the element does not exist, it raises an error:\n",
    "# my_set.remove(5)  # Uncommenting this will raise KeyError\n"
   ]
  },
  {
   "cell_type": "markdown",
   "id": "a9b98714",
   "metadata": {},
   "source": [
    "#### **14. symmetric_difference()**\n",
    "* Returns a new set with elements that are in either of the sets but not in both."
   ]
  },
  {
   "cell_type": "code",
   "execution_count": null,
   "id": "86d580aa",
   "metadata": {},
   "outputs": [],
   "source": [
    "set1 = {1, 2, 3}\n",
    "set2 = {3, 4, 5}\n",
    "sym_diff = set1.symmetric_difference(set2)\n",
    "print(sym_diff)  # Output: {1, 2, 4, 5}"
   ]
  },
  {
   "cell_type": "markdown",
   "id": "474b564c",
   "metadata": {},
   "source": [
    "#### **15. symmetric_difference_update()**\n",
    "* Updates the set with the symmetric difference of itself and another set (modifies the set in place)."
   ]
  },
  {
   "cell_type": "code",
   "execution_count": null,
   "id": "d9aec08c",
   "metadata": {},
   "outputs": [],
   "source": [
    "set1 = {1, 2, 3}\n",
    "set2 = {3, 4, 5}\n",
    "set1.symmetric_difference_update(set2)\n",
    "print(set1)  # Output: {1, 2, 4, 5}"
   ]
  },
  {
   "cell_type": "markdown",
   "id": "694d985a",
   "metadata": {},
   "source": [
    "#### **16. union()**\n",
    "* Returns a new set with elements from both sets, removing duplicates."
   ]
  },
  {
   "cell_type": "code",
   "execution_count": null,
   "id": "c07c58bc",
   "metadata": {},
   "outputs": [],
   "source": [
    "set1 = {1, 2, 3}\n",
    "set2 = {3, 4, 5}\n",
    "union_set = set1.union(set2)\n",
    "print(union_set)  # Output: {1, 2, 3, 4, 5}"
   ]
  },
  {
   "cell_type": "markdown",
   "id": "c546409b",
   "metadata": {},
   "source": [
    "#### **17. update()**\n",
    "* Adds elements from another set or iterable to the set (modifies the set in place)."
   ]
  },
  {
   "cell_type": "code",
   "execution_count": null,
   "id": "381e9ef9",
   "metadata": {},
   "outputs": [],
   "source": [
    "set1 = {1, 2, 3}\n",
    "set2 = {3, 4, 5}\n",
    "set1.update(set2)\n",
    "print(set1)  # Output: {1, 2, 3, 4, 5}\n"
   ]
  },
  {
   "cell_type": "markdown",
   "id": "1706f7bd",
   "metadata": {},
   "source": [
    " #### b. **Frozen Set (frozenset)**\n",
    " In Python, frozensets are similar to regular sets but with one key difference: frozensets are immutable. Once a frozenset is created, it cannot be modified. This means you can't add, remove, or update elements in a frozenset after it has been created."
   ]
  },
  {
   "cell_type": "code",
   "execution_count": 67,
   "id": "7473c118",
   "metadata": {},
   "outputs": [
    {
     "data": {
      "text/plain": [
       "['copy',\n",
       " 'difference',\n",
       " 'intersection',\n",
       " 'isdisjoint',\n",
       " 'issubset',\n",
       " 'issuperset',\n",
       " 'symmetric_difference',\n",
       " 'union']"
      ]
     },
     "execution_count": 67,
     "metadata": {},
     "output_type": "execute_result"
    }
   ],
   "source": [
    "[i for i in dir(frozenset) if \"__\" not in i]"
   ]
  },
  {
   "cell_type": "code",
   "execution_count": 68,
   "id": "9ee379c4",
   "metadata": {},
   "outputs": [
    {
     "name": "stdout",
     "output_type": "stream",
     "text": [
      "<class 'frozenset'>  frozen_set =  frozenset({2, 3, 4, 5, 11})\n"
     ]
    }
   ],
   "source": [
    "frozen_set = frozenset([11, 2, 3, 4, 4, 5])\n",
    "#frozen_set = frozenset(my_set)\n",
    "print(type(frozen_set), \" frozen_set = \", frozen_set)  # <class 'frozenset'>"
   ]
  }
 ],
 "metadata": {
  "kernelspec": {
   "display_name": ".venv",
   "language": "python",
   "name": "python3"
  },
  "language_info": {
   "codemirror_mode": {
    "name": "ipython",
    "version": 3
   },
   "file_extension": ".py",
   "mimetype": "text/x-python",
   "name": "python",
   "nbconvert_exporter": "python",
   "pygments_lexer": "ipython3",
   "version": "3.11.9"
  }
 },
 "nbformat": 4,
 "nbformat_minor": 5
}
