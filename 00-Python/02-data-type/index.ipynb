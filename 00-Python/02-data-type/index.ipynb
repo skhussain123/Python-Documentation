{
 "cells": [
  {
   "cell_type": "markdown",
   "id": "7c3c1ec0",
   "metadata": {},
   "source": [
    "### 1: Python Data Types"
   ]
  },
  {
   "cell_type": "markdown",
   "id": "42a37a28",
   "metadata": {},
   "source": [
    "Data types determine the type of value a variable can hold and the operations that can be performed on it. They define the format, structure, size, range, and behavior of data, controlling how it's stored and used in a program. This helps ensure data is used correctly and efficiently."
   ]
  },
  {
   "cell_type": "markdown",
   "id": "9e8cf116",
   "metadata": {},
   "source": [
    "### Mutable vs Immutable Data type in python"
   ]
  },
  {
   "cell_type": "markdown",
   "id": "677d38e9",
   "metadata": {},
   "source": [
    "**Mutable Data Type**"
   ]
  },
  {
   "cell_type": "markdown",
   "id": "99e27a7f",
   "metadata": {},
   "source": [
    "* List\n",
    "* Dict\n",
    "* Set\n",
    "* Bytearray"
   ]
  },
  {
   "cell_type": "markdown",
   "id": "bc50d864",
   "metadata": {},
   "source": [
    "**Immutable Data Types**"
   ]
  },
  {
   "cell_type": "markdown",
   "id": "458ff7ab",
   "metadata": {},
   "source": [
    "* Int\n",
    "* Float\n",
    "* Bool\n",
    "* Str\n",
    "* Tuple\n",
    "* Frozenset\n",
    "* Bytes set\n",
    "* NoneType"
   ]
  },
  {
   "cell_type": "markdown",
   "id": "6faaf973",
   "metadata": {},
   "source": [
    "#### Immutable objects"
   ]
  },
  {
   "cell_type": "markdown",
   "id": "660b53ff",
   "metadata": {},
   "source": [
    "* Jab aap immutable object banate ho, Python usay memory mein ek fixed address par store\n",
    "karta hai.\n",
    "* Agar aap us value ko change karne ki koshish karte ho, toh naya object ban jaata hai, aur nayi\n",
    "memory location assign hoti hai."
   ]
  },
  {
   "cell_type": "code",
   "execution_count": null,
   "id": "ec6bb464",
   "metadata": {},
   "outputs": [],
   "source": [
    "a = 5\n",
    "print(id(a)) # Let's say → 1001\n",
    "a = a + 1 # New value\n",
    "print(id(a)) # Now → 1002 (Different memory location)\n",
    "\n",
    "\n",
    "# • a = 5 → Memory address: 1001\n",
    "# • a = a + 1 → Python ne naya 6 object create kiya at 1002. a ab 1002 ko point karta hai.\n",
    "# • Old 5 ab garbage collector handle karega (agar use mein nahi hai)."
   ]
  },
  {
   "cell_type": "markdown",
   "id": "cefd2ab7",
   "metadata": {},
   "source": [
    "#### Mutable Objects"
   ]
  },
  {
   "cell_type": "markdown",
   "id": "4f01a137",
   "metadata": {},
   "source": [
    "* Jab aap mutable object banate ho, usay ek address milta hai.\n",
    "* Jab aap uski value change karte ho (add/remove/update), wohi memory location rehti hai, sirf\n",
    "content change hota hai."
   ]
  },
  {
   "cell_type": "code",
   "execution_count": null,
   "id": "28c3876a",
   "metadata": {},
   "outputs": [],
   "source": [
    "my_list = [1, 2, 3]\n",
    "print(id(my_list)) # Suppose → 2001\n",
    "my_list.append(4)\n",
    "print(id(my_list)) # Still → 2001 (Same address)\n",
    "\n",
    "# my_list ban gaya at address 2001\n",
    "# • Jab .append(4) kiya, toh content update hua, address change nahi hua"
   ]
  },
  {
   "cell_type": "markdown",
   "id": "8b502076",
   "metadata": {},
   "source": [
    "#### 1. **Numeric Types**"
   ]
  },
  {
   "cell_type": "markdown",
   "id": "1e8a6484",
   "metadata": {},
   "source": [
    "Python has three main numeric types:"
   ]
  },
  {
   "cell_type": "markdown",
   "id": "26d97481",
   "metadata": {},
   "source": [
    "##### a. **Integer (int)**"
   ]
  },
  {
   "cell_type": "markdown",
   "id": "4ff84a14",
   "metadata": {},
   "source": [
    "Whole numbers, positive or negative, without decimals."
   ]
  },
  {
   "cell_type": "code",
   "execution_count": 4,
   "id": "f6c55d47",
   "metadata": {},
   "outputs": [
    {
     "name": "stdout",
     "output_type": "stream",
     "text": [
      "<class 'int'>  num_int =  42\n"
     ]
    }
   ],
   "source": [
    "num_int: int = 42\n",
    "\n",
    "print(type(num_int),\" num_int = \",num_int,)  # <class 'int'>"
   ]
  },
  {
   "cell_type": "markdown",
   "id": "01ed6714",
   "metadata": {},
   "source": [
    "##### b. **Floating-Point (float)**"
   ]
  },
  {
   "cell_type": "markdown",
   "id": "a435decf",
   "metadata": {},
   "source": [
    "Numbers with decimal points."
   ]
  },
  {
   "cell_type": "code",
   "execution_count": 5,
   "id": "147875ea",
   "metadata": {},
   "outputs": [
    {
     "name": "stdout",
     "output_type": "stream",
     "text": [
      "<class 'float'>  num_float =  3.14\n"
     ]
    }
   ],
   "source": [
    "num_float: float = 3.14\n",
    "#num_float: float = .14\n",
    "\n",
    "print(type(num_float), \" num_float = \", num_float)  # <class 'float'>"
   ]
  },
  {
   "cell_type": "markdown",
   "id": "663be504",
   "metadata": {},
   "source": [
    "##### c. **Complex (complex)**"
   ]
  },
  {
   "cell_type": "markdown",
   "id": "702ea476",
   "metadata": {},
   "source": [
    "Numbers with a real and imaginary part"
   ]
  },
  {
   "cell_type": "code",
   "execution_count": 6,
   "id": "d93c99a8",
   "metadata": {},
   "outputs": [
    {
     "name": "stdout",
     "output_type": "stream",
     "text": [
      "<class 'complex'>  num_complex =  (2+3j)\n"
     ]
    }
   ],
   "source": [
    "num_complex: complex = 2 + 3j\n",
    "\n",
    "print(type(num_complex), \" num_complex = \", num_complex)  # <class 'complex'>"
   ]
  },
  {
   "cell_type": "markdown",
   "id": "ce5730d6",
   "metadata": {},
   "source": [
    "Complex numbers ka use un scenarios mein hota hai jahan real aur imaginary components ki zarurat hoti hai. Ye kuch common reasons hain jinke liye complex numbers use hote hain:\n",
    "\n",
    "1. Electrical Engineering: Complex numbers AC circuits mein use hote hain, jahan voltage aur current ki magnitude aur phase ko represent karna hota hai.\n",
    "\n",
    "2. Signal Processing: Complex numbers signals ko frequency domain mein represent karte hain, jaise Fourier Transform.\n",
    "\n",
    "3. Quantum Mechanics: Physics mein complex numbers ka use wave functions aur quantum states ko represent karne ke liye hota hai.\n",
    "\n",
    "4. Control Systems: Complex numbers stability aur dynamic systems ko analyze karte hain, jahan system ka behavior complex hota hai.\n",
    "\n",
    "5. Mathematics: Complex numbers solutions provide karte hain jab real solutions exist nahi karte (jaise quadratic equations mein)."
   ]
  },
  {
   "cell_type": "markdown",
   "id": "f888b7eb",
   "metadata": {},
   "source": [
    "### 3. **Sequence**"
   ]
  },
  {
   "cell_type": "markdown",
   "id": "61c5fd23",
   "metadata": {},
   "source": [
    "##### a. **String (str)**"
   ]
  },
  {
   "cell_type": "code",
   "execution_count": 7,
   "id": "c7853add",
   "metadata": {},
   "outputs": [
    {
     "name": "stdout",
     "output_type": "stream",
     "text": [
      "hussain\n"
     ]
    }
   ],
   "source": [
    "data: str = \"hussain\"\n",
    "print(data)"
   ]
  },
  {
   "cell_type": "markdown",
   "id": "c1654c71",
   "metadata": {},
   "source": [
    "A sequence of characters enclosed in quotes."
   ]
  },
  {
   "cell_type": "code",
   "execution_count": 8,
   "id": "f72b6e8e",
   "metadata": {},
   "outputs": [
    {
     "name": "stdout",
     "output_type": "stream",
     "text": [
      "<class 'str'>  text_double   =  Hello, Python!\n",
      "<class 'str'>  text_single   =  Hello, Python!\n",
      "<class 'str'>  text_multi    =  Hello, Python!\n",
      "<class 'str'>  text_multi_1  =  Hello, Python!\n"
     ]
    }
   ],
   "source": [
    "text_double: str  = \"Hello, Python!\" # Strings with Double Quotes (\")\n",
    "text_single: str  = 'Hello, Python!' # Strings with Single Quotes (')\n",
    "text_multi: str   = '''Hello, Python!''' # Multi-Line Strings with Triple Quotes (''' or \"\"\")\n",
    "text_multi_1: str = \"\"\"Hello, Python!\"\"\" # Multi-Line Strings with Triple Quotes (''' or \"\"\")\n",
    "\n",
    "print(type(text_double), \" text_double   = \", text_double)    # <class 'str'>\n",
    "print(type(text_single), \" text_single   = \", text_single)    # <class 'str'>\n",
    "print(type(text_multi), \" text_multi    = \", text_multi)      # <class 'str'>\n",
    "print(type(text_multi_1), \" text_multi_1  = \", text_multi_1)  # <class 'str'>"
   ]
  },
  {
   "cell_type": "markdown",
   "id": "86d7979a",
   "metadata": {},
   "source": [
    "* Double Quotes (\"): Use when the string contains single quotes.\n",
    "* Single Quotes ('): Use when the string contains double quotes.\n",
    "* Triple Quotes (''' or \"\"\"): Use for multi-line strings or docstrings."
   ]
  },
  {
   "cell_type": "markdown",
   "id": "a2b4ce27",
   "metadata": {},
   "source": [
    "#### b. **List (list)**"
   ]
  }
 ],
 "metadata": {
  "kernelspec": {
   "display_name": ".venv",
   "language": "python",
   "name": "python3"
  },
  "language_info": {
   "codemirror_mode": {
    "name": "ipython",
    "version": 3
   },
   "file_extension": ".py",
   "mimetype": "text/x-python",
   "name": "python",
   "nbconvert_exporter": "python",
   "pygments_lexer": "ipython3",
   "version": "3.11.9"
  }
 },
 "nbformat": 4,
 "nbformat_minor": 5
}
